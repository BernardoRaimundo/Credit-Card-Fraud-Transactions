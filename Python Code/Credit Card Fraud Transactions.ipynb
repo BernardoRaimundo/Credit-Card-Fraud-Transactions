{
 "cells": [
  {
   "cell_type": "markdown",
   "metadata": {},
   "source": [
    "# Credit Card Fraud Detection\n",
    "\n",
    "## Dataset with credit card transactions information"
   ]
  },
  {
   "cell_type": "markdown",
   "metadata": {},
   "source": [
    "### Dataset description"
   ]
  },
  {
   "cell_type": "markdown",
   "metadata": {},
   "source": [
    "- **Introduction:**\n",
    "\n",
    "Credit card fraud analysis can be viewed as a technique used to detect unusual patterns, outliers. It has many applications in the field of fraud detection, fault detection, system health monitoring among many others.\n",
    "\n",
    "We are going to dive into anomaly detection using a the case of credit card fraud and combat it using the machine learning algorithms. We will use various predictive models in order to find out the accuracy of these models in detecting whether a transaction is a normal payment or a fraud."
   ]
  },
  {
   "cell_type": "markdown",
   "metadata": {},
   "source": [
    "- **Problem:**\n",
    "\n",
    "Credit Card Fraud Detection involves modelling card transactions using the the transaction history based on the ones that turned out to be fraud. It is important that credit card companies are able to recognize fraudulent credit card transactions so that customers are not charged for items that they did not purchase."
   ]
  },
  {
   "cell_type": "markdown",
   "metadata": {},
   "source": [
    "\n",
    "The dataset contains transactions made by credit cards in September 2013 by european cardholders\n",
    "\n",
    "\n",
    "According to the description of the dataset the variables included are:\n",
    "\n",
    "- **Time**: represents the seconds elapsed between that particular transaction and the first transaction in our data.\n",
    "\n",
    "- **Vn** : It contains only numerical input variables which are the result of a PCA transformation. Unfortunately, due to confidentiality issues, additional information regarding the original features cannot be provided.\n",
    "\n",
    "- **Amount**: represents the transaction amount\n",
    "\n",
    "- **Class** : represents out responsive variable where it takes the value of 1 if we are dealing with a fraudulent transaction and 0 gor genuine transactions"
   ]
  },
  {
   "cell_type": "markdown",
   "metadata": {},
   "source": [
    "Dataset: https://www.kaggle.com/mlg-ulb/creditcardfraud"
   ]
  },
  {
   "cell_type": "code",
   "execution_count": 1,
   "metadata": {},
   "outputs": [],
   "source": [
    "import numpy as np\n",
    "import pandas as pd\n",
    "import matplotlib.pyplot as plt\n",
    "import seaborn as sns\n",
    "from sklearn.preprocessing import StandardScaler\n",
    "from sklearn.model_selection import train_test_split\n",
    "from sklearn.tree import DecisionTreeClassifier # Decision tree algorithm\n",
    "from sklearn.neighbors import KNeighborsClassifier # KNN algorithm\n",
    "from sklearn.linear_model import LogisticRegression # Logistic regression algorithm\n",
    "from sklearn.svm import SVC # SVM algorithm\n",
    "from sklearn.ensemble import RandomForestClassifier # Random forest tree algorithm\n",
    "from sklearn.metrics import confusion_matrix # evaluation metric\n",
    "from sklearn.metrics import accuracy_score # evaluation metric\n",
    "from sklearn.metrics import f1_score # evaluation metric\n",
    "from sklearn.metrics import recall_score # evaluation metric\n",
    "from sklearn.metrics import precision_score # evaluation metric\n",
    "import itertools\n",
    "import time\n",
    "from sklearn.metrics import classification_report\n",
    "from sklearn.metrics import roc_curve, roc_auc_score\n",
    "from sklearn import metrics\n",
    "from sklearn.preprocessing import MinMaxScaler\n",
    "import collections\n",
    "from imblearn.over_sampling import SMOTE"
   ]
  },
  {
   "cell_type": "markdown",
   "metadata": {},
   "source": [
    "### Data understanding"
   ]
  },
  {
   "cell_type": "markdown",
   "metadata": {},
   "source": [
    "- Load data"
   ]
  },
  {
   "cell_type": "code",
   "execution_count": 2,
   "metadata": {},
   "outputs": [
    {
     "data": {
      "text/html": [
       "<div>\n",
       "<style scoped>\n",
       "    .dataframe tbody tr th:only-of-type {\n",
       "        vertical-align: middle;\n",
       "    }\n",
       "\n",
       "    .dataframe tbody tr th {\n",
       "        vertical-align: top;\n",
       "    }\n",
       "\n",
       "    .dataframe thead th {\n",
       "        text-align: right;\n",
       "    }\n",
       "</style>\n",
       "<table border=\"1\" class=\"dataframe\">\n",
       "  <thead>\n",
       "    <tr style=\"text-align: right;\">\n",
       "      <th></th>\n",
       "      <th>Time</th>\n",
       "      <th>V1</th>\n",
       "      <th>V2</th>\n",
       "      <th>V3</th>\n",
       "      <th>V4</th>\n",
       "      <th>V5</th>\n",
       "      <th>V6</th>\n",
       "      <th>V7</th>\n",
       "      <th>V8</th>\n",
       "      <th>V9</th>\n",
       "      <th>...</th>\n",
       "      <th>V21</th>\n",
       "      <th>V22</th>\n",
       "      <th>V23</th>\n",
       "      <th>V24</th>\n",
       "      <th>V25</th>\n",
       "      <th>V26</th>\n",
       "      <th>V27</th>\n",
       "      <th>V28</th>\n",
       "      <th>Amount</th>\n",
       "      <th>Class</th>\n",
       "    </tr>\n",
       "  </thead>\n",
       "  <tbody>\n",
       "    <tr>\n",
       "      <th>0</th>\n",
       "      <td>0.0</td>\n",
       "      <td>-1.359807</td>\n",
       "      <td>-0.072781</td>\n",
       "      <td>2.536347</td>\n",
       "      <td>1.378155</td>\n",
       "      <td>-0.338321</td>\n",
       "      <td>0.462388</td>\n",
       "      <td>0.239599</td>\n",
       "      <td>0.098698</td>\n",
       "      <td>0.363787</td>\n",
       "      <td>...</td>\n",
       "      <td>-0.018307</td>\n",
       "      <td>0.277838</td>\n",
       "      <td>-0.110474</td>\n",
       "      <td>0.066928</td>\n",
       "      <td>0.128539</td>\n",
       "      <td>-0.189115</td>\n",
       "      <td>0.133558</td>\n",
       "      <td>-0.021053</td>\n",
       "      <td>149.62</td>\n",
       "      <td>0</td>\n",
       "    </tr>\n",
       "    <tr>\n",
       "      <th>1</th>\n",
       "      <td>0.0</td>\n",
       "      <td>1.191857</td>\n",
       "      <td>0.266151</td>\n",
       "      <td>0.166480</td>\n",
       "      <td>0.448154</td>\n",
       "      <td>0.060018</td>\n",
       "      <td>-0.082361</td>\n",
       "      <td>-0.078803</td>\n",
       "      <td>0.085102</td>\n",
       "      <td>-0.255425</td>\n",
       "      <td>...</td>\n",
       "      <td>-0.225775</td>\n",
       "      <td>-0.638672</td>\n",
       "      <td>0.101288</td>\n",
       "      <td>-0.339846</td>\n",
       "      <td>0.167170</td>\n",
       "      <td>0.125895</td>\n",
       "      <td>-0.008983</td>\n",
       "      <td>0.014724</td>\n",
       "      <td>2.69</td>\n",
       "      <td>0</td>\n",
       "    </tr>\n",
       "    <tr>\n",
       "      <th>2</th>\n",
       "      <td>1.0</td>\n",
       "      <td>-1.358354</td>\n",
       "      <td>-1.340163</td>\n",
       "      <td>1.773209</td>\n",
       "      <td>0.379780</td>\n",
       "      <td>-0.503198</td>\n",
       "      <td>1.800499</td>\n",
       "      <td>0.791461</td>\n",
       "      <td>0.247676</td>\n",
       "      <td>-1.514654</td>\n",
       "      <td>...</td>\n",
       "      <td>0.247998</td>\n",
       "      <td>0.771679</td>\n",
       "      <td>0.909412</td>\n",
       "      <td>-0.689281</td>\n",
       "      <td>-0.327642</td>\n",
       "      <td>-0.139097</td>\n",
       "      <td>-0.055353</td>\n",
       "      <td>-0.059752</td>\n",
       "      <td>378.66</td>\n",
       "      <td>0</td>\n",
       "    </tr>\n",
       "    <tr>\n",
       "      <th>3</th>\n",
       "      <td>1.0</td>\n",
       "      <td>-0.966272</td>\n",
       "      <td>-0.185226</td>\n",
       "      <td>1.792993</td>\n",
       "      <td>-0.863291</td>\n",
       "      <td>-0.010309</td>\n",
       "      <td>1.247203</td>\n",
       "      <td>0.237609</td>\n",
       "      <td>0.377436</td>\n",
       "      <td>-1.387024</td>\n",
       "      <td>...</td>\n",
       "      <td>-0.108300</td>\n",
       "      <td>0.005274</td>\n",
       "      <td>-0.190321</td>\n",
       "      <td>-1.175575</td>\n",
       "      <td>0.647376</td>\n",
       "      <td>-0.221929</td>\n",
       "      <td>0.062723</td>\n",
       "      <td>0.061458</td>\n",
       "      <td>123.50</td>\n",
       "      <td>0</td>\n",
       "    </tr>\n",
       "    <tr>\n",
       "      <th>4</th>\n",
       "      <td>2.0</td>\n",
       "      <td>-1.158233</td>\n",
       "      <td>0.877737</td>\n",
       "      <td>1.548718</td>\n",
       "      <td>0.403034</td>\n",
       "      <td>-0.407193</td>\n",
       "      <td>0.095921</td>\n",
       "      <td>0.592941</td>\n",
       "      <td>-0.270533</td>\n",
       "      <td>0.817739</td>\n",
       "      <td>...</td>\n",
       "      <td>-0.009431</td>\n",
       "      <td>0.798278</td>\n",
       "      <td>-0.137458</td>\n",
       "      <td>0.141267</td>\n",
       "      <td>-0.206010</td>\n",
       "      <td>0.502292</td>\n",
       "      <td>0.219422</td>\n",
       "      <td>0.215153</td>\n",
       "      <td>69.99</td>\n",
       "      <td>0</td>\n",
       "    </tr>\n",
       "    <tr>\n",
       "      <th>5</th>\n",
       "      <td>2.0</td>\n",
       "      <td>-0.425966</td>\n",
       "      <td>0.960523</td>\n",
       "      <td>1.141109</td>\n",
       "      <td>-0.168252</td>\n",
       "      <td>0.420987</td>\n",
       "      <td>-0.029728</td>\n",
       "      <td>0.476201</td>\n",
       "      <td>0.260314</td>\n",
       "      <td>-0.568671</td>\n",
       "      <td>...</td>\n",
       "      <td>-0.208254</td>\n",
       "      <td>-0.559825</td>\n",
       "      <td>-0.026398</td>\n",
       "      <td>-0.371427</td>\n",
       "      <td>-0.232794</td>\n",
       "      <td>0.105915</td>\n",
       "      <td>0.253844</td>\n",
       "      <td>0.081080</td>\n",
       "      <td>3.67</td>\n",
       "      <td>0</td>\n",
       "    </tr>\n",
       "    <tr>\n",
       "      <th>6</th>\n",
       "      <td>4.0</td>\n",
       "      <td>1.229658</td>\n",
       "      <td>0.141004</td>\n",
       "      <td>0.045371</td>\n",
       "      <td>1.202613</td>\n",
       "      <td>0.191881</td>\n",
       "      <td>0.272708</td>\n",
       "      <td>-0.005159</td>\n",
       "      <td>0.081213</td>\n",
       "      <td>0.464960</td>\n",
       "      <td>...</td>\n",
       "      <td>-0.167716</td>\n",
       "      <td>-0.270710</td>\n",
       "      <td>-0.154104</td>\n",
       "      <td>-0.780055</td>\n",
       "      <td>0.750137</td>\n",
       "      <td>-0.257237</td>\n",
       "      <td>0.034507</td>\n",
       "      <td>0.005168</td>\n",
       "      <td>4.99</td>\n",
       "      <td>0</td>\n",
       "    </tr>\n",
       "    <tr>\n",
       "      <th>7</th>\n",
       "      <td>7.0</td>\n",
       "      <td>-0.644269</td>\n",
       "      <td>1.417964</td>\n",
       "      <td>1.074380</td>\n",
       "      <td>-0.492199</td>\n",
       "      <td>0.948934</td>\n",
       "      <td>0.428118</td>\n",
       "      <td>1.120631</td>\n",
       "      <td>-3.807864</td>\n",
       "      <td>0.615375</td>\n",
       "      <td>...</td>\n",
       "      <td>1.943465</td>\n",
       "      <td>-1.015455</td>\n",
       "      <td>0.057504</td>\n",
       "      <td>-0.649709</td>\n",
       "      <td>-0.415267</td>\n",
       "      <td>-0.051634</td>\n",
       "      <td>-1.206921</td>\n",
       "      <td>-1.085339</td>\n",
       "      <td>40.80</td>\n",
       "      <td>0</td>\n",
       "    </tr>\n",
       "    <tr>\n",
       "      <th>8</th>\n",
       "      <td>7.0</td>\n",
       "      <td>-0.894286</td>\n",
       "      <td>0.286157</td>\n",
       "      <td>-0.113192</td>\n",
       "      <td>-0.271526</td>\n",
       "      <td>2.669599</td>\n",
       "      <td>3.721818</td>\n",
       "      <td>0.370145</td>\n",
       "      <td>0.851084</td>\n",
       "      <td>-0.392048</td>\n",
       "      <td>...</td>\n",
       "      <td>-0.073425</td>\n",
       "      <td>-0.268092</td>\n",
       "      <td>-0.204233</td>\n",
       "      <td>1.011592</td>\n",
       "      <td>0.373205</td>\n",
       "      <td>-0.384157</td>\n",
       "      <td>0.011747</td>\n",
       "      <td>0.142404</td>\n",
       "      <td>93.20</td>\n",
       "      <td>0</td>\n",
       "    </tr>\n",
       "    <tr>\n",
       "      <th>9</th>\n",
       "      <td>9.0</td>\n",
       "      <td>-0.338262</td>\n",
       "      <td>1.119593</td>\n",
       "      <td>1.044367</td>\n",
       "      <td>-0.222187</td>\n",
       "      <td>0.499361</td>\n",
       "      <td>-0.246761</td>\n",
       "      <td>0.651583</td>\n",
       "      <td>0.069539</td>\n",
       "      <td>-0.736727</td>\n",
       "      <td>...</td>\n",
       "      <td>-0.246914</td>\n",
       "      <td>-0.633753</td>\n",
       "      <td>-0.120794</td>\n",
       "      <td>-0.385050</td>\n",
       "      <td>-0.069733</td>\n",
       "      <td>0.094199</td>\n",
       "      <td>0.246219</td>\n",
       "      <td>0.083076</td>\n",
       "      <td>3.68</td>\n",
       "      <td>0</td>\n",
       "    </tr>\n",
       "    <tr>\n",
       "      <th>10</th>\n",
       "      <td>10.0</td>\n",
       "      <td>1.449044</td>\n",
       "      <td>-1.176339</td>\n",
       "      <td>0.913860</td>\n",
       "      <td>-1.375667</td>\n",
       "      <td>-1.971383</td>\n",
       "      <td>-0.629152</td>\n",
       "      <td>-1.423236</td>\n",
       "      <td>0.048456</td>\n",
       "      <td>-1.720408</td>\n",
       "      <td>...</td>\n",
       "      <td>-0.009302</td>\n",
       "      <td>0.313894</td>\n",
       "      <td>0.027740</td>\n",
       "      <td>0.500512</td>\n",
       "      <td>0.251367</td>\n",
       "      <td>-0.129478</td>\n",
       "      <td>0.042850</td>\n",
       "      <td>0.016253</td>\n",
       "      <td>7.80</td>\n",
       "      <td>0</td>\n",
       "    </tr>\n",
       "    <tr>\n",
       "      <th>11</th>\n",
       "      <td>10.0</td>\n",
       "      <td>0.384978</td>\n",
       "      <td>0.616109</td>\n",
       "      <td>-0.874300</td>\n",
       "      <td>-0.094019</td>\n",
       "      <td>2.924584</td>\n",
       "      <td>3.317027</td>\n",
       "      <td>0.470455</td>\n",
       "      <td>0.538247</td>\n",
       "      <td>-0.558895</td>\n",
       "      <td>...</td>\n",
       "      <td>0.049924</td>\n",
       "      <td>0.238422</td>\n",
       "      <td>0.009130</td>\n",
       "      <td>0.996710</td>\n",
       "      <td>-0.767315</td>\n",
       "      <td>-0.492208</td>\n",
       "      <td>0.042472</td>\n",
       "      <td>-0.054337</td>\n",
       "      <td>9.99</td>\n",
       "      <td>0</td>\n",
       "    </tr>\n",
       "    <tr>\n",
       "      <th>12</th>\n",
       "      <td>10.0</td>\n",
       "      <td>1.249999</td>\n",
       "      <td>-1.221637</td>\n",
       "      <td>0.383930</td>\n",
       "      <td>-1.234899</td>\n",
       "      <td>-1.485419</td>\n",
       "      <td>-0.753230</td>\n",
       "      <td>-0.689405</td>\n",
       "      <td>-0.227487</td>\n",
       "      <td>-2.094011</td>\n",
       "      <td>...</td>\n",
       "      <td>-0.231809</td>\n",
       "      <td>-0.483285</td>\n",
       "      <td>0.084668</td>\n",
       "      <td>0.392831</td>\n",
       "      <td>0.161135</td>\n",
       "      <td>-0.354990</td>\n",
       "      <td>0.026416</td>\n",
       "      <td>0.042422</td>\n",
       "      <td>121.50</td>\n",
       "      <td>0</td>\n",
       "    </tr>\n",
       "    <tr>\n",
       "      <th>13</th>\n",
       "      <td>11.0</td>\n",
       "      <td>1.069374</td>\n",
       "      <td>0.287722</td>\n",
       "      <td>0.828613</td>\n",
       "      <td>2.712520</td>\n",
       "      <td>-0.178398</td>\n",
       "      <td>0.337544</td>\n",
       "      <td>-0.096717</td>\n",
       "      <td>0.115982</td>\n",
       "      <td>-0.221083</td>\n",
       "      <td>...</td>\n",
       "      <td>-0.036876</td>\n",
       "      <td>0.074412</td>\n",
       "      <td>-0.071407</td>\n",
       "      <td>0.104744</td>\n",
       "      <td>0.548265</td>\n",
       "      <td>0.104094</td>\n",
       "      <td>0.021491</td>\n",
       "      <td>0.021293</td>\n",
       "      <td>27.50</td>\n",
       "      <td>0</td>\n",
       "    </tr>\n",
       "    <tr>\n",
       "      <th>14</th>\n",
       "      <td>12.0</td>\n",
       "      <td>-2.791855</td>\n",
       "      <td>-0.327771</td>\n",
       "      <td>1.641750</td>\n",
       "      <td>1.767473</td>\n",
       "      <td>-0.136588</td>\n",
       "      <td>0.807596</td>\n",
       "      <td>-0.422911</td>\n",
       "      <td>-1.907107</td>\n",
       "      <td>0.755713</td>\n",
       "      <td>...</td>\n",
       "      <td>1.151663</td>\n",
       "      <td>0.222182</td>\n",
       "      <td>1.020586</td>\n",
       "      <td>0.028317</td>\n",
       "      <td>-0.232746</td>\n",
       "      <td>-0.235557</td>\n",
       "      <td>-0.164778</td>\n",
       "      <td>-0.030154</td>\n",
       "      <td>58.80</td>\n",
       "      <td>0</td>\n",
       "    </tr>\n",
       "    <tr>\n",
       "      <th>15</th>\n",
       "      <td>12.0</td>\n",
       "      <td>-0.752417</td>\n",
       "      <td>0.345485</td>\n",
       "      <td>2.057323</td>\n",
       "      <td>-1.468643</td>\n",
       "      <td>-1.158394</td>\n",
       "      <td>-0.077850</td>\n",
       "      <td>-0.608581</td>\n",
       "      <td>0.003603</td>\n",
       "      <td>-0.436167</td>\n",
       "      <td>...</td>\n",
       "      <td>0.499625</td>\n",
       "      <td>1.353650</td>\n",
       "      <td>-0.256573</td>\n",
       "      <td>-0.065084</td>\n",
       "      <td>-0.039124</td>\n",
       "      <td>-0.087086</td>\n",
       "      <td>-0.180998</td>\n",
       "      <td>0.129394</td>\n",
       "      <td>15.99</td>\n",
       "      <td>0</td>\n",
       "    </tr>\n",
       "    <tr>\n",
       "      <th>16</th>\n",
       "      <td>12.0</td>\n",
       "      <td>1.103215</td>\n",
       "      <td>-0.040296</td>\n",
       "      <td>1.267332</td>\n",
       "      <td>1.289091</td>\n",
       "      <td>-0.735997</td>\n",
       "      <td>0.288069</td>\n",
       "      <td>-0.586057</td>\n",
       "      <td>0.189380</td>\n",
       "      <td>0.782333</td>\n",
       "      <td>...</td>\n",
       "      <td>-0.024612</td>\n",
       "      <td>0.196002</td>\n",
       "      <td>0.013802</td>\n",
       "      <td>0.103758</td>\n",
       "      <td>0.364298</td>\n",
       "      <td>-0.382261</td>\n",
       "      <td>0.092809</td>\n",
       "      <td>0.037051</td>\n",
       "      <td>12.99</td>\n",
       "      <td>0</td>\n",
       "    </tr>\n",
       "    <tr>\n",
       "      <th>17</th>\n",
       "      <td>13.0</td>\n",
       "      <td>-0.436905</td>\n",
       "      <td>0.918966</td>\n",
       "      <td>0.924591</td>\n",
       "      <td>-0.727219</td>\n",
       "      <td>0.915679</td>\n",
       "      <td>-0.127867</td>\n",
       "      <td>0.707642</td>\n",
       "      <td>0.087962</td>\n",
       "      <td>-0.665271</td>\n",
       "      <td>...</td>\n",
       "      <td>-0.194796</td>\n",
       "      <td>-0.672638</td>\n",
       "      <td>-0.156858</td>\n",
       "      <td>-0.888386</td>\n",
       "      <td>-0.342413</td>\n",
       "      <td>-0.049027</td>\n",
       "      <td>0.079692</td>\n",
       "      <td>0.131024</td>\n",
       "      <td>0.89</td>\n",
       "      <td>0</td>\n",
       "    </tr>\n",
       "    <tr>\n",
       "      <th>18</th>\n",
       "      <td>14.0</td>\n",
       "      <td>-5.401258</td>\n",
       "      <td>-5.450148</td>\n",
       "      <td>1.186305</td>\n",
       "      <td>1.736239</td>\n",
       "      <td>3.049106</td>\n",
       "      <td>-1.763406</td>\n",
       "      <td>-1.559738</td>\n",
       "      <td>0.160842</td>\n",
       "      <td>1.233090</td>\n",
       "      <td>...</td>\n",
       "      <td>-0.503600</td>\n",
       "      <td>0.984460</td>\n",
       "      <td>2.458589</td>\n",
       "      <td>0.042119</td>\n",
       "      <td>-0.481631</td>\n",
       "      <td>-0.621272</td>\n",
       "      <td>0.392053</td>\n",
       "      <td>0.949594</td>\n",
       "      <td>46.80</td>\n",
       "      <td>0</td>\n",
       "    </tr>\n",
       "    <tr>\n",
       "      <th>19</th>\n",
       "      <td>15.0</td>\n",
       "      <td>1.492936</td>\n",
       "      <td>-1.029346</td>\n",
       "      <td>0.454795</td>\n",
       "      <td>-1.438026</td>\n",
       "      <td>-1.555434</td>\n",
       "      <td>-0.720961</td>\n",
       "      <td>-1.080664</td>\n",
       "      <td>-0.053127</td>\n",
       "      <td>-1.978682</td>\n",
       "      <td>...</td>\n",
       "      <td>-0.177650</td>\n",
       "      <td>-0.175074</td>\n",
       "      <td>0.040002</td>\n",
       "      <td>0.295814</td>\n",
       "      <td>0.332931</td>\n",
       "      <td>-0.220385</td>\n",
       "      <td>0.022298</td>\n",
       "      <td>0.007602</td>\n",
       "      <td>5.00</td>\n",
       "      <td>0</td>\n",
       "    </tr>\n",
       "  </tbody>\n",
       "</table>\n",
       "<p>20 rows × 31 columns</p>\n",
       "</div>"
      ],
      "text/plain": [
       "    Time        V1        V2        V3        V4        V5        V6  \\\n",
       "0    0.0 -1.359807 -0.072781  2.536347  1.378155 -0.338321  0.462388   \n",
       "1    0.0  1.191857  0.266151  0.166480  0.448154  0.060018 -0.082361   \n",
       "2    1.0 -1.358354 -1.340163  1.773209  0.379780 -0.503198  1.800499   \n",
       "3    1.0 -0.966272 -0.185226  1.792993 -0.863291 -0.010309  1.247203   \n",
       "4    2.0 -1.158233  0.877737  1.548718  0.403034 -0.407193  0.095921   \n",
       "5    2.0 -0.425966  0.960523  1.141109 -0.168252  0.420987 -0.029728   \n",
       "6    4.0  1.229658  0.141004  0.045371  1.202613  0.191881  0.272708   \n",
       "7    7.0 -0.644269  1.417964  1.074380 -0.492199  0.948934  0.428118   \n",
       "8    7.0 -0.894286  0.286157 -0.113192 -0.271526  2.669599  3.721818   \n",
       "9    9.0 -0.338262  1.119593  1.044367 -0.222187  0.499361 -0.246761   \n",
       "10  10.0  1.449044 -1.176339  0.913860 -1.375667 -1.971383 -0.629152   \n",
       "11  10.0  0.384978  0.616109 -0.874300 -0.094019  2.924584  3.317027   \n",
       "12  10.0  1.249999 -1.221637  0.383930 -1.234899 -1.485419 -0.753230   \n",
       "13  11.0  1.069374  0.287722  0.828613  2.712520 -0.178398  0.337544   \n",
       "14  12.0 -2.791855 -0.327771  1.641750  1.767473 -0.136588  0.807596   \n",
       "15  12.0 -0.752417  0.345485  2.057323 -1.468643 -1.158394 -0.077850   \n",
       "16  12.0  1.103215 -0.040296  1.267332  1.289091 -0.735997  0.288069   \n",
       "17  13.0 -0.436905  0.918966  0.924591 -0.727219  0.915679 -0.127867   \n",
       "18  14.0 -5.401258 -5.450148  1.186305  1.736239  3.049106 -1.763406   \n",
       "19  15.0  1.492936 -1.029346  0.454795 -1.438026 -1.555434 -0.720961   \n",
       "\n",
       "          V7        V8        V9  ...       V21       V22       V23       V24  \\\n",
       "0   0.239599  0.098698  0.363787  ... -0.018307  0.277838 -0.110474  0.066928   \n",
       "1  -0.078803  0.085102 -0.255425  ... -0.225775 -0.638672  0.101288 -0.339846   \n",
       "2   0.791461  0.247676 -1.514654  ...  0.247998  0.771679  0.909412 -0.689281   \n",
       "3   0.237609  0.377436 -1.387024  ... -0.108300  0.005274 -0.190321 -1.175575   \n",
       "4   0.592941 -0.270533  0.817739  ... -0.009431  0.798278 -0.137458  0.141267   \n",
       "5   0.476201  0.260314 -0.568671  ... -0.208254 -0.559825 -0.026398 -0.371427   \n",
       "6  -0.005159  0.081213  0.464960  ... -0.167716 -0.270710 -0.154104 -0.780055   \n",
       "7   1.120631 -3.807864  0.615375  ...  1.943465 -1.015455  0.057504 -0.649709   \n",
       "8   0.370145  0.851084 -0.392048  ... -0.073425 -0.268092 -0.204233  1.011592   \n",
       "9   0.651583  0.069539 -0.736727  ... -0.246914 -0.633753 -0.120794 -0.385050   \n",
       "10 -1.423236  0.048456 -1.720408  ... -0.009302  0.313894  0.027740  0.500512   \n",
       "11  0.470455  0.538247 -0.558895  ...  0.049924  0.238422  0.009130  0.996710   \n",
       "12 -0.689405 -0.227487 -2.094011  ... -0.231809 -0.483285  0.084668  0.392831   \n",
       "13 -0.096717  0.115982 -0.221083  ... -0.036876  0.074412 -0.071407  0.104744   \n",
       "14 -0.422911 -1.907107  0.755713  ...  1.151663  0.222182  1.020586  0.028317   \n",
       "15 -0.608581  0.003603 -0.436167  ...  0.499625  1.353650 -0.256573 -0.065084   \n",
       "16 -0.586057  0.189380  0.782333  ... -0.024612  0.196002  0.013802  0.103758   \n",
       "17  0.707642  0.087962 -0.665271  ... -0.194796 -0.672638 -0.156858 -0.888386   \n",
       "18 -1.559738  0.160842  1.233090  ... -0.503600  0.984460  2.458589  0.042119   \n",
       "19 -1.080664 -0.053127 -1.978682  ... -0.177650 -0.175074  0.040002  0.295814   \n",
       "\n",
       "         V25       V26       V27       V28  Amount  Class  \n",
       "0   0.128539 -0.189115  0.133558 -0.021053  149.62      0  \n",
       "1   0.167170  0.125895 -0.008983  0.014724    2.69      0  \n",
       "2  -0.327642 -0.139097 -0.055353 -0.059752  378.66      0  \n",
       "3   0.647376 -0.221929  0.062723  0.061458  123.50      0  \n",
       "4  -0.206010  0.502292  0.219422  0.215153   69.99      0  \n",
       "5  -0.232794  0.105915  0.253844  0.081080    3.67      0  \n",
       "6   0.750137 -0.257237  0.034507  0.005168    4.99      0  \n",
       "7  -0.415267 -0.051634 -1.206921 -1.085339   40.80      0  \n",
       "8   0.373205 -0.384157  0.011747  0.142404   93.20      0  \n",
       "9  -0.069733  0.094199  0.246219  0.083076    3.68      0  \n",
       "10  0.251367 -0.129478  0.042850  0.016253    7.80      0  \n",
       "11 -0.767315 -0.492208  0.042472 -0.054337    9.99      0  \n",
       "12  0.161135 -0.354990  0.026416  0.042422  121.50      0  \n",
       "13  0.548265  0.104094  0.021491  0.021293   27.50      0  \n",
       "14 -0.232746 -0.235557 -0.164778 -0.030154   58.80      0  \n",
       "15 -0.039124 -0.087086 -0.180998  0.129394   15.99      0  \n",
       "16  0.364298 -0.382261  0.092809  0.037051   12.99      0  \n",
       "17 -0.342413 -0.049027  0.079692  0.131024    0.89      0  \n",
       "18 -0.481631 -0.621272  0.392053  0.949594   46.80      0  \n",
       "19  0.332931 -0.220385  0.022298  0.007602    5.00      0  \n",
       "\n",
       "[20 rows x 31 columns]"
      ]
     },
     "execution_count": 2,
     "metadata": {},
     "output_type": "execute_result"
    }
   ],
   "source": [
    "df = pd.read_csv('creditcard.csv', sep=',')\n",
    "df.head(20)"
   ]
  },
  {
   "cell_type": "code",
   "execution_count": 3,
   "metadata": {},
   "outputs": [
    {
     "name": "stdout",
     "output_type": "stream",
     "text": [
      "This dataframe has 284807 rows and 31 columns.\n"
     ]
    }
   ],
   "source": [
    "### Check Number of columns and rows\n",
    "\n",
    "print('This dataframe has {} rows and {} columns.'.format(df.shape[0], df.shape[1]))"
   ]
  },
  {
   "cell_type": "code",
   "execution_count": 4,
   "metadata": {},
   "outputs": [
    {
     "name": "stdout",
     "output_type": "stream",
     "text": [
      "<class 'pandas.core.frame.DataFrame'>\n",
      "RangeIndex: 284807 entries, 0 to 284806\n",
      "Data columns (total 31 columns):\n",
      " #   Column  Non-Null Count   Dtype  \n",
      "---  ------  --------------   -----  \n",
      " 0   Time    284807 non-null  float64\n",
      " 1   V1      284807 non-null  float64\n",
      " 2   V2      284807 non-null  float64\n",
      " 3   V3      284807 non-null  float64\n",
      " 4   V4      284807 non-null  float64\n",
      " 5   V5      284807 non-null  float64\n",
      " 6   V6      284807 non-null  float64\n",
      " 7   V7      284807 non-null  float64\n",
      " 8   V8      284807 non-null  float64\n",
      " 9   V9      284807 non-null  float64\n",
      " 10  V10     284807 non-null  float64\n",
      " 11  V11     284807 non-null  float64\n",
      " 12  V12     284807 non-null  float64\n",
      " 13  V13     284807 non-null  float64\n",
      " 14  V14     284807 non-null  float64\n",
      " 15  V15     284807 non-null  float64\n",
      " 16  V16     284807 non-null  float64\n",
      " 17  V17     284807 non-null  float64\n",
      " 18  V18     284807 non-null  float64\n",
      " 19  V19     284807 non-null  float64\n",
      " 20  V20     284807 non-null  float64\n",
      " 21  V21     284807 non-null  float64\n",
      " 22  V22     284807 non-null  float64\n",
      " 23  V23     284807 non-null  float64\n",
      " 24  V24     284807 non-null  float64\n",
      " 25  V25     284807 non-null  float64\n",
      " 26  V26     284807 non-null  float64\n",
      " 27  V27     284807 non-null  float64\n",
      " 28  V28     284807 non-null  float64\n",
      " 29  Amount  284807 non-null  float64\n",
      " 30  Class   284807 non-null  int64  \n",
      "dtypes: float64(30), int64(1)\n",
      "memory usage: 67.4 MB\n"
     ]
    }
   ],
   "source": [
    "### Check variable types\n",
    "\n",
    "df.info()"
   ]
  },
  {
   "cell_type": "code",
   "execution_count": 5,
   "metadata": {},
   "outputs": [
    {
     "name": "stdout",
     "output_type": "stream",
     "text": [
      "Names of columns  ['Time', 'V1', 'V2', 'V3', 'V4', 'V5', 'V6', 'V7', 'V8', 'V9', 'V10', 'V11', 'V12', 'V13', 'V14', 'V15', 'V16', 'V17', 'V18', 'V19', 'V20', 'V21', 'V22', 'V23', 'V24', 'V25', 'V26', 'V27', 'V28', 'Amount', 'Class']\n"
     ]
    }
   ],
   "source": [
    "print(\"Names of columns \", list(df.columns))"
   ]
  },
  {
   "cell_type": "code",
   "execution_count": 6,
   "metadata": {},
   "outputs": [
    {
     "data": {
      "text/html": [
       "<div>\n",
       "<style scoped>\n",
       "    .dataframe tbody tr th:only-of-type {\n",
       "        vertical-align: middle;\n",
       "    }\n",
       "\n",
       "    .dataframe tbody tr th {\n",
       "        vertical-align: top;\n",
       "    }\n",
       "\n",
       "    .dataframe thead th {\n",
       "        text-align: right;\n",
       "    }\n",
       "</style>\n",
       "<table border=\"1\" class=\"dataframe\">\n",
       "  <thead>\n",
       "    <tr style=\"text-align: right;\">\n",
       "      <th></th>\n",
       "      <th>Time</th>\n",
       "      <th>V1</th>\n",
       "      <th>V2</th>\n",
       "      <th>V3</th>\n",
       "      <th>V4</th>\n",
       "      <th>V5</th>\n",
       "      <th>V6</th>\n",
       "      <th>V7</th>\n",
       "      <th>V8</th>\n",
       "      <th>V9</th>\n",
       "      <th>...</th>\n",
       "      <th>V21</th>\n",
       "      <th>V22</th>\n",
       "      <th>V23</th>\n",
       "      <th>V24</th>\n",
       "      <th>V25</th>\n",
       "      <th>V26</th>\n",
       "      <th>V27</th>\n",
       "      <th>V28</th>\n",
       "      <th>Amount</th>\n",
       "      <th>Class</th>\n",
       "    </tr>\n",
       "  </thead>\n",
       "  <tbody>\n",
       "    <tr>\n",
       "      <th>Total</th>\n",
       "      <td>0</td>\n",
       "      <td>0</td>\n",
       "      <td>0</td>\n",
       "      <td>0</td>\n",
       "      <td>0</td>\n",
       "      <td>0</td>\n",
       "      <td>0</td>\n",
       "      <td>0</td>\n",
       "      <td>0</td>\n",
       "      <td>0</td>\n",
       "      <td>...</td>\n",
       "      <td>0</td>\n",
       "      <td>0</td>\n",
       "      <td>0</td>\n",
       "      <td>0</td>\n",
       "      <td>0</td>\n",
       "      <td>0</td>\n",
       "      <td>0</td>\n",
       "      <td>0</td>\n",
       "      <td>0</td>\n",
       "      <td>0</td>\n",
       "    </tr>\n",
       "    <tr>\n",
       "      <th>Percent</th>\n",
       "      <td>0</td>\n",
       "      <td>0</td>\n",
       "      <td>0</td>\n",
       "      <td>0</td>\n",
       "      <td>0</td>\n",
       "      <td>0</td>\n",
       "      <td>0</td>\n",
       "      <td>0</td>\n",
       "      <td>0</td>\n",
       "      <td>0</td>\n",
       "      <td>...</td>\n",
       "      <td>0</td>\n",
       "      <td>0</td>\n",
       "      <td>0</td>\n",
       "      <td>0</td>\n",
       "      <td>0</td>\n",
       "      <td>0</td>\n",
       "      <td>0</td>\n",
       "      <td>0</td>\n",
       "      <td>0</td>\n",
       "      <td>0</td>\n",
       "    </tr>\n",
       "    <tr>\n",
       "      <th>Types</th>\n",
       "      <td>float64</td>\n",
       "      <td>float64</td>\n",
       "      <td>float64</td>\n",
       "      <td>float64</td>\n",
       "      <td>float64</td>\n",
       "      <td>float64</td>\n",
       "      <td>float64</td>\n",
       "      <td>float64</td>\n",
       "      <td>float64</td>\n",
       "      <td>float64</td>\n",
       "      <td>...</td>\n",
       "      <td>float64</td>\n",
       "      <td>float64</td>\n",
       "      <td>float64</td>\n",
       "      <td>float64</td>\n",
       "      <td>float64</td>\n",
       "      <td>float64</td>\n",
       "      <td>float64</td>\n",
       "      <td>float64</td>\n",
       "      <td>float64</td>\n",
       "      <td>int64</td>\n",
       "    </tr>\n",
       "  </tbody>\n",
       "</table>\n",
       "<p>3 rows × 31 columns</p>\n",
       "</div>"
      ],
      "text/plain": [
       "            Time       V1       V2       V3       V4       V5       V6  \\\n",
       "Total          0        0        0        0        0        0        0   \n",
       "Percent        0        0        0        0        0        0        0   \n",
       "Types    float64  float64  float64  float64  float64  float64  float64   \n",
       "\n",
       "              V7       V8       V9  ...      V21      V22      V23      V24  \\\n",
       "Total          0        0        0  ...        0        0        0        0   \n",
       "Percent        0        0        0  ...        0        0        0        0   \n",
       "Types    float64  float64  float64  ...  float64  float64  float64  float64   \n",
       "\n",
       "             V25      V26      V27      V28   Amount  Class  \n",
       "Total          0        0        0        0        0      0  \n",
       "Percent        0        0        0        0        0      0  \n",
       "Types    float64  float64  float64  float64  float64  int64  \n",
       "\n",
       "[3 rows x 31 columns]"
      ]
     },
     "execution_count": 6,
     "metadata": {},
     "output_type": "execute_result"
    }
   ],
   "source": [
    "# Check that there are no missing values\n",
    "\n",
    "def missing_data(df):\n",
    "    total = df.isnull().sum()\n",
    "    percent = (df.isnull().sum()/df.isnull().count()*100)\n",
    "    tt = pd.concat([total, percent], axis=1, keys=['Total', 'Percent'])\n",
    "    types = []\n",
    "    for col in df.columns:\n",
    "        dtype = str(df[col].dtype)\n",
    "        types.append(dtype)\n",
    "    tt['Types'] = types\n",
    "    return(np.transpose(tt))\n",
    "\n",
    "missing_data(df)"
   ]
  },
  {
   "cell_type": "code",
   "execution_count": 7,
   "metadata": {},
   "outputs": [
    {
     "name": "stdout",
     "output_type": "stream",
     "text": [
      "Genuine Data vs Fraudulent Data in % terms\n",
      "99.83 : 0.17\n"
     ]
    }
   ],
   "source": [
    "print(\"Genuine Data vs Fraudulent Data in % terms\")\n",
    "\n",
    "print(round(df['Class'].value_counts()[0]/len(df) * 100,2),':', round(df['Class'].value_counts()[1]/len(df) * 100,2)) ### Genuine vs Fraudlent Data in %"
   ]
  },
  {
   "cell_type": "code",
   "execution_count": 8,
   "metadata": {},
   "outputs": [
    {
     "data": {
      "image/png": "[encoded data removed]",
      "text/plain": [
       "<Figure size 1080x1080 with 32 Axes>"
      ]
     },
     "metadata": {
      "needs_background": "light"
     },
     "output_type": "display_data"
    }
   ],
   "source": [
    "# Do histograms on all numeric variables\n",
    "## Some variables show some skewed behaviour\n",
    "\n",
    "numerical=df.select_dtypes(include=[np.number]).columns.tolist()\n",
    "df[numerical].hist(bins=15, figsize=(15, 15), layout=(8, 4), xlabelsize=8, ylabelsize=8);"
   ]
  },
  {
   "cell_type": "code",
   "execution_count": 9,
   "metadata": {},
   "outputs": [
    {
     "name": "stdout",
     "output_type": "stream",
     "text": [
      "0    284315\n",
      "1       492\n",
      "Name: Class, dtype: int64\n"
     ]
    },
    {
     "data": {
      "image/png": "[encoded data removed]",
      "text/plain": [
       "<Figure size 720x360 with 1 Axes>"
      ]
     },
     "metadata": {
      "needs_background": "light"
     },
     "output_type": "display_data"
    }
   ],
   "source": [
    "### Plotting class according to data set in order to see how the data is distributed\n",
    "\n",
    "fig = plt.gcf()\n",
    "\n",
    "fig.set_size_inches(10, 5)  #### Increase plot size (sns specific)\n",
    "\n",
    "print(df['Class'].value_counts())\n",
    "\n",
    "ax = sns.countplot(df['Class'], palette = \"hls\")\n",
    "\n",
    "plt.title(\"Class histogram \\n (0: Genuine || 1: Fraudulent)\")\n",
    "\n",
    "\n",
    "for p in ax.patches:\n",
    "    ax.annotate('{:}'.format(p.get_height()), (p.get_x()+0.3, p.get_height()+20)) ### Add values to countplot\n",
    "\n",
    "plt.grid()\n",
    "plt.show()"
   ]
  },
  {
   "cell_type": "code",
   "execution_count": 10,
   "metadata": {},
   "outputs": [
    {
     "data": {
      "text/html": [
       "<div>\n",
       "<style scoped>\n",
       "    .dataframe tbody tr th:only-of-type {\n",
       "        vertical-align: middle;\n",
       "    }\n",
       "\n",
       "    .dataframe tbody tr th {\n",
       "        vertical-align: top;\n",
       "    }\n",
       "\n",
       "    .dataframe thead th {\n",
       "        text-align: right;\n",
       "    }\n",
       "</style>\n",
       "<table border=\"1\" class=\"dataframe\">\n",
       "  <thead>\n",
       "    <tr style=\"text-align: right;\">\n",
       "      <th></th>\n",
       "      <th>count</th>\n",
       "      <th>mean</th>\n",
       "      <th>std</th>\n",
       "      <th>min</th>\n",
       "      <th>25%</th>\n",
       "      <th>50%</th>\n",
       "      <th>75%</th>\n",
       "      <th>max</th>\n",
       "    </tr>\n",
       "  </thead>\n",
       "  <tbody>\n",
       "    <tr>\n",
       "      <th>Amount</th>\n",
       "      <td>284807.0</td>\n",
       "      <td>88.35</td>\n",
       "      <td>250.12</td>\n",
       "      <td>0.0</td>\n",
       "      <td>5.6</td>\n",
       "      <td>22.0</td>\n",
       "      <td>77.165</td>\n",
       "      <td>25691.16</td>\n",
       "    </tr>\n",
       "  </tbody>\n",
       "</table>\n",
       "</div>"
      ],
      "text/plain": [
       "           count   mean     std  min  25%   50%     75%       max\n",
       "Amount  284807.0  88.35  250.12  0.0  5.6  22.0  77.165  25691.16"
      ]
     },
     "execution_count": 10,
     "metadata": {},
     "output_type": "execute_result"
    }
   ],
   "source": [
    "### Transaction Amount analysis\n",
    "#### Looking at Amount data we may be dealing with some skewness\n",
    "\n",
    "pd.set_option('precision', 3) ## Setting decimal numbers\n",
    "\n",
    "df.loc[:, ['Amount']].describe().T"
   ]
  },
  {
   "cell_type": "code",
   "execution_count": 11,
   "metadata": {},
   "outputs": [
    {
     "data": {
      "image/png": "[encoded data removed]",
      "text/plain": [
       "<Figure size 720x360 with 1 Axes>"
      ]
     },
     "metadata": {
      "needs_background": "light"
     },
     "output_type": "display_data"
    }
   ],
   "source": [
    "### Distribution of Amount\n",
    "\n",
    "plt.figure(figsize=(10,5))\n",
    "\n",
    "amount_val = df['Amount'].values\n",
    "\n",
    "sns.distplot(amount_val, color = \"blue\")\n",
    "\n",
    "plt.title(\"Distribution of Amount Feature\")\n",
    "\n",
    "plt.xlabel(\"Amount\")\n",
    "\n",
    "plt.grid()\n",
    "plt.show()"
   ]
  },
  {
   "cell_type": "code",
   "execution_count": 12,
   "metadata": {},
   "outputs": [
    {
     "data": {
      "text/html": [
       "<div>\n",
       "<style scoped>\n",
       "    .dataframe tbody tr th:only-of-type {\n",
       "        vertical-align: middle;\n",
       "    }\n",
       "\n",
       "    .dataframe tbody tr th {\n",
       "        vertical-align: top;\n",
       "    }\n",
       "\n",
       "    .dataframe thead th {\n",
       "        text-align: right;\n",
       "    }\n",
       "</style>\n",
       "<table border=\"1\" class=\"dataframe\">\n",
       "  <thead>\n",
       "    <tr style=\"text-align: right;\">\n",
       "      <th></th>\n",
       "      <th>count</th>\n",
       "      <th>mean</th>\n",
       "      <th>std</th>\n",
       "      <th>min</th>\n",
       "      <th>25%</th>\n",
       "      <th>50%</th>\n",
       "      <th>75%</th>\n",
       "      <th>max</th>\n",
       "    </tr>\n",
       "  </thead>\n",
       "  <tbody>\n",
       "    <tr>\n",
       "      <th>Time</th>\n",
       "      <td>284807.0</td>\n",
       "      <td>94813.86</td>\n",
       "      <td>47488.146</td>\n",
       "      <td>0.0</td>\n",
       "      <td>54201.5</td>\n",
       "      <td>84692.0</td>\n",
       "      <td>139320.5</td>\n",
       "      <td>172792.0</td>\n",
       "    </tr>\n",
       "  </tbody>\n",
       "</table>\n",
       "</div>"
      ],
      "text/plain": [
       "         count      mean        std  min      25%      50%       75%       max\n",
       "Time  284807.0  94813.86  47488.146  0.0  54201.5  84692.0  139320.5  172792.0"
      ]
     },
     "execution_count": 12,
     "metadata": {},
     "output_type": "execute_result"
    }
   ],
   "source": [
    "### Time analysis\n",
    "\n",
    "pd.set_option('precision', 3) ## Setting decimal numbers\n",
    "\n",
    "df.loc[:, ['Time']].describe().T"
   ]
  },
  {
   "cell_type": "code",
   "execution_count": 13,
   "metadata": {},
   "outputs": [
    {
     "data": {
      "image/png": "[encoded data removed]",
      "text/plain": [
       "<Figure size 720x360 with 1 Axes>"
      ]
     },
     "metadata": {
      "needs_background": "light"
     },
     "output_type": "display_data"
    }
   ],
   "source": [
    "### Less transactions occur at night time\n",
    "\n",
    "plt.figure(figsize=(10,5))\n",
    "\n",
    "time_val = df['Time'].values\n",
    "\n",
    "sns.distplot(time_val, color = \"green\")\n",
    "\n",
    "plt.title(\"Distribution of Time Feature\")\n",
    "\n",
    "plt.xlabel(\"Time (in seconds)\")\n",
    "\n",
    "plt.grid()\n",
    "plt.show()"
   ]
  },
  {
   "cell_type": "markdown",
   "metadata": {},
   "source": [
    "- Creating two dataframes according to the Class feature"
   ]
  },
  {
   "cell_type": "code",
   "execution_count": 14,
   "metadata": {},
   "outputs": [],
   "source": [
    "fraud_data = df.loc[df['Class'] == 1] ### fraudulent data\n",
    "\n",
    "genuine_data = df.loc[df['Class'] == 0] ### genuine data"
   ]
  },
  {
   "cell_type": "code",
   "execution_count": 15,
   "metadata": {},
   "outputs": [
    {
     "data": {
      "text/html": [
       "<div>\n",
       "<style scoped>\n",
       "    .dataframe tbody tr th:only-of-type {\n",
       "        vertical-align: middle;\n",
       "    }\n",
       "\n",
       "    .dataframe tbody tr th {\n",
       "        vertical-align: top;\n",
       "    }\n",
       "\n",
       "    .dataframe thead th {\n",
       "        text-align: right;\n",
       "    }\n",
       "</style>\n",
       "<table border=\"1\" class=\"dataframe\">\n",
       "  <thead>\n",
       "    <tr style=\"text-align: right;\">\n",
       "      <th></th>\n",
       "      <th>count</th>\n",
       "      <th>mean</th>\n",
       "      <th>std</th>\n",
       "      <th>min</th>\n",
       "      <th>25%</th>\n",
       "      <th>50%</th>\n",
       "      <th>75%</th>\n",
       "      <th>max</th>\n",
       "    </tr>\n",
       "  </thead>\n",
       "  <tbody>\n",
       "    <tr>\n",
       "      <th>Amount</th>\n",
       "      <td>492.0</td>\n",
       "      <td>122.211</td>\n",
       "      <td>256.683</td>\n",
       "      <td>0.0</td>\n",
       "      <td>1.0</td>\n",
       "      <td>9.25</td>\n",
       "      <td>105.89</td>\n",
       "      <td>2125.87</td>\n",
       "    </tr>\n",
       "  </tbody>\n",
       "</table>\n",
       "</div>"
      ],
      "text/plain": [
       "        count     mean      std  min  25%   50%     75%      max\n",
       "Amount  492.0  122.211  256.683  0.0  1.0  9.25  105.89  2125.87"
      ]
     },
     "execution_count": 15,
     "metadata": {},
     "output_type": "execute_result"
    }
   ],
   "source": [
    "### Fraud Data Statistics\n",
    "\n",
    "fraud_data.loc[:, ['Amount']].describe().T"
   ]
  },
  {
   "cell_type": "code",
   "execution_count": 16,
   "metadata": {},
   "outputs": [
    {
     "data": {
      "text/html": [
       "<div>\n",
       "<style scoped>\n",
       "    .dataframe tbody tr th:only-of-type {\n",
       "        vertical-align: middle;\n",
       "    }\n",
       "\n",
       "    .dataframe tbody tr th {\n",
       "        vertical-align: top;\n",
       "    }\n",
       "\n",
       "    .dataframe thead th {\n",
       "        text-align: right;\n",
       "    }\n",
       "</style>\n",
       "<table border=\"1\" class=\"dataframe\">\n",
       "  <thead>\n",
       "    <tr style=\"text-align: right;\">\n",
       "      <th></th>\n",
       "      <th>count</th>\n",
       "      <th>mean</th>\n",
       "      <th>std</th>\n",
       "      <th>min</th>\n",
       "      <th>25%</th>\n",
       "      <th>50%</th>\n",
       "      <th>75%</th>\n",
       "      <th>max</th>\n",
       "    </tr>\n",
       "  </thead>\n",
       "  <tbody>\n",
       "    <tr>\n",
       "      <th>Amount</th>\n",
       "      <td>284315.0</td>\n",
       "      <td>88.291</td>\n",
       "      <td>250.105</td>\n",
       "      <td>0.0</td>\n",
       "      <td>5.65</td>\n",
       "      <td>22.0</td>\n",
       "      <td>77.05</td>\n",
       "      <td>25691.16</td>\n",
       "    </tr>\n",
       "  </tbody>\n",
       "</table>\n",
       "</div>"
      ],
      "text/plain": [
       "           count    mean      std  min   25%   50%    75%       max\n",
       "Amount  284315.0  88.291  250.105  0.0  5.65  22.0  77.05  25691.16"
      ]
     },
     "execution_count": 16,
     "metadata": {},
     "output_type": "execute_result"
    }
   ],
   "source": [
    "### Genuine Data Statistics\n",
    "\n",
    "genuine_data.loc[:, ['Amount']].describe().T"
   ]
  },
  {
   "cell_type": "code",
   "execution_count": 17,
   "metadata": {},
   "outputs": [
    {
     "data": {
      "image/png": "[encoded data removed]",
      "text/plain": [
       "<Figure size 1080x720 with 2 Axes>"
      ]
     },
     "metadata": {
      "needs_background": "light"
     },
     "output_type": "display_data"
    }
   ],
   "source": [
    "### Scatterplots\n",
    "\n",
    "\n",
    "f, (ax1, ax2) = plt.subplots(2, 1, sharex=True, figsize=(15, 10))\n",
    "\n",
    "f.suptitle('Time of transaction vs Amount by class') ### Main title\n",
    "\n",
    "ax1.scatter(fraud_data.Time, fraud_data.Amount, color = \"r\")\n",
    "\n",
    "ax1.set_title('Fraud')\n",
    "\n",
    "ax2.scatter(genuine_data.Time, genuine_data.Amount)\n",
    "\n",
    "ax2.set_title('Genuine')\n",
    "\n",
    "plt.xlabel('Time (in Seconds)')\n",
    "plt.ylabel('Amount')\n",
    "\n",
    "plt.show()"
   ]
  },
  {
   "cell_type": "code",
   "execution_count": 18,
   "metadata": {},
   "outputs": [
    {
     "data": {
      "image/png": "[encoded data removed]",
      "text/plain": [
       "<Figure size 1080x720 with 2 Axes>"
      ]
     },
     "metadata": {
      "needs_background": "light"
     },
     "output_type": "display_data"
    }
   ],
   "source": [
    "f, (ax1, ax2) = plt.subplots(2, 1, sharex=True, figsize=(15, 10))\n",
    "\n",
    "f.suptitle('Amount per transaction by class') ### Main title\n",
    "\n",
    "ax1.hist(fraud_data.Amount, 100, color = \"red\")\n",
    "ax1.set_title('Fraud')\n",
    "\n",
    "ax2.hist(genuine_data.Amount, 100)\n",
    "ax2.set_title('Genuine')\n",
    "\n",
    "plt.xlabel('Amount ($)')\n",
    "plt.ylabel('Number of Transactions')\n",
    "\n",
    "plt.xlim((0, 20000))\n",
    "plt.yscale('log')\n",
    "\n",
    "plt.show()"
   ]
  },
  {
   "cell_type": "markdown",
   "metadata": {},
   "source": [
    "It is clear from the plot that our data is highly imbalanced. There are very few fraudulent transactions in the data. This situation leads to class imbalance problem\n",
    "We have 284315 genuine transactions and 492 fraudulent transactions. If we apply a classification algorithm, the algorithm learns well about the genuine cases because there are a lot of data points. As the fraudulent cases are too few, the algorithm doesn’t learn much about them. So the final model can classify the genuine cases with perfection. But, it will predict a large number of fraudulent cases as genuine.\n",
    "The fraudulent transactions have very small amounts as compared to genuine transactions. The amounts are skewed too. So we need to normalize the amount."
   ]
  },
  {
   "cell_type": "code",
   "execution_count": 19,
   "metadata": {},
   "outputs": [
    {
     "data": {
      "text/html": [
       "<div>\n",
       "<style scoped>\n",
       "    .dataframe tbody tr th:only-of-type {\n",
       "        vertical-align: middle;\n",
       "    }\n",
       "\n",
       "    .dataframe tbody tr th {\n",
       "        vertical-align: top;\n",
       "    }\n",
       "\n",
       "    .dataframe thead th {\n",
       "        text-align: right;\n",
       "    }\n",
       "</style>\n",
       "<table border=\"1\" class=\"dataframe\">\n",
       "  <thead>\n",
       "    <tr style=\"text-align: right;\">\n",
       "      <th></th>\n",
       "      <th>Time</th>\n",
       "      <th>V1</th>\n",
       "      <th>V2</th>\n",
       "      <th>V3</th>\n",
       "      <th>V4</th>\n",
       "      <th>V5</th>\n",
       "      <th>V6</th>\n",
       "      <th>V7</th>\n",
       "      <th>V8</th>\n",
       "      <th>V9</th>\n",
       "      <th>...</th>\n",
       "      <th>V21</th>\n",
       "      <th>V22</th>\n",
       "      <th>V23</th>\n",
       "      <th>V24</th>\n",
       "      <th>V25</th>\n",
       "      <th>V26</th>\n",
       "      <th>V27</th>\n",
       "      <th>V28</th>\n",
       "      <th>Amount</th>\n",
       "      <th>Class</th>\n",
       "    </tr>\n",
       "  </thead>\n",
       "  <tbody>\n",
       "    <tr>\n",
       "      <th>Time</th>\n",
       "      <td>1.000</td>\n",
       "      <td>1.174e-01</td>\n",
       "      <td>-1.059e-02</td>\n",
       "      <td>-4.196e-01</td>\n",
       "      <td>-1.053e-01</td>\n",
       "      <td>1.731e-01</td>\n",
       "      <td>-6.302e-02</td>\n",
       "      <td>8.471e-02</td>\n",
       "      <td>-3.695e-02</td>\n",
       "      <td>-8.660e-03</td>\n",
       "      <td>...</td>\n",
       "      <td>4.474e-02</td>\n",
       "      <td>1.441e-01</td>\n",
       "      <td>5.114e-02</td>\n",
       "      <td>-1.618e-02</td>\n",
       "      <td>-2.331e-01</td>\n",
       "      <td>-4.141e-02</td>\n",
       "      <td>-5.135e-03</td>\n",
       "      <td>-9.413e-03</td>\n",
       "      <td>-1.060e-02</td>\n",
       "      <td>-1.232e-02</td>\n",
       "    </tr>\n",
       "    <tr>\n",
       "      <th>V1</th>\n",
       "      <td>0.117</td>\n",
       "      <td>1.000e+00</td>\n",
       "      <td>4.697e-17</td>\n",
       "      <td>-1.424e-15</td>\n",
       "      <td>1.755e-17</td>\n",
       "      <td>6.391e-17</td>\n",
       "      <td>2.398e-16</td>\n",
       "      <td>1.992e-15</td>\n",
       "      <td>-9.491e-17</td>\n",
       "      <td>2.170e-16</td>\n",
       "      <td>...</td>\n",
       "      <td>-1.755e-16</td>\n",
       "      <td>7.477e-17</td>\n",
       "      <td>9.809e-16</td>\n",
       "      <td>7.354e-17</td>\n",
       "      <td>-9.805e-16</td>\n",
       "      <td>-8.622e-17</td>\n",
       "      <td>3.208e-17</td>\n",
       "      <td>9.821e-16</td>\n",
       "      <td>-2.277e-01</td>\n",
       "      <td>-1.013e-01</td>\n",
       "    </tr>\n",
       "    <tr>\n",
       "      <th>V2</th>\n",
       "      <td>-0.011</td>\n",
       "      <td>4.697e-17</td>\n",
       "      <td>1.000e+00</td>\n",
       "      <td>2.512e-16</td>\n",
       "      <td>-1.126e-16</td>\n",
       "      <td>-2.040e-16</td>\n",
       "      <td>5.025e-16</td>\n",
       "      <td>3.966e-16</td>\n",
       "      <td>-4.414e-17</td>\n",
       "      <td>-5.729e-17</td>\n",
       "      <td>...</td>\n",
       "      <td>8.444e-17</td>\n",
       "      <td>2.501e-16</td>\n",
       "      <td>1.060e-16</td>\n",
       "      <td>-8.142e-18</td>\n",
       "      <td>-4.262e-17</td>\n",
       "      <td>2.602e-16</td>\n",
       "      <td>-4.478e-16</td>\n",
       "      <td>-3.676e-16</td>\n",
       "      <td>-5.314e-01</td>\n",
       "      <td>9.129e-02</td>\n",
       "    </tr>\n",
       "    <tr>\n",
       "      <th>V3</th>\n",
       "      <td>-0.420</td>\n",
       "      <td>-1.424e-15</td>\n",
       "      <td>2.512e-16</td>\n",
       "      <td>1.000e+00</td>\n",
       "      <td>-3.417e-16</td>\n",
       "      <td>-1.437e-15</td>\n",
       "      <td>1.432e-15</td>\n",
       "      <td>2.169e-15</td>\n",
       "      <td>3.433e-16</td>\n",
       "      <td>-4.234e-16</td>\n",
       "      <td>...</td>\n",
       "      <td>-2.972e-17</td>\n",
       "      <td>4.648e-16</td>\n",
       "      <td>2.115e-17</td>\n",
       "      <td>-9.352e-17</td>\n",
       "      <td>4.771e-16</td>\n",
       "      <td>6.522e-16</td>\n",
       "      <td>6.240e-16</td>\n",
       "      <td>7.727e-16</td>\n",
       "      <td>-2.109e-01</td>\n",
       "      <td>-1.930e-01</td>\n",
       "    </tr>\n",
       "    <tr>\n",
       "      <th>V4</th>\n",
       "      <td>-0.105</td>\n",
       "      <td>1.755e-17</td>\n",
       "      <td>-1.126e-16</td>\n",
       "      <td>-3.417e-16</td>\n",
       "      <td>1.000e+00</td>\n",
       "      <td>-1.941e-15</td>\n",
       "      <td>-2.713e-16</td>\n",
       "      <td>1.556e-16</td>\n",
       "      <td>5.196e-16</td>\n",
       "      <td>3.860e-16</td>\n",
       "      <td>...</td>\n",
       "      <td>-9.977e-17</td>\n",
       "      <td>2.100e-16</td>\n",
       "      <td>6.003e-17</td>\n",
       "      <td>2.230e-16</td>\n",
       "      <td>5.395e-16</td>\n",
       "      <td>-6.180e-16</td>\n",
       "      <td>-6.403e-17</td>\n",
       "      <td>-5.864e-17</td>\n",
       "      <td>9.873e-02</td>\n",
       "      <td>1.334e-01</td>\n",
       "    </tr>\n",
       "    <tr>\n",
       "      <th>V5</th>\n",
       "      <td>0.173</td>\n",
       "      <td>6.391e-17</td>\n",
       "      <td>-2.040e-16</td>\n",
       "      <td>-1.437e-15</td>\n",
       "      <td>-1.941e-15</td>\n",
       "      <td>1.000e+00</td>\n",
       "      <td>7.926e-16</td>\n",
       "      <td>-4.210e-16</td>\n",
       "      <td>7.589e-16</td>\n",
       "      <td>4.205e-16</td>\n",
       "      <td>...</td>\n",
       "      <td>-1.369e-16</td>\n",
       "      <td>5.060e-16</td>\n",
       "      <td>1.638e-16</td>\n",
       "      <td>-9.286e-16</td>\n",
       "      <td>5.625e-16</td>\n",
       "      <td>9.145e-16</td>\n",
       "      <td>4.466e-16</td>\n",
       "      <td>-3.299e-16</td>\n",
       "      <td>-3.864e-01</td>\n",
       "      <td>-9.497e-02</td>\n",
       "    </tr>\n",
       "    <tr>\n",
       "      <th>V6</th>\n",
       "      <td>-0.063</td>\n",
       "      <td>2.398e-16</td>\n",
       "      <td>5.025e-16</td>\n",
       "      <td>1.432e-15</td>\n",
       "      <td>-2.713e-16</td>\n",
       "      <td>7.926e-16</td>\n",
       "      <td>1.000e+00</td>\n",
       "      <td>1.429e-16</td>\n",
       "      <td>-1.707e-16</td>\n",
       "      <td>1.114e-16</td>\n",
       "      <td>...</td>\n",
       "      <td>-1.576e-16</td>\n",
       "      <td>-3.363e-16</td>\n",
       "      <td>-7.232e-17</td>\n",
       "      <td>-1.262e-15</td>\n",
       "      <td>1.082e-15</td>\n",
       "      <td>-2.378e-16</td>\n",
       "      <td>-2.624e-16</td>\n",
       "      <td>4.813e-16</td>\n",
       "      <td>2.160e-01</td>\n",
       "      <td>-4.364e-02</td>\n",
       "    </tr>\n",
       "    <tr>\n",
       "      <th>V7</th>\n",
       "      <td>0.085</td>\n",
       "      <td>1.992e-15</td>\n",
       "      <td>3.966e-16</td>\n",
       "      <td>2.169e-15</td>\n",
       "      <td>1.556e-16</td>\n",
       "      <td>-4.210e-16</td>\n",
       "      <td>1.429e-16</td>\n",
       "      <td>1.000e+00</td>\n",
       "      <td>-8.692e-17</td>\n",
       "      <td>7.933e-16</td>\n",
       "      <td>...</td>\n",
       "      <td>1.939e-16</td>\n",
       "      <td>-1.058e-15</td>\n",
       "      <td>2.328e-16</td>\n",
       "      <td>-2.590e-17</td>\n",
       "      <td>1.174e-15</td>\n",
       "      <td>-7.335e-16</td>\n",
       "      <td>-5.887e-16</td>\n",
       "      <td>-6.837e-17</td>\n",
       "      <td>3.973e-01</td>\n",
       "      <td>-1.873e-01</td>\n",
       "    </tr>\n",
       "    <tr>\n",
       "      <th>V8</th>\n",
       "      <td>-0.037</td>\n",
       "      <td>-9.491e-17</td>\n",
       "      <td>-4.414e-17</td>\n",
       "      <td>3.433e-16</td>\n",
       "      <td>5.196e-16</td>\n",
       "      <td>7.589e-16</td>\n",
       "      <td>-1.707e-16</td>\n",
       "      <td>-8.692e-17</td>\n",
       "      <td>1.000e+00</td>\n",
       "      <td>2.901e-16</td>\n",
       "      <td>...</td>\n",
       "      <td>-2.412e-16</td>\n",
       "      <td>5.476e-16</td>\n",
       "      <td>3.897e-16</td>\n",
       "      <td>-1.803e-16</td>\n",
       "      <td>-1.391e-16</td>\n",
       "      <td>-1.210e-16</td>\n",
       "      <td>1.734e-16</td>\n",
       "      <td>-4.484e-16</td>\n",
       "      <td>-1.031e-01</td>\n",
       "      <td>1.988e-02</td>\n",
       "    </tr>\n",
       "    <tr>\n",
       "      <th>V9</th>\n",
       "      <td>-0.009</td>\n",
       "      <td>2.170e-16</td>\n",
       "      <td>-5.729e-17</td>\n",
       "      <td>-4.234e-16</td>\n",
       "      <td>3.860e-16</td>\n",
       "      <td>4.205e-16</td>\n",
       "      <td>1.114e-16</td>\n",
       "      <td>7.933e-16</td>\n",
       "      <td>2.901e-16</td>\n",
       "      <td>1.000e+00</td>\n",
       "      <td>...</td>\n",
       "      <td>4.578e-17</td>\n",
       "      <td>2.872e-17</td>\n",
       "      <td>5.929e-16</td>\n",
       "      <td>-2.346e-16</td>\n",
       "      <td>1.100e-15</td>\n",
       "      <td>-1.389e-15</td>\n",
       "      <td>-2.287e-16</td>\n",
       "      <td>9.147e-16</td>\n",
       "      <td>-4.425e-02</td>\n",
       "      <td>-9.773e-02</td>\n",
       "    </tr>\n",
       "    <tr>\n",
       "      <th>V10</th>\n",
       "      <td>0.031</td>\n",
       "      <td>7.434e-17</td>\n",
       "      <td>-4.782e-16</td>\n",
       "      <td>6.289e-16</td>\n",
       "      <td>6.055e-16</td>\n",
       "      <td>-6.602e-16</td>\n",
       "      <td>2.851e-16</td>\n",
       "      <td>3.043e-17</td>\n",
       "      <td>9.052e-17</td>\n",
       "      <td>-2.772e-16</td>\n",
       "      <td>...</td>\n",
       "      <td>8.090e-16</td>\n",
       "      <td>-6.708e-16</td>\n",
       "      <td>3.810e-16</td>\n",
       "      <td>-4.033e-17</td>\n",
       "      <td>-2.864e-16</td>\n",
       "      <td>-2.554e-16</td>\n",
       "      <td>-3.103e-16</td>\n",
       "      <td>-1.516e-16</td>\n",
       "      <td>-1.015e-01</td>\n",
       "      <td>-2.169e-01</td>\n",
       "    </tr>\n",
       "    <tr>\n",
       "      <th>V11</th>\n",
       "      <td>-0.248</td>\n",
       "      <td>2.439e-16</td>\n",
       "      <td>9.469e-16</td>\n",
       "      <td>-5.502e-17</td>\n",
       "      <td>-2.084e-16</td>\n",
       "      <td>7.343e-16</td>\n",
       "      <td>4.866e-16</td>\n",
       "      <td>-1.084e-15</td>\n",
       "      <td>1.955e-16</td>\n",
       "      <td>4.682e-16</td>\n",
       "      <td>...</td>\n",
       "      <td>-3.912e-16</td>\n",
       "      <td>-3.812e-17</td>\n",
       "      <td>2.232e-16</td>\n",
       "      <td>1.220e-15</td>\n",
       "      <td>-4.568e-16</td>\n",
       "      <td>-1.111e-16</td>\n",
       "      <td>-2.636e-16</td>\n",
       "      <td>-3.092e-16</td>\n",
       "      <td>1.040e-04</td>\n",
       "      <td>1.549e-01</td>\n",
       "    </tr>\n",
       "    <tr>\n",
       "      <th>V12</th>\n",
       "      <td>0.124</td>\n",
       "      <td>2.422e-16</td>\n",
       "      <td>-6.588e-16</td>\n",
       "      <td>2.207e-16</td>\n",
       "      <td>-5.658e-16</td>\n",
       "      <td>3.761e-16</td>\n",
       "      <td>2.141e-16</td>\n",
       "      <td>1.510e-15</td>\n",
       "      <td>-6.266e-17</td>\n",
       "      <td>-2.445e-15</td>\n",
       "      <td>...</td>\n",
       "      <td>3.230e-16</td>\n",
       "      <td>-5.904e-16</td>\n",
       "      <td>1.392e-16</td>\n",
       "      <td>4.902e-16</td>\n",
       "      <td>5.054e-16</td>\n",
       "      <td>-5.759e-16</td>\n",
       "      <td>-2.313e-16</td>\n",
       "      <td>7.327e-16</td>\n",
       "      <td>-9.542e-03</td>\n",
       "      <td>-2.606e-01</td>\n",
       "    </tr>\n",
       "    <tr>\n",
       "      <th>V13</th>\n",
       "      <td>-0.066</td>\n",
       "      <td>-2.115e-16</td>\n",
       "      <td>3.855e-16</td>\n",
       "      <td>-6.883e-16</td>\n",
       "      <td>-1.506e-16</td>\n",
       "      <td>-9.579e-16</td>\n",
       "      <td>-2.268e-16</td>\n",
       "      <td>-9.892e-17</td>\n",
       "      <td>-2.383e-16</td>\n",
       "      <td>-2.650e-16</td>\n",
       "      <td>...</td>\n",
       "      <td>9.499e-17</td>\n",
       "      <td>-2.660e-17</td>\n",
       "      <td>-5.884e-16</td>\n",
       "      <td>-5.471e-16</td>\n",
       "      <td>8.067e-17</td>\n",
       "      <td>-2.122e-16</td>\n",
       "      <td>-4.520e-16</td>\n",
       "      <td>1.050e-15</td>\n",
       "      <td>5.293e-03</td>\n",
       "      <td>-4.570e-03</td>\n",
       "    </tr>\n",
       "    <tr>\n",
       "      <th>V14</th>\n",
       "      <td>-0.099</td>\n",
       "      <td>9.353e-16</td>\n",
       "      <td>-2.541e-16</td>\n",
       "      <td>4.271e-16</td>\n",
       "      <td>-8.522e-17</td>\n",
       "      <td>-3.635e-16</td>\n",
       "      <td>3.453e-16</td>\n",
       "      <td>-1.729e-16</td>\n",
       "      <td>-1.131e-16</td>\n",
       "      <td>2.343e-16</td>\n",
       "      <td>...</td>\n",
       "      <td>1.634e-17</td>\n",
       "      <td>3.440e-16</td>\n",
       "      <td>7.621e-17</td>\n",
       "      <td>2.336e-16</td>\n",
       "      <td>-2.607e-16</td>\n",
       "      <td>-6.580e-18</td>\n",
       "      <td>1.286e-16</td>\n",
       "      <td>2.503e-15</td>\n",
       "      <td>3.375e-02</td>\n",
       "      <td>-3.025e-01</td>\n",
       "    </tr>\n",
       "    <tr>\n",
       "      <th>V15</th>\n",
       "      <td>-0.183</td>\n",
       "      <td>-3.252e-16</td>\n",
       "      <td>2.831e-16</td>\n",
       "      <td>1.123e-16</td>\n",
       "      <td>-1.508e-16</td>\n",
       "      <td>-5.133e-16</td>\n",
       "      <td>-6.368e-18</td>\n",
       "      <td>1.937e-17</td>\n",
       "      <td>2.021e-16</td>\n",
       "      <td>-1.588e-15</td>\n",
       "      <td>...</td>\n",
       "      <td>1.947e-17</td>\n",
       "      <td>-8.937e-16</td>\n",
       "      <td>1.120e-16</td>\n",
       "      <td>-4.590e-16</td>\n",
       "      <td>3.870e-16</td>\n",
       "      <td>3.761e-16</td>\n",
       "      <td>-1.265e-15</td>\n",
       "      <td>-1.063e-15</td>\n",
       "      <td>-2.986e-03</td>\n",
       "      <td>-4.223e-03</td>\n",
       "    </tr>\n",
       "    <tr>\n",
       "      <th>V16</th>\n",
       "      <td>0.012</td>\n",
       "      <td>6.309e-16</td>\n",
       "      <td>4.934e-17</td>\n",
       "      <td>1.183e-15</td>\n",
       "      <td>-6.939e-16</td>\n",
       "      <td>-3.517e-16</td>\n",
       "      <td>-2.478e-16</td>\n",
       "      <td>2.894e-16</td>\n",
       "      <td>5.027e-16</td>\n",
       "      <td>-3.252e-16</td>\n",
       "      <td>...</td>\n",
       "      <td>-3.927e-16</td>\n",
       "      <td>3.878e-17</td>\n",
       "      <td>8.520e-16</td>\n",
       "      <td>-4.289e-16</td>\n",
       "      <td>-6.644e-16</td>\n",
       "      <td>-5.187e-16</td>\n",
       "      <td>7.820e-16</td>\n",
       "      <td>8.637e-16</td>\n",
       "      <td>-3.910e-03</td>\n",
       "      <td>-1.965e-01</td>\n",
       "    </tr>\n",
       "    <tr>\n",
       "      <th>V17</th>\n",
       "      <td>-0.073</td>\n",
       "      <td>-5.012e-16</td>\n",
       "      <td>-9.883e-16</td>\n",
       "      <td>4.577e-17</td>\n",
       "      <td>-4.398e-16</td>\n",
       "      <td>1.426e-16</td>\n",
       "      <td>3.568e-16</td>\n",
       "      <td>1.150e-15</td>\n",
       "      <td>-3.509e-16</td>\n",
       "      <td>6.536e-16</td>\n",
       "      <td>...</td>\n",
       "      <td>-7.754e-16</td>\n",
       "      <td>-8.390e-16</td>\n",
       "      <td>5.368e-16</td>\n",
       "      <td>-5.544e-17</td>\n",
       "      <td>4.822e-16</td>\n",
       "      <td>4.870e-16</td>\n",
       "      <td>8.844e-16</td>\n",
       "      <td>-2.183e-16</td>\n",
       "      <td>7.309e-03</td>\n",
       "      <td>-3.265e-01</td>\n",
       "    </tr>\n",
       "    <tr>\n",
       "      <th>V18</th>\n",
       "      <td>0.090</td>\n",
       "      <td>2.870e-16</td>\n",
       "      <td>2.637e-16</td>\n",
       "      <td>5.428e-16</td>\n",
       "      <td>1.494e-16</td>\n",
       "      <td>1.110e-15</td>\n",
       "      <td>2.811e-16</td>\n",
       "      <td>-1.117e-16</td>\n",
       "      <td>-4.094e-16</td>\n",
       "      <td>1.204e-16</td>\n",
       "      <td>...</td>\n",
       "      <td>-1.141e-15</td>\n",
       "      <td>-8.663e-17</td>\n",
       "      <td>-3.624e-16</td>\n",
       "      <td>-1.126e-16</td>\n",
       "      <td>-2.311e-16</td>\n",
       "      <td>3.184e-16</td>\n",
       "      <td>2.435e-16</td>\n",
       "      <td>8.845e-16</td>\n",
       "      <td>3.565e-02</td>\n",
       "      <td>-1.115e-01</td>\n",
       "    </tr>\n",
       "    <tr>\n",
       "      <th>V19</th>\n",
       "      <td>0.029</td>\n",
       "      <td>1.818e-16</td>\n",
       "      <td>9.528e-17</td>\n",
       "      <td>2.577e-16</td>\n",
       "      <td>-2.657e-16</td>\n",
       "      <td>-3.138e-16</td>\n",
       "      <td>2.717e-16</td>\n",
       "      <td>-2.874e-16</td>\n",
       "      <td>-5.340e-16</td>\n",
       "      <td>1.121e-16</td>\n",
       "      <td>...</td>\n",
       "      <td>4.033e-16</td>\n",
       "      <td>-9.690e-16</td>\n",
       "      <td>5.734e-16</td>\n",
       "      <td>3.127e-17</td>\n",
       "      <td>7.415e-16</td>\n",
       "      <td>5.614e-16</td>\n",
       "      <td>-1.113e-16</td>\n",
       "      <td>-1.376e-15</td>\n",
       "      <td>-5.615e-02</td>\n",
       "      <td>3.478e-02</td>\n",
       "    </tr>\n",
       "    <tr>\n",
       "      <th>V20</th>\n",
       "      <td>-0.051</td>\n",
       "      <td>1.037e-16</td>\n",
       "      <td>-9.310e-16</td>\n",
       "      <td>-9.429e-16</td>\n",
       "      <td>-3.223e-16</td>\n",
       "      <td>2.076e-16</td>\n",
       "      <td>1.899e-16</td>\n",
       "      <td>1.744e-16</td>\n",
       "      <td>-1.096e-16</td>\n",
       "      <td>-4.341e-16</td>\n",
       "      <td>...</td>\n",
       "      <td>-1.121e-15</td>\n",
       "      <td>1.106e-15</td>\n",
       "      <td>4.987e-16</td>\n",
       "      <td>1.637e-16</td>\n",
       "      <td>-1.518e-16</td>\n",
       "      <td>-2.975e-16</td>\n",
       "      <td>-1.446e-15</td>\n",
       "      <td>-1.134e-16</td>\n",
       "      <td>3.394e-01</td>\n",
       "      <td>2.009e-02</td>\n",
       "    </tr>\n",
       "    <tr>\n",
       "      <th>V21</th>\n",
       "      <td>0.045</td>\n",
       "      <td>-1.755e-16</td>\n",
       "      <td>8.444e-17</td>\n",
       "      <td>-2.972e-17</td>\n",
       "      <td>-9.977e-17</td>\n",
       "      <td>-1.369e-16</td>\n",
       "      <td>-1.576e-16</td>\n",
       "      <td>1.939e-16</td>\n",
       "      <td>-2.412e-16</td>\n",
       "      <td>4.578e-17</td>\n",
       "      <td>...</td>\n",
       "      <td>1.000e+00</td>\n",
       "      <td>3.906e-15</td>\n",
       "      <td>6.127e-16</td>\n",
       "      <td>1.298e-16</td>\n",
       "      <td>-2.826e-16</td>\n",
       "      <td>-4.907e-16</td>\n",
       "      <td>-1.033e-15</td>\n",
       "      <td>5.132e-16</td>\n",
       "      <td>1.060e-01</td>\n",
       "      <td>4.041e-02</td>\n",
       "    </tr>\n",
       "    <tr>\n",
       "      <th>V22</th>\n",
       "      <td>0.144</td>\n",
       "      <td>7.477e-17</td>\n",
       "      <td>2.501e-16</td>\n",
       "      <td>4.648e-16</td>\n",
       "      <td>2.100e-16</td>\n",
       "      <td>5.060e-16</td>\n",
       "      <td>-3.363e-16</td>\n",
       "      <td>-1.058e-15</td>\n",
       "      <td>5.476e-16</td>\n",
       "      <td>2.872e-17</td>\n",
       "      <td>...</td>\n",
       "      <td>3.906e-15</td>\n",
       "      <td>1.000e+00</td>\n",
       "      <td>3.131e-16</td>\n",
       "      <td>1.151e-17</td>\n",
       "      <td>-6.079e-16</td>\n",
       "      <td>-8.477e-16</td>\n",
       "      <td>-1.295e-16</td>\n",
       "      <td>-3.021e-16</td>\n",
       "      <td>-6.480e-02</td>\n",
       "      <td>8.053e-04</td>\n",
       "    </tr>\n",
       "    <tr>\n",
       "      <th>V23</th>\n",
       "      <td>0.051</td>\n",
       "      <td>9.809e-16</td>\n",
       "      <td>1.060e-16</td>\n",
       "      <td>2.115e-17</td>\n",
       "      <td>6.003e-17</td>\n",
       "      <td>1.638e-16</td>\n",
       "      <td>-7.232e-17</td>\n",
       "      <td>2.328e-16</td>\n",
       "      <td>3.897e-16</td>\n",
       "      <td>5.929e-16</td>\n",
       "      <td>...</td>\n",
       "      <td>6.127e-16</td>\n",
       "      <td>3.131e-16</td>\n",
       "      <td>1.000e+00</td>\n",
       "      <td>-4.411e-17</td>\n",
       "      <td>-9.938e-16</td>\n",
       "      <td>8.849e-16</td>\n",
       "      <td>5.524e-16</td>\n",
       "      <td>9.030e-16</td>\n",
       "      <td>-1.126e-01</td>\n",
       "      <td>-2.685e-03</td>\n",
       "    </tr>\n",
       "    <tr>\n",
       "      <th>V24</th>\n",
       "      <td>-0.016</td>\n",
       "      <td>7.354e-17</td>\n",
       "      <td>-8.142e-18</td>\n",
       "      <td>-9.352e-17</td>\n",
       "      <td>2.230e-16</td>\n",
       "      <td>-9.286e-16</td>\n",
       "      <td>-1.262e-15</td>\n",
       "      <td>-2.590e-17</td>\n",
       "      <td>-1.803e-16</td>\n",
       "      <td>-2.346e-16</td>\n",
       "      <td>...</td>\n",
       "      <td>1.298e-16</td>\n",
       "      <td>1.151e-17</td>\n",
       "      <td>-4.411e-17</td>\n",
       "      <td>1.000e+00</td>\n",
       "      <td>1.557e-15</td>\n",
       "      <td>3.129e-16</td>\n",
       "      <td>-3.737e-16</td>\n",
       "      <td>-2.259e-16</td>\n",
       "      <td>5.146e-03</td>\n",
       "      <td>-7.221e-03</td>\n",
       "    </tr>\n",
       "    <tr>\n",
       "      <th>V25</th>\n",
       "      <td>-0.233</td>\n",
       "      <td>-9.805e-16</td>\n",
       "      <td>-4.262e-17</td>\n",
       "      <td>4.771e-16</td>\n",
       "      <td>5.395e-16</td>\n",
       "      <td>5.625e-16</td>\n",
       "      <td>1.082e-15</td>\n",
       "      <td>1.174e-15</td>\n",
       "      <td>-1.391e-16</td>\n",
       "      <td>1.100e-15</td>\n",
       "      <td>...</td>\n",
       "      <td>-2.826e-16</td>\n",
       "      <td>-6.079e-16</td>\n",
       "      <td>-9.938e-16</td>\n",
       "      <td>1.557e-15</td>\n",
       "      <td>1.000e+00</td>\n",
       "      <td>2.811e-15</td>\n",
       "      <td>-6.107e-16</td>\n",
       "      <td>3.399e-16</td>\n",
       "      <td>-4.784e-02</td>\n",
       "      <td>3.308e-03</td>\n",
       "    </tr>\n",
       "    <tr>\n",
       "      <th>V26</th>\n",
       "      <td>-0.041</td>\n",
       "      <td>-8.622e-17</td>\n",
       "      <td>2.602e-16</td>\n",
       "      <td>6.522e-16</td>\n",
       "      <td>-6.180e-16</td>\n",
       "      <td>9.145e-16</td>\n",
       "      <td>-2.378e-16</td>\n",
       "      <td>-7.335e-16</td>\n",
       "      <td>-1.210e-16</td>\n",
       "      <td>-1.389e-15</td>\n",
       "      <td>...</td>\n",
       "      <td>-4.907e-16</td>\n",
       "      <td>-8.477e-16</td>\n",
       "      <td>8.849e-16</td>\n",
       "      <td>3.129e-16</td>\n",
       "      <td>2.811e-15</td>\n",
       "      <td>1.000e+00</td>\n",
       "      <td>-3.384e-16</td>\n",
       "      <td>-3.751e-16</td>\n",
       "      <td>-3.208e-03</td>\n",
       "      <td>4.455e-03</td>\n",
       "    </tr>\n",
       "    <tr>\n",
       "      <th>V27</th>\n",
       "      <td>-0.005</td>\n",
       "      <td>3.208e-17</td>\n",
       "      <td>-4.478e-16</td>\n",
       "      <td>6.240e-16</td>\n",
       "      <td>-6.403e-17</td>\n",
       "      <td>4.466e-16</td>\n",
       "      <td>-2.624e-16</td>\n",
       "      <td>-5.887e-16</td>\n",
       "      <td>1.734e-16</td>\n",
       "      <td>-2.287e-16</td>\n",
       "      <td>...</td>\n",
       "      <td>-1.033e-15</td>\n",
       "      <td>-1.295e-16</td>\n",
       "      <td>5.524e-16</td>\n",
       "      <td>-3.737e-16</td>\n",
       "      <td>-6.107e-16</td>\n",
       "      <td>-3.384e-16</td>\n",
       "      <td>1.000e+00</td>\n",
       "      <td>-3.770e-16</td>\n",
       "      <td>2.883e-02</td>\n",
       "      <td>1.758e-02</td>\n",
       "    </tr>\n",
       "    <tr>\n",
       "      <th>V28</th>\n",
       "      <td>-0.009</td>\n",
       "      <td>9.821e-16</td>\n",
       "      <td>-3.676e-16</td>\n",
       "      <td>7.727e-16</td>\n",
       "      <td>-5.864e-17</td>\n",
       "      <td>-3.299e-16</td>\n",
       "      <td>4.813e-16</td>\n",
       "      <td>-6.837e-17</td>\n",
       "      <td>-4.484e-16</td>\n",
       "      <td>9.147e-16</td>\n",
       "      <td>...</td>\n",
       "      <td>5.132e-16</td>\n",
       "      <td>-3.021e-16</td>\n",
       "      <td>9.030e-16</td>\n",
       "      <td>-2.259e-16</td>\n",
       "      <td>3.399e-16</td>\n",
       "      <td>-3.751e-16</td>\n",
       "      <td>-3.770e-16</td>\n",
       "      <td>1.000e+00</td>\n",
       "      <td>1.026e-02</td>\n",
       "      <td>9.536e-03</td>\n",
       "    </tr>\n",
       "    <tr>\n",
       "      <th>Amount</th>\n",
       "      <td>-0.011</td>\n",
       "      <td>-2.277e-01</td>\n",
       "      <td>-5.314e-01</td>\n",
       "      <td>-2.109e-01</td>\n",
       "      <td>9.873e-02</td>\n",
       "      <td>-3.864e-01</td>\n",
       "      <td>2.160e-01</td>\n",
       "      <td>3.973e-01</td>\n",
       "      <td>-1.031e-01</td>\n",
       "      <td>-4.425e-02</td>\n",
       "      <td>...</td>\n",
       "      <td>1.060e-01</td>\n",
       "      <td>-6.480e-02</td>\n",
       "      <td>-1.126e-01</td>\n",
       "      <td>5.146e-03</td>\n",
       "      <td>-4.784e-02</td>\n",
       "      <td>-3.208e-03</td>\n",
       "      <td>2.883e-02</td>\n",
       "      <td>1.026e-02</td>\n",
       "      <td>1.000e+00</td>\n",
       "      <td>5.632e-03</td>\n",
       "    </tr>\n",
       "    <tr>\n",
       "      <th>Class</th>\n",
       "      <td>-0.012</td>\n",
       "      <td>-1.013e-01</td>\n",
       "      <td>9.129e-02</td>\n",
       "      <td>-1.930e-01</td>\n",
       "      <td>1.334e-01</td>\n",
       "      <td>-9.497e-02</td>\n",
       "      <td>-4.364e-02</td>\n",
       "      <td>-1.873e-01</td>\n",
       "      <td>1.988e-02</td>\n",
       "      <td>-9.773e-02</td>\n",
       "      <td>...</td>\n",
       "      <td>4.041e-02</td>\n",
       "      <td>8.053e-04</td>\n",
       "      <td>-2.685e-03</td>\n",
       "      <td>-7.221e-03</td>\n",
       "      <td>3.308e-03</td>\n",
       "      <td>4.455e-03</td>\n",
       "      <td>1.758e-02</td>\n",
       "      <td>9.536e-03</td>\n",
       "      <td>5.632e-03</td>\n",
       "      <td>1.000e+00</td>\n",
       "    </tr>\n",
       "  </tbody>\n",
       "</table>\n",
       "<p>31 rows × 31 columns</p>\n",
       "</div>"
      ],
      "text/plain": [
       "         Time         V1         V2         V3         V4         V5  \\\n",
       "Time    1.000  1.174e-01 -1.059e-02 -4.196e-01 -1.053e-01  1.731e-01   \n",
       "V1      0.117  1.000e+00  4.697e-17 -1.424e-15  1.755e-17  6.391e-17   \n",
       "V2     -0.011  4.697e-17  1.000e+00  2.512e-16 -1.126e-16 -2.040e-16   \n",
       "V3     -0.420 -1.424e-15  2.512e-16  1.000e+00 -3.417e-16 -1.437e-15   \n",
       "V4     -0.105  1.755e-17 -1.126e-16 -3.417e-16  1.000e+00 -1.941e-15   \n",
       "V5      0.173  6.391e-17 -2.040e-16 -1.437e-15 -1.941e-15  1.000e+00   \n",
       "V6     -0.063  2.398e-16  5.025e-16  1.432e-15 -2.713e-16  7.926e-16   \n",
       "V7      0.085  1.992e-15  3.966e-16  2.169e-15  1.556e-16 -4.210e-16   \n",
       "V8     -0.037 -9.491e-17 -4.414e-17  3.433e-16  5.196e-16  7.589e-16   \n",
       "V9     -0.009  2.170e-16 -5.729e-17 -4.234e-16  3.860e-16  4.205e-16   \n",
       "V10     0.031  7.434e-17 -4.782e-16  6.289e-16  6.055e-16 -6.602e-16   \n",
       "V11    -0.248  2.439e-16  9.469e-16 -5.502e-17 -2.084e-16  7.343e-16   \n",
       "V12     0.124  2.422e-16 -6.588e-16  2.207e-16 -5.658e-16  3.761e-16   \n",
       "V13    -0.066 -2.115e-16  3.855e-16 -6.883e-16 -1.506e-16 -9.579e-16   \n",
       "V14    -0.099  9.353e-16 -2.541e-16  4.271e-16 -8.522e-17 -3.635e-16   \n",
       "V15    -0.183 -3.252e-16  2.831e-16  1.123e-16 -1.508e-16 -5.133e-16   \n",
       "V16     0.012  6.309e-16  4.934e-17  1.183e-15 -6.939e-16 -3.517e-16   \n",
       "V17    -0.073 -5.012e-16 -9.883e-16  4.577e-17 -4.398e-16  1.426e-16   \n",
       "V18     0.090  2.870e-16  2.637e-16  5.428e-16  1.494e-16  1.110e-15   \n",
       "V19     0.029  1.818e-16  9.528e-17  2.577e-16 -2.657e-16 -3.138e-16   \n",
       "V20    -0.051  1.037e-16 -9.310e-16 -9.429e-16 -3.223e-16  2.076e-16   \n",
       "V21     0.045 -1.755e-16  8.444e-17 -2.972e-17 -9.977e-17 -1.369e-16   \n",
       "V22     0.144  7.477e-17  2.501e-16  4.648e-16  2.100e-16  5.060e-16   \n",
       "V23     0.051  9.809e-16  1.060e-16  2.115e-17  6.003e-17  1.638e-16   \n",
       "V24    -0.016  7.354e-17 -8.142e-18 -9.352e-17  2.230e-16 -9.286e-16   \n",
       "V25    -0.233 -9.805e-16 -4.262e-17  4.771e-16  5.395e-16  5.625e-16   \n",
       "V26    -0.041 -8.622e-17  2.602e-16  6.522e-16 -6.180e-16  9.145e-16   \n",
       "V27    -0.005  3.208e-17 -4.478e-16  6.240e-16 -6.403e-17  4.466e-16   \n",
       "V28    -0.009  9.821e-16 -3.676e-16  7.727e-16 -5.864e-17 -3.299e-16   \n",
       "Amount -0.011 -2.277e-01 -5.314e-01 -2.109e-01  9.873e-02 -3.864e-01   \n",
       "Class  -0.012 -1.013e-01  9.129e-02 -1.930e-01  1.334e-01 -9.497e-02   \n",
       "\n",
       "               V6         V7         V8         V9  ...        V21        V22  \\\n",
       "Time   -6.302e-02  8.471e-02 -3.695e-02 -8.660e-03  ...  4.474e-02  1.441e-01   \n",
       "V1      2.398e-16  1.992e-15 -9.491e-17  2.170e-16  ... -1.755e-16  7.477e-17   \n",
       "V2      5.025e-16  3.966e-16 -4.414e-17 -5.729e-17  ...  8.444e-17  2.501e-16   \n",
       "V3      1.432e-15  2.169e-15  3.433e-16 -4.234e-16  ... -2.972e-17  4.648e-16   \n",
       "V4     -2.713e-16  1.556e-16  5.196e-16  3.860e-16  ... -9.977e-17  2.100e-16   \n",
       "V5      7.926e-16 -4.210e-16  7.589e-16  4.205e-16  ... -1.369e-16  5.060e-16   \n",
       "V6      1.000e+00  1.429e-16 -1.707e-16  1.114e-16  ... -1.576e-16 -3.363e-16   \n",
       "V7      1.429e-16  1.000e+00 -8.692e-17  7.933e-16  ...  1.939e-16 -1.058e-15   \n",
       "V8     -1.707e-16 -8.692e-17  1.000e+00  2.901e-16  ... -2.412e-16  5.476e-16   \n",
       "V9      1.114e-16  7.933e-16  2.901e-16  1.000e+00  ...  4.578e-17  2.872e-17   \n",
       "V10     2.851e-16  3.043e-17  9.052e-17 -2.772e-16  ...  8.090e-16 -6.708e-16   \n",
       "V11     4.866e-16 -1.084e-15  1.955e-16  4.682e-16  ... -3.912e-16 -3.812e-17   \n",
       "V12     2.141e-16  1.510e-15 -6.266e-17 -2.445e-15  ...  3.230e-16 -5.904e-16   \n",
       "V13    -2.268e-16 -9.892e-17 -2.383e-16 -2.650e-16  ...  9.499e-17 -2.660e-17   \n",
       "V14     3.453e-16 -1.729e-16 -1.131e-16  2.343e-16  ...  1.634e-17  3.440e-16   \n",
       "V15    -6.368e-18  1.937e-17  2.021e-16 -1.588e-15  ...  1.947e-17 -8.937e-16   \n",
       "V16    -2.478e-16  2.894e-16  5.027e-16 -3.252e-16  ... -3.927e-16  3.878e-17   \n",
       "V17     3.568e-16  1.150e-15 -3.509e-16  6.536e-16  ... -7.754e-16 -8.390e-16   \n",
       "V18     2.811e-16 -1.117e-16 -4.094e-16  1.204e-16  ... -1.141e-15 -8.663e-17   \n",
       "V19     2.717e-16 -2.874e-16 -5.340e-16  1.121e-16  ...  4.033e-16 -9.690e-16   \n",
       "V20     1.899e-16  1.744e-16 -1.096e-16 -4.341e-16  ... -1.121e-15  1.106e-15   \n",
       "V21    -1.576e-16  1.939e-16 -2.412e-16  4.578e-17  ...  1.000e+00  3.906e-15   \n",
       "V22    -3.363e-16 -1.058e-15  5.476e-16  2.872e-17  ...  3.906e-15  1.000e+00   \n",
       "V23    -7.232e-17  2.328e-16  3.897e-16  5.929e-16  ...  6.127e-16  3.131e-16   \n",
       "V24    -1.262e-15 -2.590e-17 -1.803e-16 -2.346e-16  ...  1.298e-16  1.151e-17   \n",
       "V25     1.082e-15  1.174e-15 -1.391e-16  1.100e-15  ... -2.826e-16 -6.079e-16   \n",
       "V26    -2.378e-16 -7.335e-16 -1.210e-16 -1.389e-15  ... -4.907e-16 -8.477e-16   \n",
       "V27    -2.624e-16 -5.887e-16  1.734e-16 -2.287e-16  ... -1.033e-15 -1.295e-16   \n",
       "V28     4.813e-16 -6.837e-17 -4.484e-16  9.147e-16  ...  5.132e-16 -3.021e-16   \n",
       "Amount  2.160e-01  3.973e-01 -1.031e-01 -4.425e-02  ...  1.060e-01 -6.480e-02   \n",
       "Class  -4.364e-02 -1.873e-01  1.988e-02 -9.773e-02  ...  4.041e-02  8.053e-04   \n",
       "\n",
       "              V23        V24        V25        V26        V27        V28  \\\n",
       "Time    5.114e-02 -1.618e-02 -2.331e-01 -4.141e-02 -5.135e-03 -9.413e-03   \n",
       "V1      9.809e-16  7.354e-17 -9.805e-16 -8.622e-17  3.208e-17  9.821e-16   \n",
       "V2      1.060e-16 -8.142e-18 -4.262e-17  2.602e-16 -4.478e-16 -3.676e-16   \n",
       "V3      2.115e-17 -9.352e-17  4.771e-16  6.522e-16  6.240e-16  7.727e-16   \n",
       "V4      6.003e-17  2.230e-16  5.395e-16 -6.180e-16 -6.403e-17 -5.864e-17   \n",
       "V5      1.638e-16 -9.286e-16  5.625e-16  9.145e-16  4.466e-16 -3.299e-16   \n",
       "V6     -7.232e-17 -1.262e-15  1.082e-15 -2.378e-16 -2.624e-16  4.813e-16   \n",
       "V7      2.328e-16 -2.590e-17  1.174e-15 -7.335e-16 -5.887e-16 -6.837e-17   \n",
       "V8      3.897e-16 -1.803e-16 -1.391e-16 -1.210e-16  1.734e-16 -4.484e-16   \n",
       "V9      5.929e-16 -2.346e-16  1.100e-15 -1.389e-15 -2.287e-16  9.147e-16   \n",
       "V10     3.810e-16 -4.033e-17 -2.864e-16 -2.554e-16 -3.103e-16 -1.516e-16   \n",
       "V11     2.232e-16  1.220e-15 -4.568e-16 -1.111e-16 -2.636e-16 -3.092e-16   \n",
       "V12     1.392e-16  4.902e-16  5.054e-16 -5.759e-16 -2.313e-16  7.327e-16   \n",
       "V13    -5.884e-16 -5.471e-16  8.067e-17 -2.122e-16 -4.520e-16  1.050e-15   \n",
       "V14     7.621e-17  2.336e-16 -2.607e-16 -6.580e-18  1.286e-16  2.503e-15   \n",
       "V15     1.120e-16 -4.590e-16  3.870e-16  3.761e-16 -1.265e-15 -1.063e-15   \n",
       "V16     8.520e-16 -4.289e-16 -6.644e-16 -5.187e-16  7.820e-16  8.637e-16   \n",
       "V17     5.368e-16 -5.544e-17  4.822e-16  4.870e-16  8.844e-16 -2.183e-16   \n",
       "V18    -3.624e-16 -1.126e-16 -2.311e-16  3.184e-16  2.435e-16  8.845e-16   \n",
       "V19     5.734e-16  3.127e-17  7.415e-16  5.614e-16 -1.113e-16 -1.376e-15   \n",
       "V20     4.987e-16  1.637e-16 -1.518e-16 -2.975e-16 -1.446e-15 -1.134e-16   \n",
       "V21     6.127e-16  1.298e-16 -2.826e-16 -4.907e-16 -1.033e-15  5.132e-16   \n",
       "V22     3.131e-16  1.151e-17 -6.079e-16 -8.477e-16 -1.295e-16 -3.021e-16   \n",
       "V23     1.000e+00 -4.411e-17 -9.938e-16  8.849e-16  5.524e-16  9.030e-16   \n",
       "V24    -4.411e-17  1.000e+00  1.557e-15  3.129e-16 -3.737e-16 -2.259e-16   \n",
       "V25    -9.938e-16  1.557e-15  1.000e+00  2.811e-15 -6.107e-16  3.399e-16   \n",
       "V26     8.849e-16  3.129e-16  2.811e-15  1.000e+00 -3.384e-16 -3.751e-16   \n",
       "V27     5.524e-16 -3.737e-16 -6.107e-16 -3.384e-16  1.000e+00 -3.770e-16   \n",
       "V28     9.030e-16 -2.259e-16  3.399e-16 -3.751e-16 -3.770e-16  1.000e+00   \n",
       "Amount -1.126e-01  5.146e-03 -4.784e-02 -3.208e-03  2.883e-02  1.026e-02   \n",
       "Class  -2.685e-03 -7.221e-03  3.308e-03  4.455e-03  1.758e-02  9.536e-03   \n",
       "\n",
       "           Amount      Class  \n",
       "Time   -1.060e-02 -1.232e-02  \n",
       "V1     -2.277e-01 -1.013e-01  \n",
       "V2     -5.314e-01  9.129e-02  \n",
       "V3     -2.109e-01 -1.930e-01  \n",
       "V4      9.873e-02  1.334e-01  \n",
       "V5     -3.864e-01 -9.497e-02  \n",
       "V6      2.160e-01 -4.364e-02  \n",
       "V7      3.973e-01 -1.873e-01  \n",
       "V8     -1.031e-01  1.988e-02  \n",
       "V9     -4.425e-02 -9.773e-02  \n",
       "V10    -1.015e-01 -2.169e-01  \n",
       "V11     1.040e-04  1.549e-01  \n",
       "V12    -9.542e-03 -2.606e-01  \n",
       "V13     5.293e-03 -4.570e-03  \n",
       "V14     3.375e-02 -3.025e-01  \n",
       "V15    -2.986e-03 -4.223e-03  \n",
       "V16    -3.910e-03 -1.965e-01  \n",
       "V17     7.309e-03 -3.265e-01  \n",
       "V18     3.565e-02 -1.115e-01  \n",
       "V19    -5.615e-02  3.478e-02  \n",
       "V20     3.394e-01  2.009e-02  \n",
       "V21     1.060e-01  4.041e-02  \n",
       "V22    -6.480e-02  8.053e-04  \n",
       "V23    -1.126e-01 -2.685e-03  \n",
       "V24     5.146e-03 -7.221e-03  \n",
       "V25    -4.784e-02  3.308e-03  \n",
       "V26    -3.208e-03  4.455e-03  \n",
       "V27     2.883e-02  1.758e-02  \n",
       "V28     1.026e-02  9.536e-03  \n",
       "Amount  1.000e+00  5.632e-03  \n",
       "Class   5.632e-03  1.000e+00  \n",
       "\n",
       "[31 rows x 31 columns]"
      ]
     },
     "execution_count": 19,
     "metadata": {},
     "output_type": "execute_result"
    }
   ],
   "source": [
    "#### Correlation Matrix\n",
    "\n",
    "corr = df.corr()\n",
    "\n",
    "corr"
   ]
  },
  {
   "cell_type": "code",
   "execution_count": 20,
   "metadata": {},
   "outputs": [
    {
     "data": {
      "image/png": "[encoded data removed]",
      "text/plain": [
       "<Figure size 1080x720 with 2 Axes>"
      ]
     },
     "metadata": {
      "needs_background": "light"
     },
     "output_type": "display_data"
    }
   ],
   "source": [
    "#heatmap\n",
    "\n",
    "plt.figure(figsize=(15,10))\n",
    "\n",
    "heat = sns.heatmap(data = corr, cmap = \"Blues\")\n",
    "\n",
    "plt.title('Heatmap of Correlation')\n",
    "\n",
    "plt.show()"
   ]
  },
  {
   "cell_type": "markdown",
   "metadata": {},
   "source": [
    "### Data preparation"
   ]
  },
  {
   "cell_type": "code",
   "execution_count": 21,
   "metadata": {},
   "outputs": [],
   "source": [
    "scaler = StandardScaler()"
   ]
  },
  {
   "cell_type": "code",
   "execution_count": 22,
   "metadata": {},
   "outputs": [],
   "source": [
    "### Normalize amount\n",
    "\n",
    "scaled_amount = scaler.fit_transform(df[['Amount']])\n",
    "\n",
    "flat_list = [item for sublist in scaled_amount.tolist() for item in sublist]\n",
    "\n",
    "scaled_amount = pd.Series(flat_list)"
   ]
  },
  {
   "cell_type": "code",
   "execution_count": 23,
   "metadata": {},
   "outputs": [
    {
     "data": {
      "text/html": [
       "<div>\n",
       "<style scoped>\n",
       "    .dataframe tbody tr th:only-of-type {\n",
       "        vertical-align: middle;\n",
       "    }\n",
       "\n",
       "    .dataframe tbody tr th {\n",
       "        vertical-align: top;\n",
       "    }\n",
       "\n",
       "    .dataframe thead th {\n",
       "        text-align: right;\n",
       "    }\n",
       "</style>\n",
       "<table border=\"1\" class=\"dataframe\">\n",
       "  <thead>\n",
       "    <tr style=\"text-align: right;\">\n",
       "      <th></th>\n",
       "      <th>Time</th>\n",
       "      <th>V1</th>\n",
       "      <th>V2</th>\n",
       "      <th>V3</th>\n",
       "      <th>V4</th>\n",
       "      <th>V5</th>\n",
       "      <th>V6</th>\n",
       "      <th>V7</th>\n",
       "      <th>V8</th>\n",
       "      <th>V9</th>\n",
       "      <th>...</th>\n",
       "      <th>V22</th>\n",
       "      <th>V23</th>\n",
       "      <th>V24</th>\n",
       "      <th>V25</th>\n",
       "      <th>V26</th>\n",
       "      <th>V27</th>\n",
       "      <th>V28</th>\n",
       "      <th>Amount</th>\n",
       "      <th>Class</th>\n",
       "      <th>Scaled_Amount</th>\n",
       "    </tr>\n",
       "  </thead>\n",
       "  <tbody>\n",
       "    <tr>\n",
       "      <th>0</th>\n",
       "      <td>0.0</td>\n",
       "      <td>-1.360</td>\n",
       "      <td>-0.073</td>\n",
       "      <td>2.536</td>\n",
       "      <td>1.378</td>\n",
       "      <td>-0.338</td>\n",
       "      <td>0.462</td>\n",
       "      <td>0.240</td>\n",
       "      <td>0.099</td>\n",
       "      <td>0.364</td>\n",
       "      <td>...</td>\n",
       "      <td>0.278</td>\n",
       "      <td>-0.110</td>\n",
       "      <td>0.067</td>\n",
       "      <td>0.129</td>\n",
       "      <td>-0.189</td>\n",
       "      <td>0.134</td>\n",
       "      <td>-0.021</td>\n",
       "      <td>149.62</td>\n",
       "      <td>0</td>\n",
       "      <td>0.245</td>\n",
       "    </tr>\n",
       "    <tr>\n",
       "      <th>1</th>\n",
       "      <td>0.0</td>\n",
       "      <td>1.192</td>\n",
       "      <td>0.266</td>\n",
       "      <td>0.166</td>\n",
       "      <td>0.448</td>\n",
       "      <td>0.060</td>\n",
       "      <td>-0.082</td>\n",
       "      <td>-0.079</td>\n",
       "      <td>0.085</td>\n",
       "      <td>-0.255</td>\n",
       "      <td>...</td>\n",
       "      <td>-0.639</td>\n",
       "      <td>0.101</td>\n",
       "      <td>-0.340</td>\n",
       "      <td>0.167</td>\n",
       "      <td>0.126</td>\n",
       "      <td>-0.009</td>\n",
       "      <td>0.015</td>\n",
       "      <td>2.69</td>\n",
       "      <td>0</td>\n",
       "      <td>-0.342</td>\n",
       "    </tr>\n",
       "    <tr>\n",
       "      <th>2</th>\n",
       "      <td>1.0</td>\n",
       "      <td>-1.358</td>\n",
       "      <td>-1.340</td>\n",
       "      <td>1.773</td>\n",
       "      <td>0.380</td>\n",
       "      <td>-0.503</td>\n",
       "      <td>1.800</td>\n",
       "      <td>0.791</td>\n",
       "      <td>0.248</td>\n",
       "      <td>-1.515</td>\n",
       "      <td>...</td>\n",
       "      <td>0.772</td>\n",
       "      <td>0.909</td>\n",
       "      <td>-0.689</td>\n",
       "      <td>-0.328</td>\n",
       "      <td>-0.139</td>\n",
       "      <td>-0.055</td>\n",
       "      <td>-0.060</td>\n",
       "      <td>378.66</td>\n",
       "      <td>0</td>\n",
       "      <td>1.161</td>\n",
       "    </tr>\n",
       "    <tr>\n",
       "      <th>3</th>\n",
       "      <td>1.0</td>\n",
       "      <td>-0.966</td>\n",
       "      <td>-0.185</td>\n",
       "      <td>1.793</td>\n",
       "      <td>-0.863</td>\n",
       "      <td>-0.010</td>\n",
       "      <td>1.247</td>\n",
       "      <td>0.238</td>\n",
       "      <td>0.377</td>\n",
       "      <td>-1.387</td>\n",
       "      <td>...</td>\n",
       "      <td>0.005</td>\n",
       "      <td>-0.190</td>\n",
       "      <td>-1.176</td>\n",
       "      <td>0.647</td>\n",
       "      <td>-0.222</td>\n",
       "      <td>0.063</td>\n",
       "      <td>0.061</td>\n",
       "      <td>123.50</td>\n",
       "      <td>0</td>\n",
       "      <td>0.141</td>\n",
       "    </tr>\n",
       "    <tr>\n",
       "      <th>4</th>\n",
       "      <td>2.0</td>\n",
       "      <td>-1.158</td>\n",
       "      <td>0.878</td>\n",
       "      <td>1.549</td>\n",
       "      <td>0.403</td>\n",
       "      <td>-0.407</td>\n",
       "      <td>0.096</td>\n",
       "      <td>0.593</td>\n",
       "      <td>-0.271</td>\n",
       "      <td>0.818</td>\n",
       "      <td>...</td>\n",
       "      <td>0.798</td>\n",
       "      <td>-0.137</td>\n",
       "      <td>0.141</td>\n",
       "      <td>-0.206</td>\n",
       "      <td>0.502</td>\n",
       "      <td>0.219</td>\n",
       "      <td>0.215</td>\n",
       "      <td>69.99</td>\n",
       "      <td>0</td>\n",
       "      <td>-0.073</td>\n",
       "    </tr>\n",
       "  </tbody>\n",
       "</table>\n",
       "<p>5 rows × 32 columns</p>\n",
       "</div>"
      ],
      "text/plain": [
       "   Time     V1     V2     V3     V4     V5     V6     V7     V8     V9  ...  \\\n",
       "0   0.0 -1.360 -0.073  2.536  1.378 -0.338  0.462  0.240  0.099  0.364  ...   \n",
       "1   0.0  1.192  0.266  0.166  0.448  0.060 -0.082 -0.079  0.085 -0.255  ...   \n",
       "2   1.0 -1.358 -1.340  1.773  0.380 -0.503  1.800  0.791  0.248 -1.515  ...   \n",
       "3   1.0 -0.966 -0.185  1.793 -0.863 -0.010  1.247  0.238  0.377 -1.387  ...   \n",
       "4   2.0 -1.158  0.878  1.549  0.403 -0.407  0.096  0.593 -0.271  0.818  ...   \n",
       "\n",
       "     V22    V23    V24    V25    V26    V27    V28  Amount  Class  \\\n",
       "0  0.278 -0.110  0.067  0.129 -0.189  0.134 -0.021  149.62      0   \n",
       "1 -0.639  0.101 -0.340  0.167  0.126 -0.009  0.015    2.69      0   \n",
       "2  0.772  0.909 -0.689 -0.328 -0.139 -0.055 -0.060  378.66      0   \n",
       "3  0.005 -0.190 -1.176  0.647 -0.222  0.063  0.061  123.50      0   \n",
       "4  0.798 -0.137  0.141 -0.206  0.502  0.219  0.215   69.99      0   \n",
       "\n",
       "   Scaled_Amount  \n",
       "0          0.245  \n",
       "1         -0.342  \n",
       "2          1.161  \n",
       "3          0.141  \n",
       "4         -0.073  \n",
       "\n",
       "[5 rows x 32 columns]"
      ]
     },
     "execution_count": 23,
     "metadata": {},
     "output_type": "execute_result"
    }
   ],
   "source": [
    "# Concatenating newly created columns with the original df\n",
    "\n",
    "df = pd.concat([df, scaled_amount.rename('Scaled_Amount')], axis=1)\n",
    "\n",
    "df.head(5)"
   ]
  },
  {
   "cell_type": "code",
   "execution_count": 24,
   "metadata": {},
   "outputs": [
    {
     "data": {
      "text/html": [
       "<div>\n",
       "<style scoped>\n",
       "    .dataframe tbody tr th:only-of-type {\n",
       "        vertical-align: middle;\n",
       "    }\n",
       "\n",
       "    .dataframe tbody tr th {\n",
       "        vertical-align: top;\n",
       "    }\n",
       "\n",
       "    .dataframe thead th {\n",
       "        text-align: right;\n",
       "    }\n",
       "</style>\n",
       "<table border=\"1\" class=\"dataframe\">\n",
       "  <thead>\n",
       "    <tr style=\"text-align: right;\">\n",
       "      <th></th>\n",
       "      <th>V1</th>\n",
       "      <th>V2</th>\n",
       "      <th>V3</th>\n",
       "      <th>V4</th>\n",
       "      <th>V5</th>\n",
       "      <th>V6</th>\n",
       "      <th>V7</th>\n",
       "      <th>V8</th>\n",
       "      <th>V9</th>\n",
       "      <th>V10</th>\n",
       "      <th>...</th>\n",
       "      <th>V21</th>\n",
       "      <th>V22</th>\n",
       "      <th>V23</th>\n",
       "      <th>V24</th>\n",
       "      <th>V25</th>\n",
       "      <th>V26</th>\n",
       "      <th>V27</th>\n",
       "      <th>V28</th>\n",
       "      <th>Class</th>\n",
       "      <th>Scaled_Amount</th>\n",
       "    </tr>\n",
       "  </thead>\n",
       "  <tbody>\n",
       "    <tr>\n",
       "      <th>0</th>\n",
       "      <td>-1.360</td>\n",
       "      <td>-0.073</td>\n",
       "      <td>2.536</td>\n",
       "      <td>1.378</td>\n",
       "      <td>-0.338</td>\n",
       "      <td>0.462</td>\n",
       "      <td>0.240</td>\n",
       "      <td>0.099</td>\n",
       "      <td>0.364</td>\n",
       "      <td>0.091</td>\n",
       "      <td>...</td>\n",
       "      <td>-0.018</td>\n",
       "      <td>0.278</td>\n",
       "      <td>-0.110</td>\n",
       "      <td>0.067</td>\n",
       "      <td>0.129</td>\n",
       "      <td>-0.189</td>\n",
       "      <td>0.134</td>\n",
       "      <td>-0.021</td>\n",
       "      <td>0</td>\n",
       "      <td>0.245</td>\n",
       "    </tr>\n",
       "    <tr>\n",
       "      <th>1</th>\n",
       "      <td>1.192</td>\n",
       "      <td>0.266</td>\n",
       "      <td>0.166</td>\n",
       "      <td>0.448</td>\n",
       "      <td>0.060</td>\n",
       "      <td>-0.082</td>\n",
       "      <td>-0.079</td>\n",
       "      <td>0.085</td>\n",
       "      <td>-0.255</td>\n",
       "      <td>-0.167</td>\n",
       "      <td>...</td>\n",
       "      <td>-0.226</td>\n",
       "      <td>-0.639</td>\n",
       "      <td>0.101</td>\n",
       "      <td>-0.340</td>\n",
       "      <td>0.167</td>\n",
       "      <td>0.126</td>\n",
       "      <td>-0.009</td>\n",
       "      <td>0.015</td>\n",
       "      <td>0</td>\n",
       "      <td>-0.342</td>\n",
       "    </tr>\n",
       "    <tr>\n",
       "      <th>2</th>\n",
       "      <td>-1.358</td>\n",
       "      <td>-1.340</td>\n",
       "      <td>1.773</td>\n",
       "      <td>0.380</td>\n",
       "      <td>-0.503</td>\n",
       "      <td>1.800</td>\n",
       "      <td>0.791</td>\n",
       "      <td>0.248</td>\n",
       "      <td>-1.515</td>\n",
       "      <td>0.208</td>\n",
       "      <td>...</td>\n",
       "      <td>0.248</td>\n",
       "      <td>0.772</td>\n",
       "      <td>0.909</td>\n",
       "      <td>-0.689</td>\n",
       "      <td>-0.328</td>\n",
       "      <td>-0.139</td>\n",
       "      <td>-0.055</td>\n",
       "      <td>-0.060</td>\n",
       "      <td>0</td>\n",
       "      <td>1.161</td>\n",
       "    </tr>\n",
       "    <tr>\n",
       "      <th>3</th>\n",
       "      <td>-0.966</td>\n",
       "      <td>-0.185</td>\n",
       "      <td>1.793</td>\n",
       "      <td>-0.863</td>\n",
       "      <td>-0.010</td>\n",
       "      <td>1.247</td>\n",
       "      <td>0.238</td>\n",
       "      <td>0.377</td>\n",
       "      <td>-1.387</td>\n",
       "      <td>-0.055</td>\n",
       "      <td>...</td>\n",
       "      <td>-0.108</td>\n",
       "      <td>0.005</td>\n",
       "      <td>-0.190</td>\n",
       "      <td>-1.176</td>\n",
       "      <td>0.647</td>\n",
       "      <td>-0.222</td>\n",
       "      <td>0.063</td>\n",
       "      <td>0.061</td>\n",
       "      <td>0</td>\n",
       "      <td>0.141</td>\n",
       "    </tr>\n",
       "    <tr>\n",
       "      <th>4</th>\n",
       "      <td>-1.158</td>\n",
       "      <td>0.878</td>\n",
       "      <td>1.549</td>\n",
       "      <td>0.403</td>\n",
       "      <td>-0.407</td>\n",
       "      <td>0.096</td>\n",
       "      <td>0.593</td>\n",
       "      <td>-0.271</td>\n",
       "      <td>0.818</td>\n",
       "      <td>0.753</td>\n",
       "      <td>...</td>\n",
       "      <td>-0.009</td>\n",
       "      <td>0.798</td>\n",
       "      <td>-0.137</td>\n",
       "      <td>0.141</td>\n",
       "      <td>-0.206</td>\n",
       "      <td>0.502</td>\n",
       "      <td>0.219</td>\n",
       "      <td>0.215</td>\n",
       "      <td>0</td>\n",
       "      <td>-0.073</td>\n",
       "    </tr>\n",
       "    <tr>\n",
       "      <th>...</th>\n",
       "      <td>...</td>\n",
       "      <td>...</td>\n",
       "      <td>...</td>\n",
       "      <td>...</td>\n",
       "      <td>...</td>\n",
       "      <td>...</td>\n",
       "      <td>...</td>\n",
       "      <td>...</td>\n",
       "      <td>...</td>\n",
       "      <td>...</td>\n",
       "      <td>...</td>\n",
       "      <td>...</td>\n",
       "      <td>...</td>\n",
       "      <td>...</td>\n",
       "      <td>...</td>\n",
       "      <td>...</td>\n",
       "      <td>...</td>\n",
       "      <td>...</td>\n",
       "      <td>...</td>\n",
       "      <td>...</td>\n",
       "      <td>...</td>\n",
       "    </tr>\n",
       "    <tr>\n",
       "      <th>284802</th>\n",
       "      <td>-11.881</td>\n",
       "      <td>10.072</td>\n",
       "      <td>-9.835</td>\n",
       "      <td>-2.067</td>\n",
       "      <td>-5.364</td>\n",
       "      <td>-2.607</td>\n",
       "      <td>-4.918</td>\n",
       "      <td>7.305</td>\n",
       "      <td>1.914</td>\n",
       "      <td>4.356</td>\n",
       "      <td>...</td>\n",
       "      <td>0.213</td>\n",
       "      <td>0.112</td>\n",
       "      <td>1.014</td>\n",
       "      <td>-0.509</td>\n",
       "      <td>1.437</td>\n",
       "      <td>0.250</td>\n",
       "      <td>0.944</td>\n",
       "      <td>0.824</td>\n",
       "      <td>0</td>\n",
       "      <td>-0.350</td>\n",
       "    </tr>\n",
       "    <tr>\n",
       "      <th>284803</th>\n",
       "      <td>-0.733</td>\n",
       "      <td>-0.055</td>\n",
       "      <td>2.035</td>\n",
       "      <td>-0.739</td>\n",
       "      <td>0.868</td>\n",
       "      <td>1.058</td>\n",
       "      <td>0.024</td>\n",
       "      <td>0.295</td>\n",
       "      <td>0.585</td>\n",
       "      <td>-0.976</td>\n",
       "      <td>...</td>\n",
       "      <td>0.214</td>\n",
       "      <td>0.924</td>\n",
       "      <td>0.012</td>\n",
       "      <td>-1.016</td>\n",
       "      <td>-0.607</td>\n",
       "      <td>-0.395</td>\n",
       "      <td>0.068</td>\n",
       "      <td>-0.054</td>\n",
       "      <td>0</td>\n",
       "      <td>-0.254</td>\n",
       "    </tr>\n",
       "    <tr>\n",
       "      <th>284804</th>\n",
       "      <td>1.920</td>\n",
       "      <td>-0.301</td>\n",
       "      <td>-3.250</td>\n",
       "      <td>-0.558</td>\n",
       "      <td>2.631</td>\n",
       "      <td>3.031</td>\n",
       "      <td>-0.297</td>\n",
       "      <td>0.708</td>\n",
       "      <td>0.432</td>\n",
       "      <td>-0.485</td>\n",
       "      <td>...</td>\n",
       "      <td>0.232</td>\n",
       "      <td>0.578</td>\n",
       "      <td>-0.038</td>\n",
       "      <td>0.640</td>\n",
       "      <td>0.266</td>\n",
       "      <td>-0.087</td>\n",
       "      <td>0.004</td>\n",
       "      <td>-0.027</td>\n",
       "      <td>0</td>\n",
       "      <td>-0.082</td>\n",
       "    </tr>\n",
       "    <tr>\n",
       "      <th>284805</th>\n",
       "      <td>-0.240</td>\n",
       "      <td>0.530</td>\n",
       "      <td>0.703</td>\n",
       "      <td>0.690</td>\n",
       "      <td>-0.378</td>\n",
       "      <td>0.624</td>\n",
       "      <td>-0.686</td>\n",
       "      <td>0.679</td>\n",
       "      <td>0.392</td>\n",
       "      <td>-0.399</td>\n",
       "      <td>...</td>\n",
       "      <td>0.265</td>\n",
       "      <td>0.800</td>\n",
       "      <td>-0.163</td>\n",
       "      <td>0.123</td>\n",
       "      <td>-0.569</td>\n",
       "      <td>0.547</td>\n",
       "      <td>0.109</td>\n",
       "      <td>0.105</td>\n",
       "      <td>0</td>\n",
       "      <td>-0.313</td>\n",
       "    </tr>\n",
       "    <tr>\n",
       "      <th>284806</th>\n",
       "      <td>-0.533</td>\n",
       "      <td>-0.190</td>\n",
       "      <td>0.703</td>\n",
       "      <td>-0.506</td>\n",
       "      <td>-0.013</td>\n",
       "      <td>-0.650</td>\n",
       "      <td>1.577</td>\n",
       "      <td>-0.415</td>\n",
       "      <td>0.486</td>\n",
       "      <td>-0.915</td>\n",
       "      <td>...</td>\n",
       "      <td>0.261</td>\n",
       "      <td>0.643</td>\n",
       "      <td>0.377</td>\n",
       "      <td>0.009</td>\n",
       "      <td>-0.474</td>\n",
       "      <td>-0.818</td>\n",
       "      <td>-0.002</td>\n",
       "      <td>0.014</td>\n",
       "      <td>0</td>\n",
       "      <td>0.514</td>\n",
       "    </tr>\n",
       "  </tbody>\n",
       "</table>\n",
       "<p>284807 rows × 30 columns</p>\n",
       "</div>"
      ],
      "text/plain": [
       "            V1      V2     V3     V4     V5     V6     V7     V8     V9  \\\n",
       "0       -1.360  -0.073  2.536  1.378 -0.338  0.462  0.240  0.099  0.364   \n",
       "1        1.192   0.266  0.166  0.448  0.060 -0.082 -0.079  0.085 -0.255   \n",
       "2       -1.358  -1.340  1.773  0.380 -0.503  1.800  0.791  0.248 -1.515   \n",
       "3       -0.966  -0.185  1.793 -0.863 -0.010  1.247  0.238  0.377 -1.387   \n",
       "4       -1.158   0.878  1.549  0.403 -0.407  0.096  0.593 -0.271  0.818   \n",
       "...        ...     ...    ...    ...    ...    ...    ...    ...    ...   \n",
       "284802 -11.881  10.072 -9.835 -2.067 -5.364 -2.607 -4.918  7.305  1.914   \n",
       "284803  -0.733  -0.055  2.035 -0.739  0.868  1.058  0.024  0.295  0.585   \n",
       "284804   1.920  -0.301 -3.250 -0.558  2.631  3.031 -0.297  0.708  0.432   \n",
       "284805  -0.240   0.530  0.703  0.690 -0.378  0.624 -0.686  0.679  0.392   \n",
       "284806  -0.533  -0.190  0.703 -0.506 -0.013 -0.650  1.577 -0.415  0.486   \n",
       "\n",
       "          V10  ...    V21    V22    V23    V24    V25    V26    V27    V28  \\\n",
       "0       0.091  ... -0.018  0.278 -0.110  0.067  0.129 -0.189  0.134 -0.021   \n",
       "1      -0.167  ... -0.226 -0.639  0.101 -0.340  0.167  0.126 -0.009  0.015   \n",
       "2       0.208  ...  0.248  0.772  0.909 -0.689 -0.328 -0.139 -0.055 -0.060   \n",
       "3      -0.055  ... -0.108  0.005 -0.190 -1.176  0.647 -0.222  0.063  0.061   \n",
       "4       0.753  ... -0.009  0.798 -0.137  0.141 -0.206  0.502  0.219  0.215   \n",
       "...       ...  ...    ...    ...    ...    ...    ...    ...    ...    ...   \n",
       "284802  4.356  ...  0.213  0.112  1.014 -0.509  1.437  0.250  0.944  0.824   \n",
       "284803 -0.976  ...  0.214  0.924  0.012 -1.016 -0.607 -0.395  0.068 -0.054   \n",
       "284804 -0.485  ...  0.232  0.578 -0.038  0.640  0.266 -0.087  0.004 -0.027   \n",
       "284805 -0.399  ...  0.265  0.800 -0.163  0.123 -0.569  0.547  0.109  0.105   \n",
       "284806 -0.915  ...  0.261  0.643  0.377  0.009 -0.474 -0.818 -0.002  0.014   \n",
       "\n",
       "        Class  Scaled_Amount  \n",
       "0           0          0.245  \n",
       "1           0         -0.342  \n",
       "2           0          1.161  \n",
       "3           0          0.141  \n",
       "4           0         -0.073  \n",
       "...       ...            ...  \n",
       "284802      0         -0.350  \n",
       "284803      0         -0.254  \n",
       "284804      0         -0.082  \n",
       "284805      0         -0.313  \n",
       "284806      0          0.514  \n",
       "\n",
       "[284807 rows x 30 columns]"
      ]
     },
     "execution_count": 24,
     "metadata": {},
     "output_type": "execute_result"
    }
   ],
   "source": [
    "# Dropping old amount and time columns\n",
    "\n",
    "df.drop(['Amount'], axis=1, inplace=True) ### inplace is permanent\n",
    "df.drop(['Time'], axis=1, inplace=True) ### inplace is permanent\n",
    "df"
   ]
  },
  {
   "cell_type": "code",
   "execution_count": 25,
   "metadata": {},
   "outputs": [
    {
     "name": "stdout",
     "output_type": "stream",
     "text": [
      "Train Shape: (227845, 29) \n",
      "Test Shape: (56962, 29)\n"
     ]
    }
   ],
   "source": [
    "# Data Splitting\n",
    "\n",
    "X = df.drop('Class', axis = 1).values\n",
    "\n",
    "y = df['Class'].values ### target\n",
    "\n",
    "X_train, X_test, y_train, y_test = train_test_split(X, y, test_size = 0.2,random_state = 0)\n",
    "\n",
    "print(\"Train Shape: {} \\nTest Shape: {}\".format(X_train.shape, X_test.shape))"
   ]
  },
  {
   "cell_type": "code",
   "execution_count": 26,
   "metadata": {},
   "outputs": [
    {
     "data": {
      "text/plain": [
       "array([0, 0, 0, ..., 0, 0, 0], dtype=int64)"
      ]
     },
     "execution_count": 26,
     "metadata": {},
     "output_type": "execute_result"
    }
   ],
   "source": [
    "y"
   ]
  },
  {
   "cell_type": "markdown",
   "metadata": {},
   "source": [
    "### Modeling"
   ]
  },
  {
   "cell_type": "markdown",
   "metadata": {},
   "source": [
    "- Training the model using different metrics"
   ]
  },
  {
   "cell_type": "markdown",
   "metadata": {},
   "source": [
    "- Training Set"
   ]
  },
  {
   "cell_type": "code",
   "execution_count": 27,
   "metadata": {},
   "outputs": [
    {
     "name": "stdout",
     "output_type": "stream",
     "text": [
      "--- 6.026557445526123 seconds ---\n"
     ]
    }
   ],
   "source": [
    "# 1. Decision Tree\n",
    "\n",
    "start_time = time.time()\n",
    "\n",
    "tree_model = DecisionTreeClassifier(max_depth = 4, criterion = 'entropy') ### for better results\n",
    "tree_model.fit(X_train, y_train)\n",
    "tree_y_train = tree_model.predict(X_train) #### Predicted Values (train set)\n",
    "\n",
    "print(\"--- %s seconds ---\" % (time.time() - start_time))"
   ]
  },
  {
   "cell_type": "code",
   "execution_count": 28,
   "metadata": {},
   "outputs": [
    {
     "name": "stdout",
     "output_type": "stream",
     "text": [
      "--- 1186.554869890213 seconds ---\n"
     ]
    }
   ],
   "source": [
    "# 2. K-Nearest Neighbors\n",
    "\n",
    "start_time = time.time()\n",
    "\n",
    "n = 5 ### default number\n",
    "\n",
    "knn = KNeighborsClassifier(n_neighbors = n)\n",
    "knn.fit(X_train, y_train)\n",
    "knn_y_train = knn.predict(X_train)  #### Predicted Values (train set)\n",
    "\n",
    "print(\"--- %s seconds ---\" % (time.time() - start_time))"
   ]
  },
  {
   "cell_type": "code",
   "execution_count": 29,
   "metadata": {},
   "outputs": [
    {
     "name": "stdout",
     "output_type": "stream",
     "text": [
      "--- 1.7907977104187012 seconds ---\n"
     ]
    }
   ],
   "source": [
    "# 3. Logistic Regression\n",
    "\n",
    "start_time = time.time()\n",
    "\n",
    "lr = LogisticRegression()\n",
    "lr.fit(X_train, y_train)\n",
    "lr_y_train = lr.predict(X_train)  #### Predicted Values(train set)\n",
    "\n",
    "print(\"--- %s seconds ---\" % (time.time() - start_time))"
   ]
  },
  {
   "cell_type": "code",
   "execution_count": 30,
   "metadata": {},
   "outputs": [
    {
     "name": "stdout",
     "output_type": "stream",
     "text": [
      "--- 2224.139788866043 seconds ---\n"
     ]
    }
   ],
   "source": [
    "# 4. SVM \n",
    "\n",
    "start_time = time.time()\n",
    "\n",
    "svm = SVC(probability = True)\n",
    "svm.fit(X_train, y_train)\n",
    "svm_y_train = svm.predict(X_train)  #### Predicted Values (train set)\n",
    "\n",
    "print(\"--- %s seconds ---\" % (time.time() - start_time))"
   ]
  },
  {
   "cell_type": "code",
   "execution_count": 31,
   "metadata": {},
   "outputs": [
    {
     "name": "stdout",
     "output_type": "stream",
     "text": [
      "--- 65.23336124420166 seconds ---\n"
     ]
    }
   ],
   "source": [
    "# 5. Random Forest Tree\n",
    "\n",
    "start_time = time.time()\n",
    "\n",
    "rf = RandomForestClassifier(max_depth = 4)\n",
    "rf.fit(X_train, y_train)\n",
    "rf_y_train = rf.predict(X_train)  #### Predicted Values (train set)\n",
    "\n",
    "print(\"--- %s seconds ---\" % (time.time() - start_time))"
   ]
  },
  {
   "cell_type": "markdown",
   "metadata": {},
   "source": [
    "- Test Data"
   ]
  },
  {
   "cell_type": "code",
   "execution_count": 32,
   "metadata": {},
   "outputs": [
    {
     "name": "stdout",
     "output_type": "stream",
     "text": [
      "--- 6.915700197219849 seconds ---\n"
     ]
    }
   ],
   "source": [
    "# 1. Decision Tree\n",
    "\n",
    "### We allowed the tree to split four times \n",
    "\n",
    "start_time = time.time()\n",
    "\n",
    "tree_model = DecisionTreeClassifier(max_depth = 4, criterion = 'entropy') ### for better results\n",
    "tree_model.fit(X_train, y_train)\n",
    "tree_yhat = tree_model.predict(X_test) #### Predicted Values\n",
    "\n",
    "print(\"--- %s seconds ---\" % (time.time() - start_time))\n"
   ]
  },
  {
   "cell_type": "code",
   "execution_count": 33,
   "metadata": {},
   "outputs": [
    {
     "name": "stdout",
     "output_type": "stream",
     "text": [
      "--- 285.8621492385864 seconds ---\n"
     ]
    }
   ],
   "source": [
    "# 2. K-Nearest Neighbors\n",
    "\n",
    "start_time = time.time()\n",
    "\n",
    "n = 5 ### default number\n",
    "\n",
    "knn = KNeighborsClassifier(n_neighbors = n)\n",
    "knn.fit(X_train, y_train)\n",
    "knn_yhat = knn.predict(X_test)  #### Predicted Values\n",
    "\n",
    "print(\"--- %s seconds ---\" % (time.time() - start_time))"
   ]
  },
  {
   "cell_type": "code",
   "execution_count": 34,
   "metadata": {},
   "outputs": [
    {
     "name": "stdout",
     "output_type": "stream",
     "text": [
      "--- 1.8681256771087646 seconds ---\n"
     ]
    }
   ],
   "source": [
    "# 3. Logistic Regression\n",
    "\n",
    "start_time = time.time()\n",
    "\n",
    "lr = LogisticRegression()\n",
    "lr.fit(X_train, y_train)\n",
    "lr_yhat = lr.predict(X_test)  #### Predicted Values\n",
    "\n",
    "print(\"--- %s seconds ---\" % (time.time() - start_time))"
   ]
  },
  {
   "cell_type": "code",
   "execution_count": 35,
   "metadata": {},
   "outputs": [
    {
     "name": "stdout",
     "output_type": "stream",
     "text": [
      "--- 2241.500190258026 seconds ---\n"
     ]
    }
   ],
   "source": [
    "# 4. SVM \n",
    "\n",
    "start_time = time.time()\n",
    "\n",
    "svm = SVC(probability = True)\n",
    "svm.fit(X_train, y_train)\n",
    "svm_yhat = svm.predict(X_test)  #### Predicted Values\n",
    "\n",
    "print(\"--- %s seconds ---\" % (time.time() - start_time))"
   ]
  },
  {
   "cell_type": "code",
   "execution_count": 36,
   "metadata": {},
   "outputs": [
    {
     "name": "stdout",
     "output_type": "stream",
     "text": [
      "--- 48.67369866371155 seconds ---\n"
     ]
    }
   ],
   "source": [
    "# 5. Random Forest Tree\n",
    "\n",
    "start_time = time.time()\n",
    "\n",
    "rf = RandomForestClassifier(max_depth = 4)\n",
    "rf.fit(X_train, y_train)\n",
    "rf_yhat = rf.predict(X_test)  #### Predicted Values\n",
    "\n",
    "print(\"--- %s seconds ---\" % (time.time() - start_time))"
   ]
  },
  {
   "cell_type": "markdown",
   "metadata": {},
   "source": [
    "#### Evaluation"
   ]
  },
  {
   "cell_type": "code",
   "execution_count": 37,
   "metadata": {},
   "outputs": [],
   "source": [
    "### Performance Metrics"
   ]
  },
  {
   "cell_type": "code",
   "execution_count": 38,
   "metadata": {},
   "outputs": [],
   "source": [
    "##### 1. Accuracy"
   ]
  },
  {
   "cell_type": "markdown",
   "metadata": {},
   "source": [
    "$$ Accuracy of a model =  \\frac{TP+TN}{TP+TN+FP+FN}$$"
   ]
  },
  {
   "cell_type": "code",
   "execution_count": 39,
   "metadata": {},
   "outputs": [],
   "source": [
    "##### 2. F1 Score"
   ]
  },
  {
   "cell_type": "markdown",
   "metadata": {},
   "source": [
    "$$ F1  Score = 2 * \\frac {(precision * recall)}{(precision + recall)}$$"
   ]
  },
  {
   "cell_type": "code",
   "execution_count": 40,
   "metadata": {},
   "outputs": [],
   "source": [
    "##### 3. Recall Score"
   ]
  },
  {
   "cell_type": "markdown",
   "metadata": {},
   "source": [
    "$$ Recall =  \\frac{TP}{TP+FN}$$"
   ]
  },
  {
   "cell_type": "code",
   "execution_count": 41,
   "metadata": {},
   "outputs": [],
   "source": [
    "##### 4. Precision Score"
   ]
  },
  {
   "cell_type": "markdown",
   "metadata": {},
   "source": [
    "$$ Precision =  \\frac{TP}{TP+FP}$$"
   ]
  },
  {
   "cell_type": "code",
   "execution_count": 42,
   "metadata": {},
   "outputs": [],
   "source": [
    "# 3. Confusion Matrix\n",
    "\n",
    "# defining the plot function\n",
    "\n",
    "def plot_confusion_matrix(cm, classes, title, normalize = False, cmap = plt.cm.Blues):\n",
    "    title = 'Confusion Matrix of {}'.format(title)\n",
    "    if normalize:\n",
    "        cm = cm.astype(float) / cm.sum(axis=1)[:, np.newaxis]\n",
    "\n",
    "    plt.imshow(cm, interpolation = 'nearest', cmap = cmap)\n",
    "    plt.title(title)\n",
    "    plt.colorbar()\n",
    "    tick_marks = np.arange(len(classes))\n",
    "    plt.xticks(tick_marks, classes, rotation = 45)\n",
    "    plt.yticks(tick_marks, classes)\n",
    "\n",
    "    fmt = '.2f' if normalize else 'd'\n",
    "    thresh = cm.max() / 2.\n",
    "    for i, j in itertools.product(range(cm.shape[0]), range(cm.shape[1])):\n",
    "        plt.text(j, i, format(cm[i, j], fmt),\n",
    "                 horizontalalignment = 'center',\n",
    "                 color = 'white' if cm[i, j] > thresh else 'black')\n",
    "\n",
    "    plt.tight_layout()\n",
    "    plt.ylabel('True label')\n",
    "    plt.xlabel('Predicted label')"
   ]
  },
  {
   "cell_type": "markdown",
   "metadata": {},
   "source": [
    "- Decision Tree"
   ]
  },
  {
   "cell_type": "code",
   "execution_count": 43,
   "metadata": {},
   "outputs": [
    {
     "name": "stdout",
     "output_type": "stream",
     "text": [
      "Accuracy score of the Decision Tree model is 0.9993679997191109\n",
      "---------------------------------------------------------------\n",
      "F1 Score score of the Decision Tree model is 0.8105263157894738\n",
      "---------------------------------------------------------------\n",
      "Recall score of the Decision Tree model is 0.7623762376237624\n",
      "---------------------------------------------------------------\n",
      "Precision score of the Decision Tree model is 0.8651685393258427.\n",
      "---------------------------------------------------------------\n"
     ]
    },
    {
     "data": {
      "image/png": "[encoded data removed]",
      "text/plain": [
       "<Figure size 432x288 with 2 Axes>"
      ]
     },
     "metadata": {
      "needs_background": "light"
     },
     "output_type": "display_data"
    },
    {
     "name": "stdout",
     "output_type": "stream",
     "text": [
      "--- 0.8703446388244629 seconds ---\n"
     ]
    }
   ],
   "source": [
    "start_time = time.time()\n",
    "\n",
    "print('Accuracy score of the Decision Tree model is {}'.format(accuracy_score(y_test, tree_yhat)))\n",
    "print(\"---------------------------------------------------------------\")\n",
    "print('F1 Score score of the Decision Tree model is {}'.format(f1_score(y_test, tree_yhat)))\n",
    "print(\"---------------------------------------------------------------\")\n",
    "print(\"Recall score of the Decision Tree model is {}\".format(recall_score(y_test, tree_yhat)))\n",
    "print(\"---------------------------------------------------------------\")\n",
    "print(\"Precision score of the Decision Tree model is {}.\".format(precision_score(y_test, tree_yhat)))\n",
    "print(\"---------------------------------------------------------------\")\n",
    "\n",
    "tree_matrix = confusion_matrix(y_test, tree_yhat, labels = [0, 1])\n",
    "\n",
    "tree_cm_plot = plot_confusion_matrix(tree_matrix, classes = [\"Genuine\",\"Fraudulent\"], normalize = False, title = 'Decision Tree')\n",
    "\n",
    "plt.grid(False)\n",
    "\n",
    "plt.show()\n",
    "\n",
    "print(\"--- %s seconds ---\" % (time.time() - start_time))"
   ]
  },
  {
   "cell_type": "markdown",
   "metadata": {},
   "source": [
    "- Classification Report (Decision Tree)"
   ]
  },
  {
   "cell_type": "code",
   "execution_count": 44,
   "metadata": {},
   "outputs": [
    {
     "name": "stdout",
     "output_type": "stream",
     "text": [
      "              precision    recall  f1-score   support\n",
      "\n",
      "           0       1.00      1.00      1.00     56861\n",
      "           1       0.87      0.76      0.81       101\n",
      "\n",
      "    accuracy                           1.00     56962\n",
      "   macro avg       0.93      0.88      0.91     56962\n",
      "weighted avg       1.00      1.00      1.00     56962\n",
      "\n"
     ]
    }
   ],
   "source": [
    "print(classification_report(y_test, tree_yhat))"
   ]
  },
  {
   "cell_type": "markdown",
   "metadata": {},
   "source": [
    "- KNN Model"
   ]
  },
  {
   "cell_type": "code",
   "execution_count": 45,
   "metadata": {},
   "outputs": [
    {
     "name": "stdout",
     "output_type": "stream",
     "text": [
      "Accuracy score of the KNN model is 0.9995259997893332\n",
      "---------------------------------------------------------------\n",
      "F1 Score score of the KNN model is 0.8571428571428572\n",
      "---------------------------------------------------------------\n",
      "Recall score of the KNN model is 0.801980198019802\n",
      "---------------------------------------------------------------\n",
      "Precision score of the KNN model is 0.9204545454545454.\n",
      "---------------------------------------------------------------\n"
     ]
    },
    {
     "data": {
      "image/png": "[encoded data removed]",
      "text/plain": [
       "<Figure size 432x288 with 2 Axes>"
      ]
     },
     "metadata": {
      "needs_background": "light"
     },
     "output_type": "display_data"
    },
    {
     "name": "stdout",
     "output_type": "stream",
     "text": [
      "--- 0.5268213748931885 seconds ---\n"
     ]
    }
   ],
   "source": [
    "start_time = time.time()\n",
    "\n",
    "print('Accuracy score of the KNN model is {}'.format(accuracy_score(y_test, knn_yhat)))\n",
    "print(\"---------------------------------------------------------------\")\n",
    "print('F1 Score score of the KNN model is {}'.format(f1_score(y_test, knn_yhat)))\n",
    "print(\"---------------------------------------------------------------\")\n",
    "print(\"Recall score of the KNN model is {}\".format(recall_score(y_test, knn_yhat)))\n",
    "print(\"---------------------------------------------------------------\")\n",
    "print(\"Precision score of the KNN model is {}.\".format(precision_score(y_test, knn_yhat)))\n",
    "print(\"---------------------------------------------------------------\")\n",
    "\n",
    "tree_matrix = confusion_matrix(y_test, knn_yhat, labels = [0, 1])\n",
    "\n",
    "tree_cm_plot = plot_confusion_matrix(tree_matrix, classes = [\"Genuine\",\"Fraudulent\"], normalize = False, title = 'KNN')\n",
    "\n",
    "plt.grid(False)\n",
    "\n",
    "plt.show()\n",
    "\n",
    "print(\"--- %s seconds ---\" % (time.time() - start_time))"
   ]
  },
  {
   "cell_type": "markdown",
   "metadata": {},
   "source": [
    "- Classification Report (KNN Model)"
   ]
  },
  {
   "cell_type": "code",
   "execution_count": 46,
   "metadata": {},
   "outputs": [
    {
     "name": "stdout",
     "output_type": "stream",
     "text": [
      "              precision    recall  f1-score   support\n",
      "\n",
      "           0       1.00      1.00      1.00     56861\n",
      "           1       0.92      0.80      0.86       101\n",
      "\n",
      "    accuracy                           1.00     56962\n",
      "   macro avg       0.96      0.90      0.93     56962\n",
      "weighted avg       1.00      1.00      1.00     56962\n",
      "\n"
     ]
    }
   ],
   "source": [
    "print(classification_report(y_test, knn_yhat))"
   ]
  },
  {
   "cell_type": "markdown",
   "metadata": {},
   "source": [
    "- Logistic Regression"
   ]
  },
  {
   "cell_type": "code",
   "execution_count": 47,
   "metadata": {},
   "outputs": [
    {
     "name": "stdout",
     "output_type": "stream",
     "text": [
      "Accuracy score of the LR model is 0.9991924440855307\n",
      "---------------------------------------------------------------\n",
      "F1 Score score of the LR model is 0.7356321839080459\n",
      "---------------------------------------------------------------\n",
      "Recall score of the LR model is 0.6336633663366337\n",
      "---------------------------------------------------------------\n",
      "Precision score of the LR model is 0.8767123287671232.\n",
      "---------------------------------------------------------------\n"
     ]
    },
    {
     "data": {
      "image/png": "[encoded data removed]",
      "text/plain": [
       "<Figure size 432x288 with 2 Axes>"
      ]
     },
     "metadata": {
      "needs_background": "light"
     },
     "output_type": "display_data"
    },
    {
     "name": "stdout",
     "output_type": "stream",
     "text": [
      "--- 0.5064678192138672 seconds ---\n"
     ]
    }
   ],
   "source": [
    "start_time = time.time()\n",
    "\n",
    "print('Accuracy score of the LR model is {}'.format(accuracy_score(y_test, lr_yhat)))\n",
    "print(\"---------------------------------------------------------------\")\n",
    "print('F1 Score score of the LR model is {}'.format(f1_score(y_test, lr_yhat)))\n",
    "print(\"---------------------------------------------------------------\")\n",
    "print(\"Recall score of the LR model is {}\".format(recall_score(y_test, lr_yhat)))\n",
    "print(\"---------------------------------------------------------------\")\n",
    "print(\"Precision score of the LR model is {}.\".format(precision_score(y_test, lr_yhat)))\n",
    "print(\"---------------------------------------------------------------\")\n",
    "\n",
    "tree_matrix = confusion_matrix(y_test, lr_yhat, labels = [0, 1])\n",
    "\n",
    "tree_cm_plot = plot_confusion_matrix(tree_matrix, classes = [\"Genuine\",\"Fraudulent\"], normalize = False, title = 'LR')\n",
    "\n",
    "plt.grid(False)\n",
    "\n",
    "plt.show()\n",
    "\n",
    "print(\"--- %s seconds ---\" % (time.time() - start_time))"
   ]
  },
  {
   "cell_type": "markdown",
   "metadata": {},
   "source": [
    "- Classification Report (Logistic Regression Model)"
   ]
  },
  {
   "cell_type": "code",
   "execution_count": 48,
   "metadata": {},
   "outputs": [
    {
     "name": "stdout",
     "output_type": "stream",
     "text": [
      "              precision    recall  f1-score   support\n",
      "\n",
      "           0       1.00      1.00      1.00     56861\n",
      "           1       0.88      0.63      0.74       101\n",
      "\n",
      "    accuracy                           1.00     56962\n",
      "   macro avg       0.94      0.82      0.87     56962\n",
      "weighted avg       1.00      1.00      1.00     56962\n",
      "\n"
     ]
    }
   ],
   "source": [
    "print(classification_report(y_test, lr_yhat))"
   ]
  },
  {
   "cell_type": "markdown",
   "metadata": {},
   "source": [
    "- SVM Model"
   ]
  },
  {
   "cell_type": "code",
   "execution_count": 49,
   "metadata": {},
   "outputs": [
    {
     "name": "stdout",
     "output_type": "stream",
     "text": [
      "Accuracy score of the SVM model is 0.9993153330290369\n",
      "---------------------------------------------------------------\n",
      "F1 Score score of the SVM model is 0.7771428571428572\n",
      "---------------------------------------------------------------\n",
      "Recall score of the SVM model is 0.6732673267326733\n",
      "---------------------------------------------------------------\n",
      "Precision score of the SVM model is 0.918918918918919.\n",
      "---------------------------------------------------------------\n"
     ]
    },
    {
     "data": {
      "image/png": "[encoded data removed]",
      "text/plain": [
       "<Figure size 432x288 with 2 Axes>"
      ]
     },
     "metadata": {
      "needs_background": "light"
     },
     "output_type": "display_data"
    },
    {
     "name": "stdout",
     "output_type": "stream",
     "text": [
      "--- 0.4210665225982666 seconds ---\n"
     ]
    }
   ],
   "source": [
    "start_time = time.time()\n",
    "\n",
    "print('Accuracy score of the SVM model is {}'.format(accuracy_score(y_test, svm_yhat)))\n",
    "print(\"---------------------------------------------------------------\")\n",
    "print('F1 Score score of the SVM model is {}'.format(f1_score(y_test, svm_yhat)))\n",
    "print(\"---------------------------------------------------------------\")\n",
    "print(\"Recall score of the SVM model is {}\".format(recall_score(y_test, svm_yhat)))\n",
    "print(\"---------------------------------------------------------------\")\n",
    "print(\"Precision score of the SVM model is {}.\".format(precision_score(y_test, svm_yhat)))\n",
    "print(\"---------------------------------------------------------------\")\n",
    "\n",
    "tree_matrix = confusion_matrix(y_test, svm_yhat, labels = [0, 1])\n",
    "\n",
    "tree_cm_plot = plot_confusion_matrix(tree_matrix, classes = [\"Genuine\",\"Fraudulent\"], normalize = False, title = 'SVM')\n",
    "\n",
    "plt.grid(False)\n",
    "\n",
    "plt.show()\n",
    "\n",
    "print(\"--- %s seconds ---\" % (time.time() - start_time))"
   ]
  },
  {
   "cell_type": "markdown",
   "metadata": {},
   "source": [
    "- Classification Report (SVM Model)"
   ]
  },
  {
   "cell_type": "code",
   "execution_count": 50,
   "metadata": {},
   "outputs": [
    {
     "name": "stdout",
     "output_type": "stream",
     "text": [
      "              precision    recall  f1-score   support\n",
      "\n",
      "           0       1.00      1.00      1.00     56861\n",
      "           1       0.92      0.67      0.78       101\n",
      "\n",
      "    accuracy                           1.00     56962\n",
      "   macro avg       0.96      0.84      0.89     56962\n",
      "weighted avg       1.00      1.00      1.00     56962\n",
      "\n"
     ]
    }
   ],
   "source": [
    "print(classification_report(y_test, svm_yhat))"
   ]
  },
  {
   "cell_type": "markdown",
   "metadata": {},
   "source": [
    "- Random Forest Model"
   ]
  },
  {
   "cell_type": "code",
   "execution_count": 51,
   "metadata": {},
   "outputs": [
    {
     "name": "stdout",
     "output_type": "stream",
     "text": [
      "Accuracy score of the Random Forest model is 0.9992977774656788\n",
      "---------------------------------------------------------------\n",
      "F1 Score score of the Random Forest model is 0.7727272727272727\n",
      "---------------------------------------------------------------\n",
      "Recall score of the Random Forest model is 0.6732673267326733\n",
      "---------------------------------------------------------------\n",
      "Precision score of the Random Forest model is 0.9066666666666666.\n",
      "---------------------------------------------------------------\n"
     ]
    },
    {
     "data": {
      "image/png": "[encoded data removed]",
      "text/plain": [
       "<Figure size 432x288 with 2 Axes>"
      ]
     },
     "metadata": {
      "needs_background": "light"
     },
     "output_type": "display_data"
    },
    {
     "name": "stdout",
     "output_type": "stream",
     "text": [
      "--- 0.4129784107208252 seconds ---\n"
     ]
    }
   ],
   "source": [
    "start_time = time.time()\n",
    "\n",
    "print('Accuracy score of the Random Forest model is {}'.format(accuracy_score(y_test, rf_yhat)))\n",
    "print(\"---------------------------------------------------------------\")\n",
    "print('F1 Score score of the Random Forest model is {}'.format(f1_score(y_test, rf_yhat)))\n",
    "print(\"---------------------------------------------------------------\")\n",
    "print(\"Recall score of the Random Forest model is {}\".format(recall_score(y_test, rf_yhat)))\n",
    "print(\"---------------------------------------------------------------\")\n",
    "print(\"Precision score of the Random Forest model is {}.\".format(precision_score(y_test, rf_yhat)))\n",
    "print(\"---------------------------------------------------------------\")\n",
    "\n",
    "tree_matrix = confusion_matrix(y_test, rf_yhat, labels = [0, 1])\n",
    "\n",
    "tree_cm_plot = plot_confusion_matrix(tree_matrix, classes = [\"Genuine\",\"Fraudulent\"], normalize = False, title = 'Random Forest')\n",
    "\n",
    "plt.grid(False)\n",
    "\n",
    "plt.show()\n",
    "\n",
    "print(\"--- %s seconds ---\" % (time.time() - start_time))"
   ]
  },
  {
   "cell_type": "markdown",
   "metadata": {},
   "source": [
    "- Classification Report (Random Forest)"
   ]
  },
  {
   "cell_type": "code",
   "execution_count": 52,
   "metadata": {},
   "outputs": [
    {
     "name": "stdout",
     "output_type": "stream",
     "text": [
      "              precision    recall  f1-score   support\n",
      "\n",
      "           0       1.00      1.00      1.00     56861\n",
      "           1       0.91      0.67      0.77       101\n",
      "\n",
      "    accuracy                           1.00     56962\n",
      "   macro avg       0.95      0.84      0.89     56962\n",
      "weighted avg       1.00      1.00      1.00     56962\n",
      "\n"
     ]
    }
   ],
   "source": [
    "print(classification_report(y_test, rf_yhat))"
   ]
  },
  {
   "cell_type": "code",
   "execution_count": 53,
   "metadata": {},
   "outputs": [],
   "source": [
    "# DataFrames comparing both the training and testing measures for each model and plotting each ROC curve"
   ]
  },
  {
   "cell_type": "code",
   "execution_count": 54,
   "metadata": {},
   "outputs": [
    {
     "data": {
      "text/html": [
       "<div>\n",
       "<style scoped>\n",
       "    .dataframe tbody tr th:only-of-type {\n",
       "        vertical-align: middle;\n",
       "    }\n",
       "\n",
       "    .dataframe tbody tr th {\n",
       "        vertical-align: top;\n",
       "    }\n",
       "\n",
       "    .dataframe thead th {\n",
       "        text-align: right;\n",
       "    }\n",
       "</style>\n",
       "<table border=\"1\" class=\"dataframe\">\n",
       "  <thead>\n",
       "    <tr style=\"text-align: right;\">\n",
       "      <th></th>\n",
       "      <th>Metric</th>\n",
       "      <th>Train</th>\n",
       "      <th>Test</th>\n",
       "    </tr>\n",
       "  </thead>\n",
       "  <tbody>\n",
       "    <tr>\n",
       "      <th>0</th>\n",
       "      <td>Accuracy</td>\n",
       "      <td>0.999</td>\n",
       "      <td>0.999</td>\n",
       "    </tr>\n",
       "    <tr>\n",
       "      <th>1</th>\n",
       "      <td>Recall</td>\n",
       "      <td>0.793</td>\n",
       "      <td>0.762</td>\n",
       "    </tr>\n",
       "    <tr>\n",
       "      <th>2</th>\n",
       "      <td>Precision</td>\n",
       "      <td>0.891</td>\n",
       "      <td>0.865</td>\n",
       "    </tr>\n",
       "    <tr>\n",
       "      <th>3</th>\n",
       "      <td>F1 Score</td>\n",
       "      <td>0.839</td>\n",
       "      <td>0.811</td>\n",
       "    </tr>\n",
       "  </tbody>\n",
       "</table>\n",
       "</div>"
      ],
      "text/plain": [
       "      Metric  Train   Test\n",
       "0   Accuracy  0.999  0.999\n",
       "1     Recall  0.793  0.762\n",
       "2  Precision  0.891  0.865\n",
       "3   F1 Score  0.839  0.811"
      ]
     },
     "execution_count": 54,
     "metadata": {},
     "output_type": "execute_result"
    }
   ],
   "source": [
    "#### 1. Decision Tree\n",
    "\n",
    "tree_df = pd.DataFrame({\"Metric\": [\"Accuracy\", \"Recall\", \"Precision\", \"F1 Score\"],\n",
    "                       \"Train\":[accuracy_score(y_train, tree_y_train), recall_score(y_train, tree_y_train), precision_score(y_train, tree_y_train), f1_score(y_train, tree_y_train)],\n",
    "                       \"Test\": [accuracy_score(y_test, tree_yhat), recall_score(y_test, tree_yhat), precision_score(y_test, tree_yhat), f1_score(y_test, tree_yhat)]\n",
    "})\n",
    "\n",
    "tree_df"
   ]
  },
  {
   "cell_type": "code",
   "execution_count": 55,
   "metadata": {},
   "outputs": [
    {
     "data": {
      "text/html": [
       "<div>\n",
       "<style scoped>\n",
       "    .dataframe tbody tr th:only-of-type {\n",
       "        vertical-align: middle;\n",
       "    }\n",
       "\n",
       "    .dataframe tbody tr th {\n",
       "        vertical-align: top;\n",
       "    }\n",
       "\n",
       "    .dataframe thead th {\n",
       "        text-align: right;\n",
       "    }\n",
       "</style>\n",
       "<table border=\"1\" class=\"dataframe\">\n",
       "  <thead>\n",
       "    <tr style=\"text-align: right;\">\n",
       "      <th></th>\n",
       "      <th>Metric</th>\n",
       "      <th>Train</th>\n",
       "      <th>Test</th>\n",
       "    </tr>\n",
       "  </thead>\n",
       "  <tbody>\n",
       "    <tr>\n",
       "      <th>0</th>\n",
       "      <td>Accuracy</td>\n",
       "      <td>1.000</td>\n",
       "      <td>1.000</td>\n",
       "    </tr>\n",
       "    <tr>\n",
       "      <th>1</th>\n",
       "      <td>Recall</td>\n",
       "      <td>0.798</td>\n",
       "      <td>0.802</td>\n",
       "    </tr>\n",
       "    <tr>\n",
       "      <th>2</th>\n",
       "      <td>Precision</td>\n",
       "      <td>0.957</td>\n",
       "      <td>0.920</td>\n",
       "    </tr>\n",
       "    <tr>\n",
       "      <th>3</th>\n",
       "      <td>F1 Score</td>\n",
       "      <td>0.870</td>\n",
       "      <td>0.857</td>\n",
       "    </tr>\n",
       "  </tbody>\n",
       "</table>\n",
       "</div>"
      ],
      "text/plain": [
       "      Metric  Train   Test\n",
       "0   Accuracy  1.000  1.000\n",
       "1     Recall  0.798  0.802\n",
       "2  Precision  0.957  0.920\n",
       "3   F1 Score  0.870  0.857"
      ]
     },
     "execution_count": 55,
     "metadata": {},
     "output_type": "execute_result"
    }
   ],
   "source": [
    "#### 2. KNN\n",
    "\n",
    "knn_df = pd.DataFrame({\"Metric\": [\"Accuracy\", \"Recall\", \"Precision\", \"F1 Score\"],\n",
    "                       \"Train\":[accuracy_score(y_train, knn_y_train), recall_score(y_train, knn_y_train), precision_score(y_train, knn_y_train), f1_score(y_train, knn_y_train)],\n",
    "                       \"Test\": [accuracy_score(y_test, knn_yhat), recall_score(y_test, knn_yhat), precision_score(y_test, knn_yhat), f1_score(y_test, knn_yhat)]\n",
    "})\n",
    "\n",
    "knn_df"
   ]
  },
  {
   "cell_type": "code",
   "execution_count": 56,
   "metadata": {},
   "outputs": [
    {
     "data": {
      "text/html": [
       "<div>\n",
       "<style scoped>\n",
       "    .dataframe tbody tr th:only-of-type {\n",
       "        vertical-align: middle;\n",
       "    }\n",
       "\n",
       "    .dataframe tbody tr th {\n",
       "        vertical-align: top;\n",
       "    }\n",
       "\n",
       "    .dataframe thead th {\n",
       "        text-align: right;\n",
       "    }\n",
       "</style>\n",
       "<table border=\"1\" class=\"dataframe\">\n",
       "  <thead>\n",
       "    <tr style=\"text-align: right;\">\n",
       "      <th></th>\n",
       "      <th>Metric</th>\n",
       "      <th>Train</th>\n",
       "      <th>Test</th>\n",
       "    </tr>\n",
       "  </thead>\n",
       "  <tbody>\n",
       "    <tr>\n",
       "      <th>0</th>\n",
       "      <td>Accuracy</td>\n",
       "      <td>0.999</td>\n",
       "      <td>0.999</td>\n",
       "    </tr>\n",
       "    <tr>\n",
       "      <th>1</th>\n",
       "      <td>Recall</td>\n",
       "      <td>0.611</td>\n",
       "      <td>0.634</td>\n",
       "    </tr>\n",
       "    <tr>\n",
       "      <th>2</th>\n",
       "      <td>Precision</td>\n",
       "      <td>0.879</td>\n",
       "      <td>0.877</td>\n",
       "    </tr>\n",
       "    <tr>\n",
       "      <th>3</th>\n",
       "      <td>F1 Score</td>\n",
       "      <td>0.721</td>\n",
       "      <td>0.736</td>\n",
       "    </tr>\n",
       "  </tbody>\n",
       "</table>\n",
       "</div>"
      ],
      "text/plain": [
       "      Metric  Train   Test\n",
       "0   Accuracy  0.999  0.999\n",
       "1     Recall  0.611  0.634\n",
       "2  Precision  0.879  0.877\n",
       "3   F1 Score  0.721  0.736"
      ]
     },
     "execution_count": 56,
     "metadata": {},
     "output_type": "execute_result"
    }
   ],
   "source": [
    "### 3. logistic Regression\n",
    "\n",
    "lr_df = pd.DataFrame({\"Metric\": [\"Accuracy\", \"Recall\", \"Precision\", \"F1 Score\"],\n",
    "                       \"Train\":[accuracy_score(y_train, lr_y_train), recall_score(y_train, lr_y_train), precision_score(y_train, lr_y_train), f1_score(y_train, lr_y_train)],\n",
    "                       \"Test\": [accuracy_score(y_test, lr_yhat), recall_score(y_test, lr_yhat), precision_score(y_test, lr_yhat), f1_score(y_test, lr_yhat)]\n",
    "})\n",
    "\n",
    "lr_df"
   ]
  },
  {
   "cell_type": "code",
   "execution_count": 57,
   "metadata": {},
   "outputs": [
    {
     "data": {
      "text/html": [
       "<div>\n",
       "<style scoped>\n",
       "    .dataframe tbody tr th:only-of-type {\n",
       "        vertical-align: middle;\n",
       "    }\n",
       "\n",
       "    .dataframe tbody tr th {\n",
       "        vertical-align: top;\n",
       "    }\n",
       "\n",
       "    .dataframe thead th {\n",
       "        text-align: right;\n",
       "    }\n",
       "</style>\n",
       "<table border=\"1\" class=\"dataframe\">\n",
       "  <thead>\n",
       "    <tr style=\"text-align: right;\">\n",
       "      <th></th>\n",
       "      <th>Metric</th>\n",
       "      <th>Train</th>\n",
       "      <th>Test</th>\n",
       "    </tr>\n",
       "  </thead>\n",
       "  <tbody>\n",
       "    <tr>\n",
       "      <th>0</th>\n",
       "      <td>Accuracy</td>\n",
       "      <td>1.000</td>\n",
       "      <td>0.999</td>\n",
       "    </tr>\n",
       "    <tr>\n",
       "      <th>1</th>\n",
       "      <td>Recall</td>\n",
       "      <td>0.806</td>\n",
       "      <td>0.673</td>\n",
       "    </tr>\n",
       "    <tr>\n",
       "      <th>2</th>\n",
       "      <td>Precision</td>\n",
       "      <td>0.981</td>\n",
       "      <td>0.919</td>\n",
       "    </tr>\n",
       "    <tr>\n",
       "      <th>3</th>\n",
       "      <td>F1 Score</td>\n",
       "      <td>0.885</td>\n",
       "      <td>0.777</td>\n",
       "    </tr>\n",
       "  </tbody>\n",
       "</table>\n",
       "</div>"
      ],
      "text/plain": [
       "      Metric  Train   Test\n",
       "0   Accuracy  1.000  0.999\n",
       "1     Recall  0.806  0.673\n",
       "2  Precision  0.981  0.919\n",
       "3   F1 Score  0.885  0.777"
      ]
     },
     "execution_count": 57,
     "metadata": {},
     "output_type": "execute_result"
    }
   ],
   "source": [
    "### 4. SVM\n",
    "\n",
    "svm_df = pd.DataFrame({\"Metric\": [\"Accuracy\", \"Recall\", \"Precision\", \"F1 Score\"],\n",
    "                       \"Train\":[accuracy_score(y_train, svm_y_train), recall_score(y_train, svm_y_train), precision_score(y_train, svm_y_train), f1_score(y_train, svm_y_train)],\n",
    "                       \"Test\": [accuracy_score(y_test, svm_yhat), recall_score(y_test, svm_yhat), precision_score(y_test, svm_yhat), f1_score(y_test, svm_yhat)]\n",
    "})\n",
    "\n",
    "svm_df"
   ]
  },
  {
   "cell_type": "code",
   "execution_count": 58,
   "metadata": {},
   "outputs": [
    {
     "data": {
      "text/html": [
       "<div>\n",
       "<style scoped>\n",
       "    .dataframe tbody tr th:only-of-type {\n",
       "        vertical-align: middle;\n",
       "    }\n",
       "\n",
       "    .dataframe tbody tr th {\n",
       "        vertical-align: top;\n",
       "    }\n",
       "\n",
       "    .dataframe thead th {\n",
       "        text-align: right;\n",
       "    }\n",
       "</style>\n",
       "<table border=\"1\" class=\"dataframe\">\n",
       "  <thead>\n",
       "    <tr style=\"text-align: right;\">\n",
       "      <th></th>\n",
       "      <th>Metric</th>\n",
       "      <th>Train</th>\n",
       "      <th>Test</th>\n",
       "    </tr>\n",
       "  </thead>\n",
       "  <tbody>\n",
       "    <tr>\n",
       "      <th>0</th>\n",
       "      <td>Accuracy</td>\n",
       "      <td>0.999</td>\n",
       "      <td>0.999</td>\n",
       "    </tr>\n",
       "    <tr>\n",
       "      <th>1</th>\n",
       "      <td>Recall</td>\n",
       "      <td>0.724</td>\n",
       "      <td>0.673</td>\n",
       "    </tr>\n",
       "    <tr>\n",
       "      <th>2</th>\n",
       "      <td>Precision</td>\n",
       "      <td>0.940</td>\n",
       "      <td>0.907</td>\n",
       "    </tr>\n",
       "    <tr>\n",
       "      <th>3</th>\n",
       "      <td>F1 Score</td>\n",
       "      <td>0.818</td>\n",
       "      <td>0.773</td>\n",
       "    </tr>\n",
       "  </tbody>\n",
       "</table>\n",
       "</div>"
      ],
      "text/plain": [
       "      Metric  Train   Test\n",
       "0   Accuracy  0.999  0.999\n",
       "1     Recall  0.724  0.673\n",
       "2  Precision  0.940  0.907\n",
       "3   F1 Score  0.818  0.773"
      ]
     },
     "execution_count": 58,
     "metadata": {},
     "output_type": "execute_result"
    }
   ],
   "source": [
    "### 5. Random Forest\n",
    "\n",
    "\n",
    "rf_df = pd.DataFrame({\"Metric\": [\"Accuracy\", \"Recall\", \"Precision\", \"F1 Score\"],\n",
    "                       \"Train\":[accuracy_score(y_train, rf_y_train), recall_score(y_train, rf_y_train), precision_score(y_train, rf_y_train), f1_score(y_train, rf_y_train)],\n",
    "                       \"Test\": [accuracy_score(y_test, rf_yhat), recall_score(y_test, rf_yhat), precision_score(y_test, rf_yhat), f1_score(y_test, rf_yhat)]\n",
    "})\n",
    "\n",
    "rf_df"
   ]
  },
  {
   "cell_type": "markdown",
   "metadata": {},
   "source": [
    "- ROC Curve for each model\n",
    "\n",
    "    - Probablity of Fraud happening for each model"
   ]
  },
  {
   "cell_type": "code",
   "execution_count": 59,
   "metadata": {},
   "outputs": [
    {
     "name": "stdout",
     "output_type": "stream",
     "text": [
      "--- 1.903327226638794 seconds ---\n"
     ]
    }
   ],
   "source": [
    "#### 1. Decision Tree\n",
    "\n",
    "tree_model_pred_test_prob = tree_model.predict_proba(X_test)[:, 1]\n",
    "\n",
    "print(\"--- %s seconds ---\" % (time.time() - start_time))"
   ]
  },
  {
   "cell_type": "code",
   "execution_count": 60,
   "metadata": {},
   "outputs": [
    {
     "name": "stdout",
     "output_type": "stream",
     "text": [
      "--- 247.95620107650757 seconds ---\n"
     ]
    }
   ],
   "source": [
    "#### 2. KNN\n",
    "\n",
    "knn_pred_test_prob = knn.predict_proba(X_test)[:, 1]\n",
    "\n",
    "print(\"--- %s seconds ---\" % (time.time() - start_time))"
   ]
  },
  {
   "cell_type": "code",
   "execution_count": 61,
   "metadata": {},
   "outputs": [
    {
     "name": "stdout",
     "output_type": "stream",
     "text": [
      "--- 247.9820396900177 seconds ---\n"
     ]
    }
   ],
   "source": [
    "### 3. logistic Regression\n",
    "\n",
    "lr_pred_test_prob = lr.predict_proba(X_test)[:, 1]\n",
    "\n",
    "print(\"--- %s seconds ---\" % (time.time() - start_time))"
   ]
  },
  {
   "cell_type": "code",
   "execution_count": 62,
   "metadata": {},
   "outputs": [
    {
     "name": "stdout",
     "output_type": "stream",
     "text": [
      "--- 266.01413774490356 seconds ---\n"
     ]
    }
   ],
   "source": [
    "### 4. SVM\n",
    "\n",
    "svm_pred_test_prob = svm.predict_proba(X_test)[:, 1]\n",
    "\n",
    "print(\"--- %s seconds ---\" % (time.time() - start_time))"
   ]
  },
  {
   "cell_type": "code",
   "execution_count": 63,
   "metadata": {},
   "outputs": [
    {
     "name": "stdout",
     "output_type": "stream",
     "text": [
      "--- 266.29494976997375 seconds ---\n"
     ]
    }
   ],
   "source": [
    "### 5. Random Forest\n",
    "\n",
    "rf_pred_test_prob = rf.predict_proba(X_test)[:, 1]\n",
    "\n",
    "print(\"--- %s seconds ---\" % (time.time() - start_time))"
   ]
  },
  {
   "cell_type": "markdown",
   "metadata": {},
   "source": [
    "- Defining Roc Curve and AUC score for each model"
   ]
  },
  {
   "cell_type": "code",
   "execution_count": 64,
   "metadata": {},
   "outputs": [
    {
     "data": {
      "image/png": "[encoded data removed]",
      "text/plain": [
       "<Figure size 1080x720 with 1 Axes>"
      ]
     },
     "metadata": {
      "needs_background": "light"
     },
     "output_type": "display_data"
    },
    {
     "name": "stdout",
     "output_type": "stream",
     "text": [
      "Optimal threshold of Decision Tree:0.013\n",
      "Optimal threshold of KNN Model:0.200\n",
      "Optimal threshold of Logistic Regression Model:0.002\n",
      "Optimal threshold of SVM Model:0.001\n",
      "Optimal threshold of Random Forest Model:0.006\n"
     ]
    }
   ],
   "source": [
    "plt.figure(figsize=(15,10))\n",
    "\n",
    "plt.plot([0,1],[0,1], 'k--')\n",
    "\n",
    "\n",
    "#### Decision Tree\n",
    "\n",
    "fp1 , tp1, thresholds1 = roc_curve(y_test, tree_model_pred_test_prob)\n",
    "\n",
    "tree_model_auc = roc_auc_score(y_test, tree_model_pred_test_prob)\n",
    "\n",
    "plt.plot(fp1, tp1, label= \"AUC of DT = %.5f\" % tree_model_auc )\n",
    "\n",
    "cutoff=np.argmax(np.abs(tp1-fp1)) \n",
    "\n",
    "optimal_threshold_1 = thresholds1[cutoff]\n",
    "\n",
    "\n",
    "#### KNN Model\n",
    "\n",
    "fp2 , tp2, thresholds2 = roc_curve(y_test, knn_pred_test_prob)\n",
    "\n",
    "knn_model_auc = roc_auc_score(y_test, knn_pred_test_prob)\n",
    "\n",
    "plt.plot(fp2, tp2, label= \"AUC of KNN = %.5f\" % knn_model_auc)\n",
    "\n",
    "cutoff=np.argmax(np.abs(tp2-fp2)) \n",
    "\n",
    "optimal_threshold_2 = thresholds2[cutoff]\n",
    "\n",
    "\n",
    "#### Logistic Regression\n",
    "\n",
    "fp3 , tp3, thresholds3 = roc_curve(y_test, lr_pred_test_prob)\n",
    "\n",
    "lr_model_auc = roc_auc_score(y_test, lr_pred_test_prob)\n",
    "\n",
    "plt.plot(fp3, tp3, label= \"AUC of LR = %.5f\" % lr_model_auc)\n",
    "\n",
    "cutoff=np.argmax(np.abs(tp3-fp3)) \n",
    "\n",
    "optimal_threshold_3 = thresholds3[cutoff]\n",
    "\n",
    "\n",
    "### SVM\n",
    "\n",
    "fp4 , tp4, thresholds4 = roc_curve(y_test, svm_pred_test_prob)\n",
    "\n",
    "svm_model_auc = roc_auc_score(y_test, svm_pred_test_prob)\n",
    "\n",
    "plt.plot(fp4, tp4, label= \"AUC of SVM = %.5f\" % svm_model_auc)\n",
    "\n",
    "cutoff=np.argmax(np.abs(tp4-fp4)) \n",
    "\n",
    "optimal_threshold_4 = thresholds4[cutoff]\n",
    "\n",
    "\n",
    "### Random Forest\n",
    "\n",
    "fp5 , tp5, thresholds5 = roc_curve(y_test, rf_pred_test_prob)\n",
    "\n",
    "rf_model_auc = roc_auc_score(y_test, rf_pred_test_prob)\n",
    "\n",
    "plt.plot(fp5, tp5, label= \"AUC of RF = %.5f\" % rf_model_auc)\n",
    "\n",
    "cutoff=np.argmax(np.abs(tp5-fp5)) \n",
    "\n",
    "optimal_threshold_5 = thresholds5[cutoff]\n",
    "\n",
    "\n",
    "\n",
    "#### Additional plot elements\n",
    "\n",
    "plt.legend()\n",
    "\n",
    "plt.xlabel(\"False Positive Rate\")\n",
    "\n",
    "plt.ylabel(\"True Positive Rate\")\n",
    "\n",
    "plt.title('Receiver Operating Characteristic curve of each classification model')\n",
    "\n",
    "plt.grid()\n",
    "\n",
    "plt.show()\n",
    "\n",
    "print(\"Optimal threshold of Decision Tree:{0:.3f}\".format(optimal_threshold_1))\n",
    "print(\"Optimal threshold of KNN Model:{0:.3f}\".format(optimal_threshold_2))\n",
    "print(\"Optimal threshold of Logistic Regression Model:{0:.3f}\".format(optimal_threshold_3))\n",
    "print(\"Optimal threshold of SVM Model:{0:.3f}\".format(optimal_threshold_4))\n",
    "print(\"Optimal threshold of Random Forest Model:{0:.3f}\".format(optimal_threshold_5))"
   ]
  },
  {
   "cell_type": "markdown",
   "metadata": {},
   "source": [
    "- AUC Score Dataframe"
   ]
  },
  {
   "cell_type": "code",
   "execution_count": 65,
   "metadata": {},
   "outputs": [
    {
     "data": {
      "text/html": [
       "<div>\n",
       "<style scoped>\n",
       "    .dataframe tbody tr th:only-of-type {\n",
       "        vertical-align: middle;\n",
       "    }\n",
       "\n",
       "    .dataframe tbody tr th {\n",
       "        vertical-align: top;\n",
       "    }\n",
       "\n",
       "    .dataframe thead th {\n",
       "        text-align: right;\n",
       "    }\n",
       "</style>\n",
       "<table border=\"1\" class=\"dataframe\">\n",
       "  <thead>\n",
       "    <tr style=\"text-align: right;\">\n",
       "      <th></th>\n",
       "      <th>Classification Model</th>\n",
       "      <th>AUC</th>\n",
       "      <th>Optimal Threshold</th>\n",
       "    </tr>\n",
       "  </thead>\n",
       "  <tbody>\n",
       "    <tr>\n",
       "      <th>0</th>\n",
       "      <td>Decision Tree</td>\n",
       "      <td>0.951</td>\n",
       "      <td>0.013</td>\n",
       "    </tr>\n",
       "    <tr>\n",
       "      <th>1</th>\n",
       "      <td>KNN</td>\n",
       "      <td>0.936</td>\n",
       "      <td>0.200</td>\n",
       "    </tr>\n",
       "    <tr>\n",
       "      <th>2</th>\n",
       "      <td>Logistic Regression</td>\n",
       "      <td>0.978</td>\n",
       "      <td>0.002</td>\n",
       "    </tr>\n",
       "    <tr>\n",
       "      <th>3</th>\n",
       "      <td>SVM</td>\n",
       "      <td>0.931</td>\n",
       "      <td>0.001</td>\n",
       "    </tr>\n",
       "    <tr>\n",
       "      <th>4</th>\n",
       "      <td>Random Forest</td>\n",
       "      <td>0.969</td>\n",
       "      <td>0.006</td>\n",
       "    </tr>\n",
       "  </tbody>\n",
       "</table>\n",
       "</div>"
      ],
      "text/plain": [
       "  Classification Model    AUC  Optimal Threshold\n",
       "0        Decision Tree  0.951              0.013\n",
       "1                  KNN  0.936              0.200\n",
       "2  Logistic Regression  0.978              0.002\n",
       "3                  SVM  0.931              0.001\n",
       "4        Random Forest  0.969              0.006"
      ]
     },
     "execution_count": 65,
     "metadata": {},
     "output_type": "execute_result"
    }
   ],
   "source": [
    "auc = pd.DataFrame({\"Classification Model\": [\"Decision Tree\", \"KNN\", \"Logistic Regression\", \"SVM\", \"Random Forest\"],\n",
    "                       \"AUC\":[tree_model_auc, knn_model_auc, lr_model_auc, svm_model_auc, rf_model_auc],\n",
    "                       \"Optimal Threshold\":[optimal_threshold_1, optimal_threshold_2, optimal_threshold_3, optimal_threshold_4, optimal_threshold_5]\n",
    "                   })\n",
    "auc"
   ]
  },
  {
   "cell_type": "markdown",
   "metadata": {},
   "source": [
    "- Smote"
   ]
  },
  {
   "cell_type": "code",
   "execution_count": 66,
   "metadata": {},
   "outputs": [],
   "source": [
    "df_copy = df.copy(deep=True)"
   ]
  },
  {
   "cell_type": "code",
   "execution_count": 67,
   "metadata": {},
   "outputs": [
    {
     "data": {
      "text/plain": [
       "array([[-1.35980713e+00, -7.27811733e-02,  2.53634674e+00, ...,\n",
       "         1.33558377e-01, -2.10530535e-02,  2.44964263e-01],\n",
       "       [ 1.19185711e+00,  2.66150712e-01,  1.66480113e-01, ...,\n",
       "        -8.98309914e-03,  1.47241692e-02, -3.42474541e-01],\n",
       "       [-1.35835406e+00, -1.34016307e+00,  1.77320934e+00, ...,\n",
       "        -5.53527940e-02, -5.97518406e-02,  1.16068593e+00],\n",
       "       ...,\n",
       "       [ 1.91956501e+00, -3.01253846e-01, -3.24963981e+00, ...,\n",
       "         4.45477214e-03, -2.65608286e-02, -8.18393021e-02],\n",
       "       [-2.40440050e-01,  5.30482513e-01,  7.02510230e-01, ...,\n",
       "         1.08820735e-01,  1.04532821e-01, -3.13248531e-01],\n",
       "       [-5.33412522e-01, -1.89733337e-01,  7.03337367e-01, ...,\n",
       "        -2.41530880e-03,  1.36489143e-02,  5.14355311e-01]])"
      ]
     },
     "execution_count": 67,
     "metadata": {},
     "output_type": "execute_result"
    }
   ],
   "source": [
    "X"
   ]
  },
  {
   "cell_type": "code",
   "execution_count": 68,
   "metadata": {},
   "outputs": [],
   "source": [
    "# Dataframe for scaling\n",
    "tempDF = df_copy.copy(deep=True)\n",
    "tempDF.drop(columns='Class', inplace=True)\n",
    "\n",
    "# Normalize training/test data\n",
    "scaler = MinMaxScaler(feature_range=(0, 1))\n",
    "tempDF_scaled = scaler.fit_transform(tempDF)\n",
    "X_train_scaled = scaler.transform(X_train)\n",
    "X_test_scaled = scaler.transform(X_test)"
   ]
  },
  {
   "cell_type": "code",
   "execution_count": 69,
   "metadata": {},
   "outputs": [
    {
     "name": "stdout",
     "output_type": "stream",
     "text": [
      "Counter({0: 227454, 1: 391})\n"
     ]
    },
    {
     "data": {
      "text/plain": [
       "<matplotlib.axes._subplots.AxesSubplot at 0x16c82b4bc70>"
      ]
     },
     "execution_count": 69,
     "metadata": {},
     "output_type": "execute_result"
    },
    {
     "data": {
      "image/png": "[encoded data removed]",
      "text/plain": [
       "<Figure size 432x288 with 1 Axes>"
      ]
     },
     "metadata": {
      "needs_background": "light"
     },
     "output_type": "display_data"
    }
   ],
   "source": [
    "# Display target balance in the training dataset\n",
    "print(collections.Counter(y_train))\n",
    "sns.countplot(x=\"Class\", data=pd.DataFrame(data={'Class':y_train}))"
   ]
  },
  {
   "cell_type": "code",
   "execution_count": 70,
   "metadata": {},
   "outputs": [
    {
     "name": "stdout",
     "output_type": "stream",
     "text": [
      "Counter({0: 227454, 1: 227454})\n"
     ]
    },
    {
     "data": {
      "text/plain": [
       "<matplotlib.axes._subplots.AxesSubplot at 0x16c82d271f0>"
      ]
     },
     "execution_count": 70,
     "metadata": {},
     "output_type": "execute_result"
    },
    {
     "data": {
      "image/png": "[encoded data removed]",
      "text/plain": [
       "<Figure size 432x288 with 1 Axes>"
      ]
     },
     "metadata": {
      "needs_background": "light"
     },
     "output_type": "display_data"
    }
   ],
   "source": [
    "# Import package\n",
    "\n",
    "# Applyting SMOTE to generare new instances (oversampling)\n",
    "sm = SMOTE(random_state=123, sampling_strategy=1.0)\n",
    "X_train_scaled2, y_train2 = sm.fit_resample(X_train_scaled, y_train)\n",
    "\n",
    "# Display target balance in the training dataset\n",
    "print(collections.Counter(y_train2))\n",
    "sns.countplot(x=\"y\", data=pd.DataFrame(data={'y':y_train2}))"
   ]
  },
  {
   "cell_type": "markdown",
   "metadata": {},
   "source": [
    "- Decision Tree"
   ]
  },
  {
   "cell_type": "code",
   "execution_count": 71,
   "metadata": {},
   "outputs": [
    {
     "name": "stdout",
     "output_type": "stream",
     "text": [
      "--- 268.0967061519623 seconds ---\n"
     ]
    }
   ],
   "source": [
    "# Create object and train the model\n",
    "classModel = KNeighborsClassifier(n_neighbors=5)\n",
    "classModel.fit(X_train_scaled2, y_train2) # train the model (not training in reality)\n",
    "print(\"--- %s seconds ---\" % (time.time() - start_time))"
   ]
  },
  {
   "cell_type": "code",
   "execution_count": 75,
   "metadata": {},
   "outputs": [
    {
     "name": "stdout",
     "output_type": "stream",
     "text": [
      "--- 4775.251606464386 seconds ---\n"
     ]
    }
   ],
   "source": [
    "# predict y for X_train and X_test\n",
    "y_pred_train = classModel.predict(X_train_scaled2) \n",
    "y_pred_test = classModel.predict(X_test_scaled) \n",
    "print(\"--- %s seconds ---\" % (time.time() - start_time))"
   ]
  },
  {
   "cell_type": "code",
   "execution_count": 76,
   "metadata": {},
   "outputs": [
    {
     "name": "stdout",
     "output_type": "stream",
     "text": [
      "--- 4775.313987970352 seconds ---\n"
     ]
    }
   ],
   "source": [
    "# Function to create dataframe with metrics\n",
    "def performanceMetricsDF(metricsObj, yTrain, yPredTrain, yTest, yPredTest):\n",
    "  measures_list = ['ACCURACY','PRECISION', 'RECALL']\n",
    "  train_results = [metricsObj.accuracy_score(yTrain, yPredTrain),\n",
    "                metricsObj.precision_score(yTrain, yPredTrain),\n",
    "                metricsObj.recall_score(yTrain, yPredTrain)]\n",
    "  test_results = [metricsObj.accuracy_score(yTest, yPredTest),\n",
    "               metricsObj.precision_score(yTest, yPredTest),\n",
    "               metricsObj.recall_score(yTest, yPredTest)]\n",
    "  resultsDF = pd.DataFrame({'Measure': measures_list, 'Train': train_results, 'Test':test_results})\n",
    "  return(resultsDF)\n",
    "print(\"--- %s seconds ---\" % (time.time() - start_time))"
   ]
  },
  {
   "cell_type": "code",
   "execution_count": 77,
   "metadata": {},
   "outputs": [],
   "source": [
    "# Function to plot confusion matrix - Adapted from https://github.com/DTrimarchi10/confusion_matrix/blob/master/cf_matrix.py\n",
    "def make_confusion_matrix(cf,\n",
    "                          group_names=None,\n",
    "                          categories='auto',\n",
    "                          count=True,\n",
    "                          percent=True,\n",
    "                          cbar=True,\n",
    "                          xyticks=True,\n",
    "                          xyplotlabels=True,\n",
    "                          sum_stats=True,\n",
    "                          figsize=None,\n",
    "                          cmap='Blues',\n",
    "                          title=None):\n",
    "    '''\n",
    "    This function will make a pretty plot of an sklearn Confusion Matrix cm using a Seaborn heatmap visualization.\n",
    "    Arguments\n",
    "    ---------\n",
    "    cf:            confusion matrix to be passed in\n",
    "    group_names:   List of strings that represent the labels row by row to be shown in each square.\n",
    "    categories:    List of strings containing the categories to be displayed on the x,y axis. Default is 'auto'\n",
    "    count:         If True, show the raw number in the confusion matrix. Default is True.\n",
    "    normalize:     If True, show the proportions for each category. Default is True.\n",
    "    cbar:          If True, show the color bar. The cbar values are based off the values in the confusion matrix.\n",
    "                   Default is True.\n",
    "    xyticks:       If True, show x and y ticks. Default is True.\n",
    "    xyplotlabels:  If True, show 'True Label' and 'Predicted Label' on the figure. Default is True.\n",
    "    sum_stats:     If True, display summary statistics below the figure. Default is True.\n",
    "    figsize:       Tuple representing the figure size. Default will be the matplotlib rcParams value.\n",
    "    cmap:          Colormap of the values displayed from matplotlib.pyplot.cm. Default is 'Blues'\n",
    "                   See http://matplotlib.org/examples/color/colormaps_reference.html\n",
    "                   \n",
    "    title:         Title for the heatmap. Default is None.\n",
    "    '''\n",
    "\n",
    "\n",
    "    # CODE TO GENERATE TEXT INSIDE EACH SQUARE\n",
    "    blanks = ['' for i in range(cf.size)]\n",
    "\n",
    "    if group_names and len(group_names)==cf.size:\n",
    "        group_labels = [\"{}\\n\".format(value) for value in group_names]\n",
    "    else:\n",
    "        group_labels = blanks\n",
    "\n",
    "    if count:\n",
    "        group_counts = [\"{0:0.0f}\\n\".format(value) for value in cf.flatten()]\n",
    "    else:\n",
    "        group_counts = blanks\n",
    "\n",
    "    if percent:\n",
    "        group_percentages = [\"{0:.2%}\".format(value) for value in cf.flatten()/np.sum(cf)]\n",
    "    else:\n",
    "        group_percentages = blanks\n",
    "\n",
    "    box_labels = [f\"{v1}{v2}{v3}\".strip() for v1, v2, v3 in zip(group_labels,group_counts,group_percentages)]\n",
    "    box_labels = np.asarray(box_labels).reshape(cf.shape[0],cf.shape[1])\n",
    "\n",
    "\n",
    "    # CODE TO GENERATE SUMMARY STATISTICS & TEXT FOR SUMMARY STATS\n",
    "    if sum_stats:\n",
    "        #Accuracy is sum of diagonal divided by total observations\n",
    "        accuracy  = np.trace(cf) / float(np.sum(cf))\n",
    "\n",
    "        #if it is a binary confusion matrix, show some more stats\n",
    "        if len(cf)==2:\n",
    "            #Metrics for Binary Confusion Matrices\n",
    "            precision = cf[1,1] / sum(cf[:,1])\n",
    "            recall    = cf[1,1] / sum(cf[1,:])\n",
    "            f1_score  = 2*precision*recall / (precision + recall)\n",
    "            stats_text = \"\\n\\nAccuracy={:0.3f}\\nPrecision={:0.3f}\\nRecall={:0.3f}\\nF1 Score={:0.3f}\".format(\n",
    "                accuracy,precision,recall,f1_score)\n",
    "        else:\n",
    "            stats_text = \"\\n\\nAccuracy={:0.3f}\".format(accuracy)\n",
    "    else:\n",
    "        stats_text = \"\"\n",
    "\n",
    "\n",
    "    # SET FIGURE PARAMETERS ACCORDING TO OTHER ARGUMENTS\n",
    "    if figsize==None:\n",
    "        #Get default figure size if not set\n",
    "        figsize = plt.rcParams.get('figure.figsize')\n",
    "\n",
    "    if xyticks==False:\n",
    "        #Do not show categories if xyticks is False\n",
    "        categories=False\n",
    "\n",
    "\n",
    "    # MAKE THE HEATMAP VISUALIZATION\n",
    "    plt.figure(figsize=figsize)\n",
    "    ax = sns.heatmap(cf,annot=box_labels, fmt=\"\",cmap=cmap,cbar=cbar,xticklabels=categories,yticklabels=categories)\n",
    "    bottom, top = ax.get_ylim() # These two lines were added due to bug on current Seaborn version\n",
    "    ax.set_ylim(bottom + 0.5, top - 0.5) #\n",
    "\n",
    "    if xyplotlabels:\n",
    "        plt.ylabel('True label')\n",
    "        plt.xlabel('Predicted label' + stats_text)\n",
    "    else:\n",
    "        plt.xlabel(stats_text)\n",
    "    \n",
    "    if title:\n",
    "        plt.title(title)"
   ]
  },
  {
   "cell_type": "code",
   "execution_count": 78,
   "metadata": {},
   "outputs": [
    {
     "data": {
      "image/png": "[encoded data removed]",
      "text/plain": [
       "<Figure size 432x288 with 2 Axes>"
      ]
     },
     "metadata": {
      "needs_background": "light"
     },
     "output_type": "display_data"
    }
   ],
   "source": [
    "# Show the confusion matrix\n",
    "cf = metrics.confusion_matrix(y_test,y_pred_test)\n",
    "labels = ['True Neg','False Pos','False Neg','True Pos']\n",
    "categories = ['0', '1']\n",
    "make_confusion_matrix(cf, \n",
    "                      group_names=labels,\n",
    "                      categories=categories, \n",
    "                      cmap='Blues')"
   ]
  },
  {
   "cell_type": "code",
   "execution_count": 79,
   "metadata": {},
   "outputs": [
    {
     "data": {
      "text/html": [
       "<div>\n",
       "<style scoped>\n",
       "    .dataframe tbody tr th:only-of-type {\n",
       "        vertical-align: middle;\n",
       "    }\n",
       "\n",
       "    .dataframe tbody tr th {\n",
       "        vertical-align: top;\n",
       "    }\n",
       "\n",
       "    .dataframe thead th {\n",
       "        text-align: right;\n",
       "    }\n",
       "</style>\n",
       "<table border=\"1\" class=\"dataframe\">\n",
       "  <thead>\n",
       "    <tr style=\"text-align: right;\">\n",
       "      <th></th>\n",
       "      <th>Measure</th>\n",
       "      <th>Train</th>\n",
       "      <th>Test</th>\n",
       "    </tr>\n",
       "  </thead>\n",
       "  <tbody>\n",
       "    <tr>\n",
       "      <th>0</th>\n",
       "      <td>ACCURACY</td>\n",
       "      <td>0.999</td>\n",
       "      <td>0.998</td>\n",
       "    </tr>\n",
       "    <tr>\n",
       "      <th>1</th>\n",
       "      <td>PRECISION</td>\n",
       "      <td>0.999</td>\n",
       "      <td>0.518</td>\n",
       "    </tr>\n",
       "    <tr>\n",
       "      <th>2</th>\n",
       "      <td>RECALL</td>\n",
       "      <td>1.000</td>\n",
       "      <td>0.861</td>\n",
       "    </tr>\n",
       "  </tbody>\n",
       "</table>\n",
       "</div>"
      ],
      "text/plain": [
       "     Measure  Train   Test\n",
       "0   ACCURACY  0.999  0.998\n",
       "1  PRECISION  0.999  0.518\n",
       "2     RECALL  1.000  0.861"
      ]
     },
     "execution_count": 79,
     "metadata": {},
     "output_type": "execute_result"
    }
   ],
   "source": [
    "resultsDF = performanceMetricsDF(metrics, y_train2, y_pred_train, y_test, y_pred_test)\n",
    "resultsDF"
   ]
  },
  {
   "cell_type": "code",
   "execution_count": 80,
   "metadata": {},
   "outputs": [
    {
     "data": {
      "image/png": "[encoded data removed]",
      "text/plain": [
       "<Figure size 432x288 with 1 Axes>"
      ]
     },
     "metadata": {
      "needs_background": "light"
     },
     "output_type": "display_data"
    },
    {
     "name": "stdout",
     "output_type": "stream",
     "text": [
      "AUC:0.935\n",
      "Optimal threshold:0.400\n"
     ]
    }
   ],
   "source": [
    "# ROC curve\n",
    "probs = classModel.predict_proba(X_test_scaled)\n",
    "FP,TP,thresholds = metrics.roc_curve(y_test,probs[:,1])\n",
    "plt.plot(FP,TP,label=\"ROC\")\n",
    "plt.xlabel(\"False Positive Rate  \\n(probability of false alarm)\")\n",
    "plt.ylabel(\"True Positive Rate/Sensitivity/Recall \\n(probability of detection)\")\n",
    "cutoff=np.argmax(np.abs(TP-FP)) \n",
    "optimal_threshold = thresholds[cutoff]\n",
    "plt.show()\n",
    "print(\"AUC:{0:.3f}\".format(metrics.auc(FP, TP)))\n",
    "print(\"Optimal threshold:{0:.3f}\".format(optimal_threshold))"
   ]
  },
  {
   "cell_type": "markdown",
   "metadata": {},
   "source": [
    "- KNN Evaluation"
   ]
  },
  {
   "cell_type": "code",
   "execution_count": 81,
   "metadata": {},
   "outputs": [
    {
     "name": "stdout",
     "output_type": "stream",
     "text": [
      "--- 5214.2535083293915 seconds ---\n"
     ]
    }
   ],
   "source": [
    "# Create object and train the model\n",
    "classModel = KNeighborsClassifier(n_neighbors=5)\n",
    "classModel.fit(X_train_scaled2, y_train2) # train the model (not training in reality)\n",
    "print(\"--- %s seconds ---\" % (time.time() - start_time))"
   ]
  },
  {
   "cell_type": "code",
   "execution_count": 82,
   "metadata": {},
   "outputs": [
    {
     "name": "stdout",
     "output_type": "stream",
     "text": [
      "--- 9254.92974948883 seconds ---\n"
     ]
    }
   ],
   "source": [
    "# predict y for X_train and X_test\n",
    "y_pred_train = classModel.predict(X_train_scaled2) \n",
    "y_pred_test = classModel.predict(X_test_scaled) \n",
    "print(\"--- %s seconds ---\" % (time.time() - start_time))"
   ]
  },
  {
   "cell_type": "code",
   "execution_count": 83,
   "metadata": {},
   "outputs": [],
   "source": [
    "# Function to create dataframe with metrics\n",
    "def performanceMetricsDF(metricsObj, yTrain, yPredTrain, yTest, yPredTest):\n",
    "  measures_list = ['ACCURACY','PRECISION', 'RECALL']\n",
    "  train_results = [metricsObj.accuracy_score(yTrain, yPredTrain),\n",
    "                metricsObj.precision_score(yTrain, yPredTrain),\n",
    "                metricsObj.recall_score(yTrain, yPredTrain)]\n",
    "  test_results = [metricsObj.accuracy_score(yTest, yPredTest),\n",
    "               metricsObj.precision_score(yTest, yPredTest),\n",
    "               metricsObj.recall_score(yTest, yPredTest)]\n",
    "  resultsDF = pd.DataFrame({'Measure': measures_list, 'Train': train_results, 'Test':test_results})\n",
    "  return(resultsDF)"
   ]
  },
  {
   "cell_type": "code",
   "execution_count": 84,
   "metadata": {},
   "outputs": [],
   "source": [
    "# Function to plot confusion matrix - Adapted from https://github.com/DTrimarchi10/confusion_matrix/blob/master/cf_matrix.py\n",
    "def make_confusion_matrix(cf,\n",
    "                          group_names=None,\n",
    "                          categories='auto',\n",
    "                          count=True,\n",
    "                          percent=True,\n",
    "                          cbar=True,\n",
    "                          xyticks=True,\n",
    "                          xyplotlabels=True,\n",
    "                          sum_stats=True,\n",
    "                          figsize=None,\n",
    "                          cmap='Blues',\n",
    "                          title=None):\n",
    "    '''\n",
    "    This function will make a pretty plot of an sklearn Confusion Matrix cm using a Seaborn heatmap visualization.\n",
    "    Arguments\n",
    "    ---------\n",
    "    cf:            confusion matrix to be passed in\n",
    "    group_names:   List of strings that represent the labels row by row to be shown in each square.\n",
    "    categories:    List of strings containing the categories to be displayed on the x,y axis. Default is 'auto'\n",
    "    count:         If True, show the raw number in the confusion matrix. Default is True.\n",
    "    normalize:     If True, show the proportions for each category. Default is True.\n",
    "    cbar:          If True, show the color bar. The cbar values are based off the values in the confusion matrix.\n",
    "                   Default is True.\n",
    "    xyticks:       If True, show x and y ticks. Default is True.\n",
    "    xyplotlabels:  If True, show 'True Label' and 'Predicted Label' on the figure. Default is True.\n",
    "    sum_stats:     If True, display summary statistics below the figure. Default is True.\n",
    "    figsize:       Tuple representing the figure size. Default will be the matplotlib rcParams value.\n",
    "    cmap:          Colormap of the values displayed from matplotlib.pyplot.cm. Default is 'Blues'\n",
    "                   See http://matplotlib.org/examples/color/colormaps_reference.html\n",
    "                   \n",
    "    title:         Title for the heatmap. Default is None.\n",
    "    '''\n",
    "\n",
    "\n",
    "    # CODE TO GENERATE TEXT INSIDE EACH SQUARE\n",
    "    blanks = ['' for i in range(cf.size)]\n",
    "\n",
    "    if group_names and len(group_names)==cf.size:\n",
    "        group_labels = [\"{}\\n\".format(value) for value in group_names]\n",
    "    else:\n",
    "        group_labels = blanks\n",
    "\n",
    "    if count:\n",
    "        group_counts = [\"{0:0.0f}\\n\".format(value) for value in cf.flatten()]\n",
    "    else:\n",
    "        group_counts = blanks\n",
    "\n",
    "    if percent:\n",
    "        group_percentages = [\"{0:.2%}\".format(value) for value in cf.flatten()/np.sum(cf)]\n",
    "    else:\n",
    "        group_percentages = blanks\n",
    "\n",
    "    box_labels = [f\"{v1}{v2}{v3}\".strip() for v1, v2, v3 in zip(group_labels,group_counts,group_percentages)]\n",
    "    box_labels = np.asarray(box_labels).reshape(cf.shape[0],cf.shape[1])\n",
    "\n",
    "\n",
    "    # CODE TO GENERATE SUMMARY STATISTICS & TEXT FOR SUMMARY STATS\n",
    "    if sum_stats:\n",
    "        #Accuracy is sum of diagonal divided by total observations\n",
    "        accuracy  = np.trace(cf) / float(np.sum(cf))\n",
    "\n",
    "        #if it is a binary confusion matrix, show some more stats\n",
    "        if len(cf)==2:\n",
    "            #Metrics for Binary Confusion Matrices\n",
    "            precision = cf[1,1] / sum(cf[:,1])\n",
    "            recall    = cf[1,1] / sum(cf[1,:])\n",
    "            f1_score  = 2*precision*recall / (precision + recall)\n",
    "            stats_text = \"\\n\\nAccuracy={:0.3f}\\nPrecision={:0.3f}\\nRecall={:0.3f}\\nF1 Score={:0.3f}\".format(\n",
    "                accuracy,precision,recall,f1_score)\n",
    "        else:\n",
    "            stats_text = \"\\n\\nAccuracy={:0.3f}\".format(accuracy)\n",
    "    else:\n",
    "        stats_text = \"\"\n",
    "\n",
    "\n",
    "    # SET FIGURE PARAMETERS ACCORDING TO OTHER ARGUMENTS\n",
    "    if figsize==None:\n",
    "        #Get default figure size if not set\n",
    "        figsize = plt.rcParams.get('figure.figsize')\n",
    "\n",
    "    if xyticks==False:\n",
    "        #Do not show categories if xyticks is False\n",
    "        categories=False\n",
    "\n",
    "\n",
    "    # MAKE THE HEATMAP VISUALIZATION\n",
    "    plt.figure(figsize=figsize)\n",
    "    ax = sns.heatmap(cf,annot=box_labels, fmt=\"\",cmap=cmap,cbar=cbar,xticklabels=categories,yticklabels=categories)\n",
    "    bottom, top = ax.get_ylim() # These two lines were added due to bug on current Seaborn version\n",
    "    ax.set_ylim(bottom + 0.5, top - 0.5) #\n",
    "\n",
    "    if xyplotlabels:\n",
    "        plt.ylabel('True label')\n",
    "        plt.xlabel('Predicted label' + stats_text)\n",
    "    else:\n",
    "        plt.xlabel(stats_text)\n",
    "    \n",
    "    if title:\n",
    "        plt.title(title)"
   ]
  },
  {
   "cell_type": "code",
   "execution_count": 85,
   "metadata": {},
   "outputs": [
    {
     "data": {
      "image/png": "[encoded data removed]",
      "text/plain": [
       "<Figure size 432x288 with 2 Axes>"
      ]
     },
     "metadata": {
      "needs_background": "light"
     },
     "output_type": "display_data"
    }
   ],
   "source": [
    "# Show the confusion matrix\n",
    "cf = metrics.confusion_matrix(y_test,y_pred_test)\n",
    "labels = ['True Neg','False Pos','False Neg','True Pos']\n",
    "categories = ['0', '1']\n",
    "make_confusion_matrix(cf, \n",
    "                      group_names=labels,\n",
    "                      categories=categories, \n",
    "                      cmap='Blues')"
   ]
  },
  {
   "cell_type": "code",
   "execution_count": 86,
   "metadata": {},
   "outputs": [
    {
     "data": {
      "text/html": [
       "<div>\n",
       "<style scoped>\n",
       "    .dataframe tbody tr th:only-of-type {\n",
       "        vertical-align: middle;\n",
       "    }\n",
       "\n",
       "    .dataframe tbody tr th {\n",
       "        vertical-align: top;\n",
       "    }\n",
       "\n",
       "    .dataframe thead th {\n",
       "        text-align: right;\n",
       "    }\n",
       "</style>\n",
       "<table border=\"1\" class=\"dataframe\">\n",
       "  <thead>\n",
       "    <tr style=\"text-align: right;\">\n",
       "      <th></th>\n",
       "      <th>Measure</th>\n",
       "      <th>Train</th>\n",
       "      <th>Test</th>\n",
       "    </tr>\n",
       "  </thead>\n",
       "  <tbody>\n",
       "    <tr>\n",
       "      <th>0</th>\n",
       "      <td>ACCURACY</td>\n",
       "      <td>0.999</td>\n",
       "      <td>0.998</td>\n",
       "    </tr>\n",
       "    <tr>\n",
       "      <th>1</th>\n",
       "      <td>PRECISION</td>\n",
       "      <td>0.999</td>\n",
       "      <td>0.518</td>\n",
       "    </tr>\n",
       "    <tr>\n",
       "      <th>2</th>\n",
       "      <td>RECALL</td>\n",
       "      <td>1.000</td>\n",
       "      <td>0.861</td>\n",
       "    </tr>\n",
       "  </tbody>\n",
       "</table>\n",
       "</div>"
      ],
      "text/plain": [
       "     Measure  Train   Test\n",
       "0   ACCURACY  0.999  0.998\n",
       "1  PRECISION  0.999  0.518\n",
       "2     RECALL  1.000  0.861"
      ]
     },
     "execution_count": 86,
     "metadata": {},
     "output_type": "execute_result"
    }
   ],
   "source": [
    "resultsDF = performanceMetricsDF(metrics, y_train2, y_pred_train, y_test, y_pred_test)\n",
    "resultsDF"
   ]
  },
  {
   "cell_type": "code",
   "execution_count": 87,
   "metadata": {},
   "outputs": [
    {
     "data": {
      "image/png": "[encoded data removed]",
      "text/plain": [
       "<Figure size 432x288 with 1 Axes>"
      ]
     },
     "metadata": {
      "needs_background": "light"
     },
     "output_type": "display_data"
    },
    {
     "name": "stdout",
     "output_type": "stream",
     "text": [
      "AUC:0.935\n",
      "Optimal threshold:0.400\n"
     ]
    }
   ],
   "source": [
    "# ROC curve\n",
    "probs = classModel.predict_proba(X_test_scaled)\n",
    "FP,TP,thresholds = metrics.roc_curve(y_test,probs[:,1])\n",
    "plt.plot(FP,TP,label=\"ROC\")\n",
    "plt.xlabel(\"False Positive Rate  \\n(probability of false alarm)\")\n",
    "plt.ylabel(\"True Positive Rate/Sensitivity/Recall \\n(probability of detection)\")\n",
    "cutoff=np.argmax(np.abs(TP-FP)) \n",
    "optimal_threshold = thresholds[cutoff]\n",
    "plt.show()\n",
    "print(\"AUC:{0:.3f}\".format(metrics.auc(FP, TP)))\n",
    "print(\"Optimal threshold:{0:.3f}\".format(optimal_threshold))"
   ]
  },
  {
   "cell_type": "markdown",
   "metadata": {},
   "source": [
    "- Logistic Regression"
   ]
  },
  {
   "cell_type": "code",
   "execution_count": 88,
   "metadata": {},
   "outputs": [
    {
     "name": "stdout",
     "output_type": "stream",
     "text": [
      "--- 9696.618718147278 seconds ---\n"
     ]
    },
    {
     "name": "stderr",
     "output_type": "stream",
     "text": [
      "C:\\Users\\raimu\\anaconda3\\lib\\site-packages\\sklearn\\linear_model\\_logistic.py:763: ConvergenceWarning: lbfgs failed to converge (status=1):\n",
      "STOP: TOTAL NO. of ITERATIONS REACHED LIMIT.\n",
      "\n",
      "Increase the number of iterations (max_iter) or scale the data as shown in:\n",
      "    https://scikit-learn.org/stable/modules/preprocessing.html\n",
      "Please also refer to the documentation for alternative solver options:\n",
      "    https://scikit-learn.org/stable/modules/linear_model.html#logistic-regression\n",
      "  n_iter_i = _check_optimize_result(\n"
     ]
    }
   ],
   "source": [
    "# Create object and train the model\n",
    "classModel = LogisticRegression()\n",
    "classModel.fit(X_train_scaled2, y_train2) # train the model (not training in reality)\n",
    "print(\"--- %s seconds ---\" % (time.time() - start_time))"
   ]
  },
  {
   "cell_type": "code",
   "execution_count": 89,
   "metadata": {},
   "outputs": [
    {
     "name": "stdout",
     "output_type": "stream",
     "text": [
      "--- 9696.669435501099 seconds ---\n"
     ]
    }
   ],
   "source": [
    "# predict y for X_train and X_test\n",
    "y_pred_train = classModel.predict(X_train_scaled2) \n",
    "y_pred_test = classModel.predict(X_test_scaled) \n",
    "print(\"--- %s seconds ---\" % (time.time() - start_time))"
   ]
  },
  {
   "cell_type": "code",
   "execution_count": 90,
   "metadata": {},
   "outputs": [],
   "source": [
    "# Function to create dataframe with metrics\n",
    "def performanceMetricsDF(metricsObj, yTrain, yPredTrain, yTest, yPredTest):\n",
    "  measures_list = ['ACCURACY','PRECISION', 'RECALL']\n",
    "  train_results = [metricsObj.accuracy_score(yTrain, yPredTrain),\n",
    "                metricsObj.precision_score(yTrain, yPredTrain),\n",
    "                metricsObj.recall_score(yTrain, yPredTrain)]\n",
    "  test_results = [metricsObj.accuracy_score(yTest, yPredTest),\n",
    "               metricsObj.precision_score(yTest, yPredTest),\n",
    "               metricsObj.recall_score(yTest, yPredTest)]\n",
    "  resultsDF = pd.DataFrame({'Measure': measures_list, 'Train': train_results, 'Test':test_results})\n",
    "  return(resultsDF)"
   ]
  },
  {
   "cell_type": "code",
   "execution_count": 91,
   "metadata": {},
   "outputs": [],
   "source": [
    "# Function to plot confusion matrix - Adapted from https://github.com/DTrimarchi10/confusion_matrix/blob/master/cf_matrix.py\n",
    "def make_confusion_matrix(cf,\n",
    "                          group_names=None,\n",
    "                          categories='auto',\n",
    "                          count=True,\n",
    "                          percent=True,\n",
    "                          cbar=True,\n",
    "                          xyticks=True,\n",
    "                          xyplotlabels=True,\n",
    "                          sum_stats=True,\n",
    "                          figsize=None,\n",
    "                          cmap='Blues',\n",
    "                          title=None):\n",
    "    '''\n",
    "    This function will make a pretty plot of an sklearn Confusion Matrix cm using a Seaborn heatmap visualization.\n",
    "    Arguments\n",
    "    ---------\n",
    "    cf:            confusion matrix to be passed in\n",
    "    group_names:   List of strings that represent the labels row by row to be shown in each square.\n",
    "    categories:    List of strings containing the categories to be displayed on the x,y axis. Default is 'auto'\n",
    "    count:         If True, show the raw number in the confusion matrix. Default is True.\n",
    "    normalize:     If True, show the proportions for each category. Default is True.\n",
    "    cbar:          If True, show the color bar. The cbar values are based off the values in the confusion matrix.\n",
    "                   Default is True.\n",
    "    xyticks:       If True, show x and y ticks. Default is True.\n",
    "    xyplotlabels:  If True, show 'True Label' and 'Predicted Label' on the figure. Default is True.\n",
    "    sum_stats:     If True, display summary statistics below the figure. Default is True.\n",
    "    figsize:       Tuple representing the figure size. Default will be the matplotlib rcParams value.\n",
    "    cmap:          Colormap of the values displayed from matplotlib.pyplot.cm. Default is 'Blues'\n",
    "                   See http://matplotlib.org/examples/color/colormaps_reference.html\n",
    "                   \n",
    "    title:         Title for the heatmap. Default is None.\n",
    "    '''\n",
    "\n",
    "\n",
    "    # CODE TO GENERATE TEXT INSIDE EACH SQUARE\n",
    "    blanks = ['' for i in range(cf.size)]\n",
    "\n",
    "    if group_names and len(group_names)==cf.size:\n",
    "        group_labels = [\"{}\\n\".format(value) for value in group_names]\n",
    "    else:\n",
    "        group_labels = blanks\n",
    "\n",
    "    if count:\n",
    "        group_counts = [\"{0:0.0f}\\n\".format(value) for value in cf.flatten()]\n",
    "    else:\n",
    "        group_counts = blanks\n",
    "\n",
    "    if percent:\n",
    "        group_percentages = [\"{0:.2%}\".format(value) for value in cf.flatten()/np.sum(cf)]\n",
    "    else:\n",
    "        group_percentages = blanks\n",
    "\n",
    "    box_labels = [f\"{v1}{v2}{v3}\".strip() for v1, v2, v3 in zip(group_labels,group_counts,group_percentages)]\n",
    "    box_labels = np.asarray(box_labels).reshape(cf.shape[0],cf.shape[1])\n",
    "\n",
    "\n",
    "    # CODE TO GENERATE SUMMARY STATISTICS & TEXT FOR SUMMARY STATS\n",
    "    if sum_stats:\n",
    "        #Accuracy is sum of diagonal divided by total observations\n",
    "        accuracy  = np.trace(cf) / float(np.sum(cf))\n",
    "\n",
    "        #if it is a binary confusion matrix, show some more stats\n",
    "        if len(cf)==2:\n",
    "            #Metrics for Binary Confusion Matrices\n",
    "            precision = cf[1,1] / sum(cf[:,1])\n",
    "            recall    = cf[1,1] / sum(cf[1,:])\n",
    "            f1_score  = 2*precision*recall / (precision + recall)\n",
    "            stats_text = \"\\n\\nAccuracy={:0.3f}\\nPrecision={:0.3f}\\nRecall={:0.3f}\\nF1 Score={:0.3f}\".format(\n",
    "                accuracy,precision,recall,f1_score)\n",
    "        else:\n",
    "            stats_text = \"\\n\\nAccuracy={:0.3f}\".format(accuracy)\n",
    "    else:\n",
    "        stats_text = \"\"\n",
    "\n",
    "\n",
    "    # SET FIGURE PARAMETERS ACCORDING TO OTHER ARGUMENTS\n",
    "    if figsize==None:\n",
    "        #Get default figure size if not set\n",
    "        figsize = plt.rcParams.get('figure.figsize')\n",
    "\n",
    "    if xyticks==False:\n",
    "        #Do not show categories if xyticks is False\n",
    "        categories=False\n",
    "\n",
    "\n",
    "    # MAKE THE HEATMAP VISUALIZATION\n",
    "    plt.figure(figsize=figsize)\n",
    "    ax = sns.heatmap(cf,annot=box_labels, fmt=\"\",cmap=cmap,cbar=cbar,xticklabels=categories,yticklabels=categories)\n",
    "    bottom, top = ax.get_ylim() # These two lines were added due to bug on current Seaborn version\n",
    "    ax.set_ylim(bottom + 0.5, top - 0.5) #\n",
    "\n",
    "    if xyplotlabels:\n",
    "        plt.ylabel('True label')\n",
    "        plt.xlabel('Predicted label' + stats_text)\n",
    "    else:\n",
    "        plt.xlabel(stats_text)\n",
    "    \n",
    "    if title:\n",
    "        plt.title(title)"
   ]
  },
  {
   "cell_type": "code",
   "execution_count": 92,
   "metadata": {},
   "outputs": [
    {
     "data": {
      "image/png": "[encoded data removed]",
      "text/plain": [
       "<Figure size 432x288 with 2 Axes>"
      ]
     },
     "metadata": {
      "needs_background": "light"
     },
     "output_type": "display_data"
    }
   ],
   "source": [
    "# Show the confusion matrix\n",
    "cf = metrics.confusion_matrix(y_test,y_pred_test)\n",
    "labels = ['True Neg','False Pos','False Neg','True Pos']\n",
    "categories = ['0', '1']\n",
    "make_confusion_matrix(cf, \n",
    "                      group_names=labels,\n",
    "                      categories=categories, \n",
    "                      cmap='Blues')"
   ]
  },
  {
   "cell_type": "code",
   "execution_count": 93,
   "metadata": {},
   "outputs": [
    {
     "data": {
      "text/html": [
       "<div>\n",
       "<style scoped>\n",
       "    .dataframe tbody tr th:only-of-type {\n",
       "        vertical-align: middle;\n",
       "    }\n",
       "\n",
       "    .dataframe tbody tr th {\n",
       "        vertical-align: top;\n",
       "    }\n",
       "\n",
       "    .dataframe thead th {\n",
       "        text-align: right;\n",
       "    }\n",
       "</style>\n",
       "<table border=\"1\" class=\"dataframe\">\n",
       "  <thead>\n",
       "    <tr style=\"text-align: right;\">\n",
       "      <th></th>\n",
       "      <th>Measure</th>\n",
       "      <th>Train</th>\n",
       "      <th>Test</th>\n",
       "    </tr>\n",
       "  </thead>\n",
       "  <tbody>\n",
       "    <tr>\n",
       "      <th>0</th>\n",
       "      <td>ACCURACY</td>\n",
       "      <td>0.942</td>\n",
       "      <td>0.976</td>\n",
       "    </tr>\n",
       "    <tr>\n",
       "      <th>1</th>\n",
       "      <td>PRECISION</td>\n",
       "      <td>0.974</td>\n",
       "      <td>0.065</td>\n",
       "    </tr>\n",
       "    <tr>\n",
       "      <th>2</th>\n",
       "      <td>RECALL</td>\n",
       "      <td>0.908</td>\n",
       "      <td>0.931</td>\n",
       "    </tr>\n",
       "  </tbody>\n",
       "</table>\n",
       "</div>"
      ],
      "text/plain": [
       "     Measure  Train   Test\n",
       "0   ACCURACY  0.942  0.976\n",
       "1  PRECISION  0.974  0.065\n",
       "2     RECALL  0.908  0.931"
      ]
     },
     "execution_count": 93,
     "metadata": {},
     "output_type": "execute_result"
    }
   ],
   "source": [
    "resultsDF = performanceMetricsDF(metrics, y_train2, y_pred_train, y_test, y_pred_test)\n",
    "resultsDF"
   ]
  },
  {
   "cell_type": "code",
   "execution_count": 94,
   "metadata": {},
   "outputs": [
    {
     "data": {
      "image/png": "[encoded data removed]",
      "text/plain": [
       "<Figure size 432x288 with 1 Axes>"
      ]
     },
     "metadata": {
      "needs_background": "light"
     },
     "output_type": "display_data"
    },
    {
     "name": "stdout",
     "output_type": "stream",
     "text": [
      "AUC:0.985\n",
      "Optimal threshold:0.597\n"
     ]
    }
   ],
   "source": [
    "# ROC curve\n",
    "probs = classModel.predict_proba(X_test_scaled)\n",
    "FP,TP,thresholds = metrics.roc_curve(y_test,probs[:,1])\n",
    "plt.plot(FP,TP,label=\"ROC\")\n",
    "plt.xlabel(\"False Positive Rate  \\n(probability of false alarm)\")\n",
    "plt.ylabel(\"True Positive Rate/Sensitivity/Recall \\n(probability of detection)\")\n",
    "cutoff=np.argmax(np.abs(TP-FP)) \n",
    "optimal_threshold = thresholds[cutoff]\n",
    "plt.show()\n",
    "print(\"AUC:{0:.3f}\".format(metrics.auc(FP, TP)))\n",
    "print(\"Optimal threshold:{0:.3f}\".format(optimal_threshold))"
   ]
  },
  {
   "cell_type": "markdown",
   "metadata": {},
   "source": [
    "- SVM"
   ]
  },
  {
   "cell_type": "code",
   "execution_count": 109,
   "metadata": {},
   "outputs": [
    {
     "name": "stdout",
     "output_type": "stream",
     "text": [
      "--- 63977.70438289642 seconds ---\n"
     ]
    }
   ],
   "source": [
    "# Create object and train the model\n",
    "classModel = SVC(probability = True)\n",
    "classModel.fit(X_train_scaled2, y_train2) # train the model (not training in reality)\n",
    "print(\"--- %s seconds ---\" % (time.time() - start_time))"
   ]
  },
  {
   "cell_type": "code",
   "execution_count": 110,
   "metadata": {},
   "outputs": [
    {
     "name": "stdout",
     "output_type": "stream",
     "text": [
      "--- 67025.1759622097 seconds ---\n"
     ]
    }
   ],
   "source": [
    "# predict y for X_train and X_test\n",
    "y_pred_train = classModel.predict(X_train_scaled2) \n",
    "y_pred_test = classModel.predict(X_test_scaled) \n",
    "print(\"--- %s seconds ---\" % (time.time() - start_time))"
   ]
  },
  {
   "cell_type": "code",
   "execution_count": 111,
   "metadata": {},
   "outputs": [],
   "source": [
    "# Function to create dataframe with metrics\n",
    "def performanceMetricsDF(metricsObj, yTrain, yPredTrain, yTest, yPredTest):\n",
    "  measures_list = ['ACCURACY','PRECISION', 'RECALL']\n",
    "  train_results = [metricsObj.accuracy_score(yTrain, yPredTrain),\n",
    "                metricsObj.precision_score(yTrain, yPredTrain),\n",
    "                metricsObj.recall_score(yTrain, yPredTrain)]\n",
    "  test_results = [metricsObj.accuracy_score(yTest, yPredTest),\n",
    "               metricsObj.precision_score(yTest, yPredTest),\n",
    "               metricsObj.recall_score(yTest, yPredTest)]\n",
    "  resultsDF = pd.DataFrame({'Measure': measures_list, 'Train': train_results, 'Test':test_results})\n",
    "  return(resultsDF)"
   ]
  },
  {
   "cell_type": "code",
   "execution_count": 112,
   "metadata": {},
   "outputs": [],
   "source": [
    "# Function to plot confusion matrix - Adapted from https://github.com/DTrimarchi10/confusion_matrix/blob/master/cf_matrix.py\n",
    "def make_confusion_matrix(cf,\n",
    "                          group_names=None,\n",
    "                          categories='auto',\n",
    "                          count=True,\n",
    "                          percent=True,\n",
    "                          cbar=True,\n",
    "                          xyticks=True,\n",
    "                          xyplotlabels=True,\n",
    "                          sum_stats=True,\n",
    "                          figsize=None,\n",
    "                          cmap='Blues',\n",
    "                          title=None):\n",
    "    '''\n",
    "    This function will make a pretty plot of an sklearn Confusion Matrix cm using a Seaborn heatmap visualization.\n",
    "    Arguments\n",
    "    ---------\n",
    "    cf:            confusion matrix to be passed in\n",
    "    group_names:   List of strings that represent the labels row by row to be shown in each square.\n",
    "    categories:    List of strings containing the categories to be displayed on the x,y axis. Default is 'auto'\n",
    "    count:         If True, show the raw number in the confusion matrix. Default is True.\n",
    "    normalize:     If True, show the proportions for each category. Default is True.\n",
    "    cbar:          If True, show the color bar. The cbar values are based off the values in the confusion matrix.\n",
    "                   Default is True.\n",
    "    xyticks:       If True, show x and y ticks. Default is True.\n",
    "    xyplotlabels:  If True, show 'True Label' and 'Predicted Label' on the figure. Default is True.\n",
    "    sum_stats:     If True, display summary statistics below the figure. Default is True.\n",
    "    figsize:       Tuple representing the figure size. Default will be the matplotlib rcParams value.\n",
    "    cmap:          Colormap of the values displayed from matplotlib.pyplot.cm. Default is 'Blues'\n",
    "                   See http://matplotlib.org/examples/color/colormaps_reference.html\n",
    "                   \n",
    "    title:         Title for the heatmap. Default is None.\n",
    "    '''\n",
    "\n",
    "\n",
    "    # CODE TO GENERATE TEXT INSIDE EACH SQUARE\n",
    "    blanks = ['' for i in range(cf.size)]\n",
    "\n",
    "    if group_names and len(group_names)==cf.size:\n",
    "        group_labels = [\"{}\\n\".format(value) for value in group_names]\n",
    "    else:\n",
    "        group_labels = blanks\n",
    "\n",
    "    if count:\n",
    "        group_counts = [\"{0:0.0f}\\n\".format(value) for value in cf.flatten()]\n",
    "    else:\n",
    "        group_counts = blanks\n",
    "\n",
    "    if percent:\n",
    "        group_percentages = [\"{0:.2%}\".format(value) for value in cf.flatten()/np.sum(cf)]\n",
    "    else:\n",
    "        group_percentages = blanks\n",
    "\n",
    "    box_labels = [f\"{v1}{v2}{v3}\".strip() for v1, v2, v3 in zip(group_labels,group_counts,group_percentages)]\n",
    "    box_labels = np.asarray(box_labels).reshape(cf.shape[0],cf.shape[1])\n",
    "\n",
    "\n",
    "    # CODE TO GENERATE SUMMARY STATISTICS & TEXT FOR SUMMARY STATS\n",
    "    if sum_stats:\n",
    "        #Accuracy is sum of diagonal divided by total observations\n",
    "        accuracy  = np.trace(cf) / float(np.sum(cf))\n",
    "\n",
    "        #if it is a binary confusion matrix, show some more stats\n",
    "        if len(cf)==2:\n",
    "            #Metrics for Binary Confusion Matrices\n",
    "            precision = cf[1,1] / sum(cf[:,1])\n",
    "            recall    = cf[1,1] / sum(cf[1,:])\n",
    "            f1_score  = 2*precision*recall / (precision + recall)\n",
    "            stats_text = \"\\n\\nAccuracy={:0.3f}\\nPrecision={:0.3f}\\nRecall={:0.3f}\\nF1 Score={:0.3f}\".format(\n",
    "                accuracy,precision,recall,f1_score)\n",
    "        else:\n",
    "            stats_text = \"\\n\\nAccuracy={:0.3f}\".format(accuracy)\n",
    "    else:\n",
    "        stats_text = \"\"\n",
    "\n",
    "\n",
    "    # SET FIGURE PARAMETERS ACCORDING TO OTHER ARGUMENTS\n",
    "    if figsize==None:\n",
    "        #Get default figure size if not set\n",
    "        figsize = plt.rcParams.get('figure.figsize')\n",
    "\n",
    "    if xyticks==False:\n",
    "        #Do not show categories if xyticks is False\n",
    "        categories=False\n",
    "\n",
    "\n",
    "    # MAKE THE HEATMAP VISUALIZATION\n",
    "    plt.figure(figsize=figsize)\n",
    "    ax = sns.heatmap(cf,annot=box_labels, fmt=\"\",cmap=cmap,cbar=cbar,xticklabels=categories,yticklabels=categories)\n",
    "    bottom, top = ax.get_ylim() # These two lines were added due to bug on current Seaborn version\n",
    "    ax.set_ylim(bottom + 0.5, top - 0.5) #\n",
    "\n",
    "    if xyplotlabels:\n",
    "        plt.ylabel('True label')\n",
    "        plt.xlabel('Predicted label' + stats_text)\n",
    "    else:\n",
    "        plt.xlabel(stats_text)\n",
    "    \n",
    "    if title:\n",
    "        plt.title(title)"
   ]
  },
  {
   "cell_type": "code",
   "execution_count": 113,
   "metadata": {},
   "outputs": [
    {
     "data": {
      "image/png": "[encoded data removed]",
      "text/plain": [
       "<Figure size 432x288 with 2 Axes>"
      ]
     },
     "metadata": {
      "needs_background": "light"
     },
     "output_type": "display_data"
    }
   ],
   "source": [
    "# Show the confusion matrix\n",
    "cf = metrics.confusion_matrix(y_test,y_pred_test)\n",
    "labels = ['True Neg','False Pos','False Neg','True Pos']\n",
    "categories = ['0', '1']\n",
    "make_confusion_matrix(cf, \n",
    "                      group_names=labels,\n",
    "                      categories=categories, \n",
    "                      cmap='Blues')"
   ]
  },
  {
   "cell_type": "code",
   "execution_count": 114,
   "metadata": {},
   "outputs": [
    {
     "data": {
      "text/html": [
       "<div>\n",
       "<style scoped>\n",
       "    .dataframe tbody tr th:only-of-type {\n",
       "        vertical-align: middle;\n",
       "    }\n",
       "\n",
       "    .dataframe tbody tr th {\n",
       "        vertical-align: top;\n",
       "    }\n",
       "\n",
       "    .dataframe thead th {\n",
       "        text-align: right;\n",
       "    }\n",
       "</style>\n",
       "<table border=\"1\" class=\"dataframe\">\n",
       "  <thead>\n",
       "    <tr style=\"text-align: right;\">\n",
       "      <th></th>\n",
       "      <th>Measure</th>\n",
       "      <th>Train</th>\n",
       "      <th>Test</th>\n",
       "    </tr>\n",
       "  </thead>\n",
       "  <tbody>\n",
       "    <tr>\n",
       "      <th>0</th>\n",
       "      <td>ACCURACY</td>\n",
       "      <td>0.965</td>\n",
       "      <td>0.986</td>\n",
       "    </tr>\n",
       "    <tr>\n",
       "      <th>1</th>\n",
       "      <td>PRECISION</td>\n",
       "      <td>0.986</td>\n",
       "      <td>0.107</td>\n",
       "    </tr>\n",
       "    <tr>\n",
       "      <th>2</th>\n",
       "      <td>RECALL</td>\n",
       "      <td>0.944</td>\n",
       "      <td>0.911</td>\n",
       "    </tr>\n",
       "  </tbody>\n",
       "</table>\n",
       "</div>"
      ],
      "text/plain": [
       "     Measure  Train   Test\n",
       "0   ACCURACY  0.965  0.986\n",
       "1  PRECISION  0.986  0.107\n",
       "2     RECALL  0.944  0.911"
      ]
     },
     "execution_count": 114,
     "metadata": {},
     "output_type": "execute_result"
    }
   ],
   "source": [
    "resultsDF = performanceMetricsDF(metrics, y_train2, y_pred_train, y_test, y_pred_test)\n",
    "resultsDF"
   ]
  },
  {
   "cell_type": "code",
   "execution_count": 115,
   "metadata": {},
   "outputs": [
    {
     "data": {
      "image/png": "[encoded data removed]",
      "text/plain": [
       "<Figure size 432x288 with 1 Axes>"
      ]
     },
     "metadata": {
      "needs_background": "light"
     },
     "output_type": "display_data"
    },
    {
     "name": "stdout",
     "output_type": "stream",
     "text": [
      "AUC:0.990\n",
      "Optimal threshold:0.365\n"
     ]
    }
   ],
   "source": [
    "# ROC curve\n",
    "probs = classModel.predict_proba(X_test_scaled)\n",
    "FP,TP,thresholds = metrics.roc_curve(y_test,probs[:,1])\n",
    "plt.plot(FP,TP,label=\"ROC\")\n",
    "plt.xlabel(\"False Positive Rate  \\n(probability of false alarm)\")\n",
    "plt.ylabel(\"True Positive Rate/Sensitivity/Recall \\n(probability of detection)\")\n",
    "cutoff=np.argmax(np.abs(TP-FP)) \n",
    "optimal_threshold = thresholds[cutoff]\n",
    "plt.show()\n",
    "print(\"AUC:{0:.3f}\".format(metrics.auc(FP, TP)))\n",
    "print(\"Optimal threshold:{0:.3f}\".format(optimal_threshold))"
   ]
  },
  {
   "cell_type": "markdown",
   "metadata": {},
   "source": [
    "- Random Forest"
   ]
  },
  {
   "cell_type": "code",
   "execution_count": 116,
   "metadata": {},
   "outputs": [
    {
     "name": "stdout",
     "output_type": "stream",
     "text": [
      "--- 67674.5430984497 seconds ---\n"
     ]
    }
   ],
   "source": [
    "# Create object and train the model\n",
    "classModel = RandomForestClassifier()\n",
    "classModel.fit(X_train_scaled2, y_train2) # train the model (not training in reality)\n",
    "print(\"--- %s seconds ---\" % (time.time() - start_time))"
   ]
  },
  {
   "cell_type": "code",
   "execution_count": 117,
   "metadata": {},
   "outputs": [
    {
     "name": "stdout",
     "output_type": "stream",
     "text": [
      "--- 67680.95721268654 seconds ---\n"
     ]
    }
   ],
   "source": [
    "# predict y for X_train and X_test\n",
    "y_pred_train = classModel.predict(X_train_scaled2) \n",
    "y_pred_test = classModel.predict(X_test_scaled) \n",
    "print(\"--- %s seconds ---\" % (time.time() - start_time))"
   ]
  },
  {
   "cell_type": "code",
   "execution_count": 118,
   "metadata": {},
   "outputs": [],
   "source": [
    "# Function to create dataframe with metrics\n",
    "def performanceMetricsDF(metricsObj, yTrain, yPredTrain, yTest, yPredTest):\n",
    "  measures_list = ['ACCURACY','PRECISION', 'RECALL']\n",
    "  train_results = [metricsObj.accuracy_score(yTrain, yPredTrain),\n",
    "                metricsObj.precision_score(yTrain, yPredTrain),\n",
    "                metricsObj.recall_score(yTrain, yPredTrain)]\n",
    "  test_results = [metricsObj.accuracy_score(yTest, yPredTest),\n",
    "               metricsObj.precision_score(yTest, yPredTest),\n",
    "               metricsObj.recall_score(yTest, yPredTest)]\n",
    "  resultsDF = pd.DataFrame({'Measure': measures_list, 'Train': train_results, 'Test':test_results})\n",
    "  return(resultsDF)"
   ]
  },
  {
   "cell_type": "code",
   "execution_count": 119,
   "metadata": {},
   "outputs": [],
   "source": [
    "# Function to plot confusion matrix - Adapted from https://github.com/DTrimarchi10/confusion_matrix/blob/master/cf_matrix.py\n",
    "def make_confusion_matrix(cf,\n",
    "                          group_names=None,\n",
    "                          categories='auto',\n",
    "                          count=True,\n",
    "                          percent=True,\n",
    "                          cbar=True,\n",
    "                          xyticks=True,\n",
    "                          xyplotlabels=True,\n",
    "                          sum_stats=True,\n",
    "                          figsize=None,\n",
    "                          cmap='Blues',\n",
    "                          title=None):\n",
    "    '''\n",
    "    This function will make a pretty plot of an sklearn Confusion Matrix cm using a Seaborn heatmap visualization.\n",
    "    Arguments\n",
    "    ---------\n",
    "    cf:            confusion matrix to be passed in\n",
    "    group_names:   List of strings that represent the labels row by row to be shown in each square.\n",
    "    categories:    List of strings containing the categories to be displayed on the x,y axis. Default is 'auto'\n",
    "    count:         If True, show the raw number in the confusion matrix. Default is True.\n",
    "    normalize:     If True, show the proportions for each category. Default is True.\n",
    "    cbar:          If True, show the color bar. The cbar values are based off the values in the confusion matrix.\n",
    "                   Default is True.\n",
    "    xyticks:       If True, show x and y ticks. Default is True.\n",
    "    xyplotlabels:  If True, show 'True Label' and 'Predicted Label' on the figure. Default is True.\n",
    "    sum_stats:     If True, display summary statistics below the figure. Default is True.\n",
    "    figsize:       Tuple representing the figure size. Default will be the matplotlib rcParams value.\n",
    "    cmap:          Colormap of the values displayed from matplotlib.pyplot.cm. Default is 'Blues'\n",
    "                   See http://matplotlib.org/examples/color/colormaps_reference.html\n",
    "                   \n",
    "    title:         Title for the heatmap. Default is None.\n",
    "    '''\n",
    "\n",
    "\n",
    "    # CODE TO GENERATE TEXT INSIDE EACH SQUARE\n",
    "    blanks = ['' for i in range(cf.size)]\n",
    "\n",
    "    if group_names and len(group_names)==cf.size:\n",
    "        group_labels = [\"{}\\n\".format(value) for value in group_names]\n",
    "    else:\n",
    "        group_labels = blanks\n",
    "\n",
    "    if count:\n",
    "        group_counts = [\"{0:0.0f}\\n\".format(value) for value in cf.flatten()]\n",
    "    else:\n",
    "        group_counts = blanks\n",
    "\n",
    "    if percent:\n",
    "        group_percentages = [\"{0:.2%}\".format(value) for value in cf.flatten()/np.sum(cf)]\n",
    "    else:\n",
    "        group_percentages = blanks\n",
    "\n",
    "    box_labels = [f\"{v1}{v2}{v3}\".strip() for v1, v2, v3 in zip(group_labels,group_counts,group_percentages)]\n",
    "    box_labels = np.asarray(box_labels).reshape(cf.shape[0],cf.shape[1])\n",
    "\n",
    "\n",
    "    # CODE TO GENERATE SUMMARY STATISTICS & TEXT FOR SUMMARY STATS\n",
    "    if sum_stats:\n",
    "        #Accuracy is sum of diagonal divided by total observations\n",
    "        accuracy  = np.trace(cf) / float(np.sum(cf))\n",
    "\n",
    "        #if it is a binary confusion matrix, show some more stats\n",
    "        if len(cf)==2:\n",
    "            #Metrics for Binary Confusion Matrices\n",
    "            precision = cf[1,1] / sum(cf[:,1])\n",
    "            recall    = cf[1,1] / sum(cf[1,:])\n",
    "            f1_score  = 2*precision*recall / (precision + recall)\n",
    "            stats_text = \"\\n\\nAccuracy={:0.3f}\\nPrecision={:0.3f}\\nRecall={:0.3f}\\nF1 Score={:0.3f}\".format(\n",
    "                accuracy,precision,recall,f1_score)\n",
    "        else:\n",
    "            stats_text = \"\\n\\nAccuracy={:0.3f}\".format(accuracy)\n",
    "    else:\n",
    "        stats_text = \"\"\n",
    "\n",
    "\n",
    "    # SET FIGURE PARAMETERS ACCORDING TO OTHER ARGUMENTS\n",
    "    if figsize==None:\n",
    "        #Get default figure size if not set\n",
    "        figsize = plt.rcParams.get('figure.figsize')\n",
    "\n",
    "    if xyticks==False:\n",
    "        #Do not show categories if xyticks is False\n",
    "        categories=False\n",
    "\n",
    "\n",
    "    # MAKE THE HEATMAP VISUALIZATION\n",
    "    plt.figure(figsize=figsize)\n",
    "    ax = sns.heatmap(cf,annot=box_labels, fmt=\"\",cmap=cmap,cbar=cbar,xticklabels=categories,yticklabels=categories)\n",
    "    bottom, top = ax.get_ylim() # These two lines were added due to bug on current Seaborn version\n",
    "    ax.set_ylim(bottom + 0.5, top - 0.5) #\n",
    "\n",
    "    if xyplotlabels:\n",
    "        plt.ylabel('True label')\n",
    "        plt.xlabel('Predicted label' + stats_text)\n",
    "    else:\n",
    "        plt.xlabel(stats_text)\n",
    "    \n",
    "    if title:\n",
    "        plt.title(title)"
   ]
  },
  {
   "cell_type": "code",
   "execution_count": 120,
   "metadata": {},
   "outputs": [
    {
     "data": {
      "image/png": "[encoded data removed]",
      "text/plain": [
       "<Figure size 432x288 with 2 Axes>"
      ]
     },
     "metadata": {
      "needs_background": "light"
     },
     "output_type": "display_data"
    }
   ],
   "source": [
    "# Show the confusion matrix\n",
    "cf = metrics.confusion_matrix(y_test,y_pred_test)\n",
    "labels = ['True Neg','False Pos','False Neg','True Pos']\n",
    "categories = ['0', '1']\n",
    "make_confusion_matrix(cf, \n",
    "                      group_names=labels,\n",
    "                      categories=categories, \n",
    "                      cmap='Blues')"
   ]
  },
  {
   "cell_type": "code",
   "execution_count": 121,
   "metadata": {},
   "outputs": [
    {
     "data": {
      "text/html": [
       "<div>\n",
       "<style scoped>\n",
       "    .dataframe tbody tr th:only-of-type {\n",
       "        vertical-align: middle;\n",
       "    }\n",
       "\n",
       "    .dataframe tbody tr th {\n",
       "        vertical-align: top;\n",
       "    }\n",
       "\n",
       "    .dataframe thead th {\n",
       "        text-align: right;\n",
       "    }\n",
       "</style>\n",
       "<table border=\"1\" class=\"dataframe\">\n",
       "  <thead>\n",
       "    <tr style=\"text-align: right;\">\n",
       "      <th></th>\n",
       "      <th>Measure</th>\n",
       "      <th>Train</th>\n",
       "      <th>Test</th>\n",
       "    </tr>\n",
       "  </thead>\n",
       "  <tbody>\n",
       "    <tr>\n",
       "      <th>0</th>\n",
       "      <td>ACCURACY</td>\n",
       "      <td>1.0</td>\n",
       "      <td>1.000</td>\n",
       "    </tr>\n",
       "    <tr>\n",
       "      <th>1</th>\n",
       "      <td>PRECISION</td>\n",
       "      <td>1.0</td>\n",
       "      <td>0.895</td>\n",
       "    </tr>\n",
       "    <tr>\n",
       "      <th>2</th>\n",
       "      <td>RECALL</td>\n",
       "      <td>1.0</td>\n",
       "      <td>0.842</td>\n",
       "    </tr>\n",
       "  </tbody>\n",
       "</table>\n",
       "</div>"
      ],
      "text/plain": [
       "     Measure  Train   Test\n",
       "0   ACCURACY    1.0  1.000\n",
       "1  PRECISION    1.0  0.895\n",
       "2     RECALL    1.0  0.842"
      ]
     },
     "execution_count": 121,
     "metadata": {},
     "output_type": "execute_result"
    }
   ],
   "source": [
    "resultsDF = performanceMetricsDF(metrics, y_train2, y_pred_train, y_test, y_pred_test)\n",
    "resultsDF"
   ]
  },
  {
   "cell_type": "code",
   "execution_count": 122,
   "metadata": {},
   "outputs": [
    {
     "data": {
      "image/png": "[encoded data removed]",
      "text/plain": [
       "<Figure size 432x288 with 1 Axes>"
      ]
     },
     "metadata": {
      "needs_background": "light"
     },
     "output_type": "display_data"
    },
    {
     "name": "stdout",
     "output_type": "stream",
     "text": [
      "AUC:0.971\n",
      "Optimal threshold:0.030\n"
     ]
    }
   ],
   "source": [
    "# ROC curve\n",
    "probs = classModel.predict_proba(X_test_scaled)\n",
    "FP,TP,thresholds = metrics.roc_curve(y_test,probs[:,1])\n",
    "plt.plot(FP,TP,label=\"ROC\")\n",
    "plt.xlabel(\"False Positive Rate  \\n(probability of false alarm)\")\n",
    "plt.ylabel(\"True Positive Rate/Sensitivity/Recall \\n(probability of detection)\")\n",
    "cutoff=np.argmax(np.abs(TP-FP)) \n",
    "optimal_threshold = thresholds[cutoff]\n",
    "plt.show()\n",
    "print(\"AUC:{0:.3f}\".format(metrics.auc(FP, TP)))\n",
    "print(\"Optimal threshold:{0:.3f}\".format(optimal_threshold))"
   ]
  }
 ],
 "metadata": {
  "kernelspec": {
   "display_name": "Python 3",
   "language": "python",
   "name": "python3"
  },
  "language_info": {
   "codemirror_mode": {
    "name": "ipython",
    "version": 3
   },
   "file_extension": ".py",
   "mimetype": "text/x-python",
   "name": "python",
   "nbconvert_exporter": "python",
   "pygments_lexer": "ipython3",
   "version": "3.8.3"
  }
 },
 "nbformat": 4,
 "nbformat_minor": 4
}
